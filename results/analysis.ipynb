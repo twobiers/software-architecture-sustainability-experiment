{
 "cells": [
  {
   "cell_type": "code",
   "execution_count": 1,
   "id": "86f310d8-5327-449b-933e-9905fd0cb33e",
   "metadata": {
    "tags": []
   },
   "outputs": [
    {
     "data": {
      "text/plain": [
       "'2.0.0'"
      ]
     },
     "execution_count": 1,
     "metadata": {},
     "output_type": "execute_result"
    }
   ],
   "source": [
    "import pandas as pd\n",
    "import numpy as np\n",
    "import matplotlib.pyplot as plt\n",
    "import seaborn as sns\n",
    "from prometheus_pandas import query\n",
    "from IPython.display import Markdown, display\n",
    "\n",
    "pd.__version__"
   ]
  },
  {
   "cell_type": "code",
   "execution_count": 2,
   "id": "fb3fa869-0942-40ec-a84a-631d0f862ccd",
   "metadata": {
    "tags": []
   },
   "outputs": [],
   "source": [
    "p = query.Prometheus('http://192.168.178.64:9090')\n",
    "step = \"1s\""
   ]
  },
  {
   "cell_type": "code",
   "execution_count": 3,
   "id": "cf8811d7-9c68-4a0e-9efb-676edf80da78",
   "metadata": {
    "tags": []
   },
   "outputs": [],
   "source": [
    "# We're scraping much more data than we actually need.\n",
    "# This is especially true for devices.\n",
    "# In this section we define which devices we actually want to analyze.\n",
    "\n",
    "NET_DEVICES=[\"docker0\",\"enp7s0\",\"lo\"]\n",
    "DISK_DEVICES=[\"sda\"]"
   ]
  },
  {
   "cell_type": "markdown",
   "id": "5e22fe5d-7ad5-429b-b4ee-12ba39570a11",
   "metadata": {
    "tags": []
   },
   "source": [
    "# Utils"
   ]
  },
  {
   "cell_type": "code",
   "execution_count": 4,
   "id": "bc1a5c57-f533-4b73-a221-60bc95dc1d54",
   "metadata": {
    "tags": []
   },
   "outputs": [],
   "source": [
    "def printmd(string):\n",
    "    display(Markdown(string))\n",
    "    \n",
    "def remove_meta_columns(df):\n",
    "    cols = [col for col in df.columns if col not in ['measurement','seconds']]\n",
    "    return df[cols]\n",
    "\n",
    "    \n",
    "def describe_measurement_dataframe(df):\n",
    "    printmd(\"### Total \")\n",
    "    display(remove_meta_columns(df).describe())\n",
    "    \n",
    "    printmd(\"### Per Measurement\")\n",
    "    display(df[df.columns.difference(['seconds'])].groupby('measurement').describe().unstack(1))\n",
    "\n",
    "def prepare_query_range_as_dataframe(measurement_no, query, start, end, step=step):\n",
    "    print(f\"[Measurement {measurement_no}] Querying '{query}' from {start} to {end} with step {step} ...\")\n",
    "    metrics = p.query_range(query, start, end, step)\n",
    "    metrics = metrics.assign(seconds=range(len(metrics)))\n",
    "    metrics = metrics.assign(measurement=measurement_no)\n",
    "    \n",
    "    summarize_outliers(metrics.reset_index())\n",
    "    \n",
    "    return metrics\n",
    "\n",
    "\n",
    "def prepare_query_metrics_as_dataframe(measurement_no, query, end):\n",
    "    print(f\"[Measurement {measurement_no}] Querying '{query}' at {end} ...\")\n",
    "    metrics = p.query(query, end).to_frame()\n",
    "    metrics.columns = ['value']\n",
    "    metrics = metrics.assign(measurement=measurement_no)\n",
    "\n",
    "    summarize_outliers(metrics.reset_index())\n",
    "    \n",
    "    return metrics\n",
    "\n",
    "\n",
    "def prepare_dataframe(query_fn, df):\n",
    "    result = [prepare_query_range_as_dataframe(idx, query_fn(start, duration, end), start, end) for idx, (start, duration, end) in enumerate(zip(df['Start'], df['Duration'], df['End']), 1)]\n",
    "    result = pd.concat(result)\n",
    "    return result\n",
    "\n",
    "\n",
    "def prepare_series(query_fn, df):\n",
    "    result = [prepare_query_metrics_as_dataframe(idx, query_fn(start, duration, end), end) for idx, (start, duration, end) in enumerate(zip(df['Start'], df['Duration'], df['End']), 1)]\n",
    "    result = pd.concat(result)\n",
    "    return result\n",
    "\n",
    "\n",
    "def mark_outliers(df, fence=2.22):\n",
    "    # Select only numeric columns\n",
    "    cols = df.select_dtypes('number').columns\n",
    "    df_sub = df.loc[:, cols]\n",
    "    \n",
    "    # Calculate IQR\n",
    "    iqr = df_sub.quantile(0.75, numeric_only=False) - df_sub.quantile(0.25, numeric_only=False)\n",
    "    lim = np.abs((df_sub - df_sub.median()) / iqr) < fence\n",
    "    \n",
    "    # Replace Outliers with NaN\n",
    "    df.loc[:, cols] = df_sub.where(lim, np.nan)\n",
    "    \n",
    "    # Replace all NaN values\n",
    "    return df\n",
    "\n",
    "\n",
    "def summarize_outliers(df, fence=2.22):\n",
    "    marked_outliers = mark_outliers(df, fence)\n",
    "    diff = df.compare(marked_outliers)\n",
    "    \n",
    "    # No Outliers, no problem\n",
    "    if diff.size == 0:\n",
    "        return\n",
    "    \n",
    "    diff.name = 'Outliers'\n",
    "    print('Outliers detected, please check manually')\n",
    "    print(diff)\n",
    "    \n",
    "\n",
    "def drop_outliers(df, fence=2.22):\n",
    "    cols = df.select_dtypes('number').columns\n",
    "    return mark_outliners(df, fence).dropna(how='any', subset=cols)"
   ]
  },
  {
   "cell_type": "markdown",
   "id": "a4afe89f-b02c-4dab-b536-47fb2e58e797",
   "metadata": {
    "tags": []
   },
   "source": [
    "# Baseline Analysis\n",
    "\n",
    "Here we take a look at the Baseline of our DUT\n"
   ]
  },
  {
   "cell_type": "code",
   "execution_count": 5,
   "id": "cb36fa9e-abf7-402c-8c44-c01b69ec54d4",
   "metadata": {
    "tags": []
   },
   "outputs": [
    {
     "data": {
      "text/html": [
       "<div>\n",
       "<style scoped>\n",
       "    .dataframe tbody tr th:only-of-type {\n",
       "        vertical-align: middle;\n",
       "    }\n",
       "\n",
       "    .dataframe tbody tr th {\n",
       "        vertical-align: top;\n",
       "    }\n",
       "\n",
       "    .dataframe thead th {\n",
       "        text-align: right;\n",
       "    }\n",
       "</style>\n",
       "<table border=\"1\" class=\"dataframe\">\n",
       "  <thead>\n",
       "    <tr style=\"text-align: right;\">\n",
       "      <th></th>\n",
       "      <th>Start</th>\n",
       "      <th>End</th>\n",
       "      <th>Duration</th>\n",
       "      <th>Energy</th>\n",
       "    </tr>\n",
       "  </thead>\n",
       "  <tbody>\n",
       "    <tr>\n",
       "      <th>0</th>\n",
       "      <td>1681634834</td>\n",
       "      <td>1681635134</td>\n",
       "      <td>5m</td>\n",
       "      <td>4</td>\n",
       "    </tr>\n",
       "  </tbody>\n",
       "</table>\n",
       "</div>"
      ],
      "text/plain": [
       "        Start         End Duration  Energy\n",
       "0  1681634834  1681635134       5m       4"
      ]
     },
     "execution_count": 5,
     "metadata": {},
     "output_type": "execute_result"
    }
   ],
   "source": [
    "bm = pd.read_csv('baseline.csv')\n",
    "bm"
   ]
  },
  {
   "cell_type": "markdown",
   "id": "1b75937a-2d07-4e38-a2ea-e41a6e19e1e6",
   "metadata": {
    "tags": []
   },
   "source": [
    "## Power Stats"
   ]
  },
  {
   "cell_type": "code",
   "execution_count": 6,
   "id": "f2ca1989-877a-4404-9f89-45eb52d27a8a",
   "metadata": {
    "tags": []
   },
   "outputs": [
    {
     "name": "stdout",
     "output_type": "stream",
     "text": [
      "[Measurement 1] Querying '{__name__=~\"epc1202PowerActive|epc1202Current|epc1202Voltage\"}' from 1681634834 to 1681635134 with step 1s ...\n"
     ]
    }
   ],
   "source": [
    "result = prepare_dataframe(lambda start,duration,end: '{__name__=~\"epc1202PowerActive|epc1202Current|epc1202Voltage\"}',bm)\n",
    "result.columns = ['Current', 'Watts', 'Voltage', 'seconds', 'measurement']"
   ]
  },
  {
   "cell_type": "code",
   "execution_count": 7,
   "id": "4d2149cd-cd19-4f96-8da0-fef098ec0483",
   "metadata": {
    "tags": []
   },
   "outputs": [
    {
     "data": {
      "text/markdown": [
       "### Total "
      ],
      "text/plain": [
       "<IPython.core.display.Markdown object>"
      ]
     },
     "metadata": {},
     "output_type": "display_data"
    },
    {
     "data": {
      "text/html": [
       "<div>\n",
       "<style scoped>\n",
       "    .dataframe tbody tr th:only-of-type {\n",
       "        vertical-align: middle;\n",
       "    }\n",
       "\n",
       "    .dataframe tbody tr th {\n",
       "        vertical-align: top;\n",
       "    }\n",
       "\n",
       "    .dataframe thead th {\n",
       "        text-align: right;\n",
       "    }\n",
       "</style>\n",
       "<table border=\"1\" class=\"dataframe\">\n",
       "  <thead>\n",
       "    <tr style=\"text-align: right;\">\n",
       "      <th></th>\n",
       "      <th>Current</th>\n",
       "      <th>Watts</th>\n",
       "      <th>Voltage</th>\n",
       "    </tr>\n",
       "  </thead>\n",
       "  <tbody>\n",
       "    <tr>\n",
       "      <th>count</th>\n",
       "      <td>301.000000</td>\n",
       "      <td>301.000000</td>\n",
       "      <td>301.000000</td>\n",
       "    </tr>\n",
       "    <tr>\n",
       "      <th>mean</th>\n",
       "      <td>262.259136</td>\n",
       "      <td>47.438538</td>\n",
       "      <td>237.239203</td>\n",
       "    </tr>\n",
       "    <tr>\n",
       "      <th>std</th>\n",
       "      <td>0.786951</td>\n",
       "      <td>0.497034</td>\n",
       "      <td>0.427307</td>\n",
       "    </tr>\n",
       "    <tr>\n",
       "      <th>min</th>\n",
       "      <td>261.000000</td>\n",
       "      <td>47.000000</td>\n",
       "      <td>237.000000</td>\n",
       "    </tr>\n",
       "    <tr>\n",
       "      <th>25%</th>\n",
       "      <td>262.000000</td>\n",
       "      <td>47.000000</td>\n",
       "      <td>237.000000</td>\n",
       "    </tr>\n",
       "    <tr>\n",
       "      <th>50%</th>\n",
       "      <td>262.000000</td>\n",
       "      <td>47.000000</td>\n",
       "      <td>237.000000</td>\n",
       "    </tr>\n",
       "    <tr>\n",
       "      <th>75%</th>\n",
       "      <td>263.000000</td>\n",
       "      <td>48.000000</td>\n",
       "      <td>237.000000</td>\n",
       "    </tr>\n",
       "    <tr>\n",
       "      <th>max</th>\n",
       "      <td>265.000000</td>\n",
       "      <td>48.000000</td>\n",
       "      <td>238.000000</td>\n",
       "    </tr>\n",
       "  </tbody>\n",
       "</table>\n",
       "</div>"
      ],
      "text/plain": [
       "          Current       Watts     Voltage\n",
       "count  301.000000  301.000000  301.000000\n",
       "mean   262.259136   47.438538  237.239203\n",
       "std      0.786951    0.497034    0.427307\n",
       "min    261.000000   47.000000  237.000000\n",
       "25%    262.000000   47.000000  237.000000\n",
       "50%    262.000000   47.000000  237.000000\n",
       "75%    263.000000   48.000000  237.000000\n",
       "max    265.000000   48.000000  238.000000"
      ]
     },
     "metadata": {},
     "output_type": "display_data"
    },
    {
     "data": {
      "text/markdown": [
       "### Per Measurement"
      ],
      "text/plain": [
       "<IPython.core.display.Markdown object>"
      ]
     },
     "metadata": {},
     "output_type": "display_data"
    },
    {
     "data": {
      "text/plain": [
       "                measurement\n",
       "Current  count  1              301.000000\n",
       "         mean   1              262.259136\n",
       "         std    1                0.786951\n",
       "         min    1              261.000000\n",
       "         25%    1              262.000000\n",
       "         50%    1              262.000000\n",
       "         75%    1              263.000000\n",
       "         max    1              265.000000\n",
       "Voltage  count  1              301.000000\n",
       "         mean   1              237.239203\n",
       "         std    1                0.427307\n",
       "         min    1              237.000000\n",
       "         25%    1              237.000000\n",
       "         50%    1              237.000000\n",
       "         75%    1              237.000000\n",
       "         max    1              238.000000\n",
       "Watts    count  1              301.000000\n",
       "         mean   1               47.438538\n",
       "         std    1                0.497034\n",
       "         min    1               47.000000\n",
       "         25%    1               47.000000\n",
       "         50%    1               47.000000\n",
       "         75%    1               48.000000\n",
       "         max    1               48.000000\n",
       "dtype: float64"
      ]
     },
     "metadata": {},
     "output_type": "display_data"
    }
   ],
   "source": [
    "describe_measurement_dataframe(result)"
   ]
  },
  {
   "cell_type": "code",
   "execution_count": 8,
   "id": "6151a3a5-7ce8-42ad-80e1-8f9d04f761ed",
   "metadata": {
    "tags": []
   },
   "outputs": [
    {
     "data": {
      "text/markdown": [
       "### Current Measurment Plots"
      ],
      "text/plain": [
       "<IPython.core.display.Markdown object>"
      ]
     },
     "metadata": {},
     "output_type": "display_data"
    },
    {
     "ename": "NameError",
     "evalue": "name 'sns' is not defined",
     "output_type": "error",
     "traceback": [
      "\u001b[0;31m---------------------------------------------------------------------------\u001b[0m",
      "\u001b[0;31mNameError\u001b[0m                                 Traceback (most recent call last)",
      "Cell \u001b[0;32mIn[8], line 2\u001b[0m\n\u001b[1;32m      1\u001b[0m printmd(\u001b[38;5;124m\"\u001b[39m\u001b[38;5;124m### Current Measurment Plots\u001b[39m\u001b[38;5;124m\"\u001b[39m)\n\u001b[0;32m----> 2\u001b[0m \u001b[43msns\u001b[49m\u001b[38;5;241m.\u001b[39mlmplot(\n\u001b[1;32m      3\u001b[0m       data\u001b[38;5;241m=\u001b[39mresult, x\u001b[38;5;241m=\u001b[39m\u001b[38;5;124m\"\u001b[39m\u001b[38;5;124mseconds\u001b[39m\u001b[38;5;124m\"\u001b[39m, y\u001b[38;5;241m=\u001b[39m\u001b[38;5;124m\"\u001b[39m\u001b[38;5;124mCurrent\u001b[39m\u001b[38;5;124m\"\u001b[39m, col\u001b[38;5;241m=\u001b[39m\u001b[38;5;124m\"\u001b[39m\u001b[38;5;124mmeasurement\u001b[39m\u001b[38;5;124m\"\u001b[39m, col_wrap\u001b[38;5;241m=\u001b[39m\u001b[38;5;241m5\u001b[39m, height\u001b[38;5;241m=\u001b[39m\u001b[38;5;241m3\u001b[39m\n\u001b[1;32m      4\u001b[0m )\n",
      "\u001b[0;31mNameError\u001b[0m: name 'sns' is not defined"
     ]
    }
   ],
   "source": [
    "printmd(\"### Current Measurment Plots\")\n",
    "sns.lmplot(\n",
    "      data=result, x=\"seconds\", y=\"Current\", col=\"measurement\", col_wrap=5, height=3\n",
    ")"
   ]
  },
  {
   "cell_type": "code",
   "execution_count": null,
   "id": "4c3ce6d1-d12a-4296-ae4b-eab6296f5e90",
   "metadata": {
    "tags": []
   },
   "outputs": [],
   "source": [
    "printmd(\"### Voltage Measurment Plots\")\n",
    "sns.lmplot(\n",
    "    data=result, x=\"seconds\", y=\"Voltage\", col=\"measurement\", col_wrap=5, height=3\n",
    ")"
   ]
  },
  {
   "cell_type": "code",
   "execution_count": null,
   "id": "0e976728-daae-4434-8496-169ef6de5468",
   "metadata": {
    "tags": []
   },
   "outputs": [],
   "source": [
    "printmd(\"### Watts Measurment Plots\")\n",
    "sns.lmplot(\n",
    "    data=result, x=\"seconds\", y=\"Watts\", col=\"measurement\", col_wrap=5, height=3\n",
    ")"
   ]
  },
  {
   "cell_type": "code",
   "execution_count": null,
   "id": "57d0b82d-0c50-42b4-bc4a-abb53c790000",
   "metadata": {
    "tags": []
   },
   "outputs": [],
   "source": [
    "printmd(\"### Total Mean Plots\")\n",
    "\n",
    "grouped_total_mean = result.groupby(by=['seconds', 'measurement']).mean()\n",
    "\n",
    "fig, axes = plt.subplots(nrows=2, ncols=2)\n",
    "grouped_total_mean['Current'].plot(drawstyle='steps', ax=axes[0,0]);\n",
    "axes[0,0].set_title('Current')\n",
    "axes[0,0].set_ylim(bottom=250, top=280)\n",
    "grouped_total_mean['Voltage'].plot(drawstyle='steps', ax=axes[0,1]);\n",
    "axes[0,1].set_title('Voltage')\n",
    "axes[0,1].set_ylim(bottom=230, top=250)\n",
    "grouped_total_mean['Watts'].plot(drawstyle='steps', ax=axes[1,0]);\n",
    "axes[1,0].set_title('Watts')\n",
    "axes[1,0].set_ylim(bottom=0, top=50)"
   ]
  },
  {
   "cell_type": "markdown",
   "id": "3377fc4e-c682-4043-aa16-81372c1a64e0",
   "metadata": {
    "tags": []
   },
   "source": [
    "## CPU"
   ]
  },
  {
   "cell_type": "markdown",
   "id": "64a3f204-dec9-4658-8a97-218fb3d074dc",
   "metadata": {},
   "source": [
    "### CPU Time"
   ]
  },
  {
   "cell_type": "code",
   "execution_count": null,
   "id": "97c8ed82-bb84-4a8d-976f-f0b9b8789a5a",
   "metadata": {
    "tags": []
   },
   "outputs": [],
   "source": [
    "result = prepare_series(lambda start,duration,end: f\"avg by (mode) (increase(node_cpu_seconds_total[{duration}]))\",bm)\n",
    "describe_measurement_dataframe(result)\n",
    "\n",
    "total_mean_result = remove_meta_columns(result).groupby(level=0).mean()\n",
    "\n",
    "display(total_mean_result)\n",
    "total_mean_result.plot.bar(ylabel='CPU seconds')"
   ]
  },
  {
   "cell_type": "markdown",
   "id": "ce20efdb-e68c-43b7-b158-a5076ee44a97",
   "metadata": {},
   "source": [
    "### CPU Utilization"
   ]
  },
  {
   "cell_type": "code",
   "execution_count": null,
   "id": "2e27ff6d-4ea6-49ca-8c75-ea417073094a",
   "metadata": {
    "tags": []
   },
   "outputs": [],
   "source": [
    "result = prepare_dataframe(lambda start, duration, end: 'avg by (mode) (rate(node_cpu_seconds_total[10s]) * 100)', bm)\n",
    "describe_measurement_dataframe(result)\n",
    "\n",
    "grouped_mean = result.groupby(by=['seconds']).mean()\n",
    "grouped_mean.drop(['measurement'], inplace=True, axis=1)\n",
    "grouped_mean.plot(drawstyle='steps',figsize=(10,3),ylim=(-5,105),ylabel='%')"
   ]
  },
  {
   "cell_type": "markdown",
   "id": "d9f626e9-93c7-4304-a84d-2789ef5829a2",
   "metadata": {},
   "source": [
    "## Memory"
   ]
  },
  {
   "cell_type": "code",
   "execution_count": null,
   "id": "9a66b19a-7298-4efd-a30e-a1e444236225",
   "metadata": {
    "tags": []
   },
   "outputs": [],
   "source": [
    "rng = \"10s\"\n",
    "query = f\"\"\"\n",
    "    100 * (1 - ((avg_over_time(node_memory_MemFree_bytes[{rng}]) + avg_over_time(node_memory_Cached_bytes[{rng}]) + avg_over_time(node_memory_Buffers_bytes[{rng}])) / avg_over_time(node_memory_MemTotal_bytes[{rng}])))\n",
    "    \"\"\"\n",
    "\n",
    "result = prepare_dataframe(lambda start, duration, end: query, bm)\n",
    "describe_measurement_dataframe(result)\n",
    "\n",
    "grouped_mean = result.groupby(by=['seconds']).mean()\n",
    "grouped_mean.drop(['measurement'], inplace=True, axis=1)\n",
    "grouped_mean.plot(drawstyle='steps',figsize=(10,3),ylim=(-5,105),ylabel='%')"
   ]
  },
  {
   "cell_type": "markdown",
   "id": "76e2ae12-097d-4c5d-8409-2469bf3b19ae",
   "metadata": {},
   "source": [
    "## Network"
   ]
  },
  {
   "cell_type": "code",
   "execution_count": null,
   "id": "c93aafae-abb0-4ba7-83c0-05f992c8ac5f",
   "metadata": {
    "tags": []
   },
   "outputs": [],
   "source": [
    "# This is going to be the label filter we're going to use\n",
    "net_filter_label = f\"{{device=~\\\"{'|'.join(NET_DEVICES)}\\\"}}\""
   ]
  },
  {
   "cell_type": "markdown",
   "id": "fe8d98f2-cf08-4a77-af2a-c3bf25d650ee",
   "metadata": {},
   "source": [
    "### Received KBytes"
   ]
  },
  {
   "cell_type": "code",
   "execution_count": null,
   "id": "86fed23e-16ef-43a7-9169-9cc661d52420",
   "metadata": {
    "tags": []
   },
   "outputs": [],
   "source": [
    "result = prepare_series(lambda start, duration, end: f\"sum by(device) (increase(node_network_receive_bytes_total{net_filter_label}[{duration}])) / 1000\", bm)\n",
    "describe_measurement_dataframe(result)\n",
    "\n",
    "grouped_mean = result.groupby(level=0).mean()\n",
    "grouped_mean.drop(['measurement'], inplace=True, axis=1)\n",
    "grouped_mean.plot.bar(ylabel='Received KBytes')"
   ]
  },
  {
   "cell_type": "code",
   "execution_count": null,
   "id": "503a42ea-6fe5-41d8-9418-604b00a71d97",
   "metadata": {
    "tags": []
   },
   "outputs": [],
   "source": [
    "result = prepare_dataframe(lambda start, duration, end: f\"avg by (device) (rate(node_network_receive_bytes_total{net_filter_label}[10s]))\", bm)\n",
    "describe_measurement_dataframe(result)\n",
    "\n",
    "grouped_mean = result.groupby(by=['seconds']).mean()\n",
    "grouped_mean.drop(['measurement'], inplace=True, axis=1)\n",
    "grouped_mean.plot(drawstyle='steps',figsize=(10,3),ylabel='Bytes')"
   ]
  },
  {
   "cell_type": "markdown",
   "id": "361c4c3c-59bc-45ed-858c-3630929e983b",
   "metadata": {},
   "source": [
    "### Sent KByte"
   ]
  },
  {
   "cell_type": "code",
   "execution_count": null,
   "id": "06ae89ef-b81d-4470-8940-fd45ab66d346",
   "metadata": {
    "tags": []
   },
   "outputs": [],
   "source": [
    "result = prepare_series(lambda start, duration, end: f\"sum by(device) (increase(node_network_transmit_bytes_total{net_filter_label}[{duration}])) / 1000\", bm)\n",
    "describe_measurement_dataframe(result)\n",
    "\n",
    "grouped_mean = result.groupby(level=0).mean()\n",
    "grouped_mean.drop(['measurement'], inplace=True, axis=1)\n",
    "grouped_mean.plot.bar(ylabel='Sent KBytes')"
   ]
  },
  {
   "cell_type": "code",
   "execution_count": null,
   "id": "b753ef53-26b3-4d08-bf71-0af5fe447726",
   "metadata": {
    "tags": []
   },
   "outputs": [],
   "source": [
    "result = prepare_dataframe(lambda start, duration, end: f\"avg by (device) (rate(node_network_transmit_bytes_total{net_filter_label}[10s]))\", bm)\n",
    "describe_measurement_dataframe(result)\n",
    "\n",
    "grouped_mean = result.groupby(by=['seconds']).mean()\n",
    "grouped_mean.drop(['measurement'], inplace=True, axis=1)\n",
    "grouped_mean.plot(drawstyle='steps',figsize=(10,3),ylabel='Bytes')"
   ]
  },
  {
   "cell_type": "markdown",
   "id": "e3470119-f719-4ce2-ab8c-072eedfcf11f",
   "metadata": {},
   "source": [
    "# Disk"
   ]
  },
  {
   "cell_type": "code",
   "execution_count": null,
   "id": "a3ed7e8d-9f67-4812-926e-91ba47c4a56d",
   "metadata": {
    "tags": []
   },
   "outputs": [],
   "source": [
    "# This is going to be the label filter we're going to use\n",
    "disk_filter_label = f\"{{device=~\\\"{'|'.join(DISK_DEVICES)}\\\"}}\""
   ]
  },
  {
   "cell_type": "code",
   "execution_count": null,
   "id": "6c47c0f5-c1c5-4f38-8eb4-cc163bcc796a",
   "metadata": {
    "tags": []
   },
   "outputs": [],
   "source": [
    "result = prepare_series(lambda start, duration, end: f\"increase(node_disk_io_time_seconds_total{disk_filter_label}[{duration}])\", bm)\n",
    "\n",
    "grouped_result = result.groupby(level=0).mean()\n",
    "display(grouped_result)"
   ]
  },
  {
   "cell_type": "code",
   "execution_count": null,
   "id": "38ac2475-9cc4-44fb-8abe-a2d6f7545e37",
   "metadata": {
    "tags": []
   },
   "outputs": [],
   "source": [
    "result = prepare_dataframe(lambda start, duration, end: f\"rate(node_disk_io_time_seconds_total{disk_filter_label}[10s])\", bm)\n",
    "describe_measurement_dataframe(result)\n",
    "\n",
    "grouped_mean = result.groupby(by=['seconds']).mean()\n",
    "grouped_mean.drop(['measurement'], inplace=True, axis=1)\n",
    "grouped_mean.plot(drawstyle='steps',figsize=(10,3),ylabel='I/O seconds')"
   ]
  },
  {
   "cell_type": "markdown",
   "id": "bc84e41c-229a-45aa-86e9-957fd6ad875f",
   "metadata": {},
   "source": [
    "# Interrupts"
   ]
  },
  {
   "cell_type": "code",
   "execution_count": null,
   "id": "3ef2c718-d1dc-43cf-b65c-6d22379e491a",
   "metadata": {
    "tags": []
   },
   "outputs": [],
   "source": [
    "interrupts_filter = f\"{{devices=\\\"\\\"}}\""
   ]
  },
  {
   "cell_type": "code",
   "execution_count": null,
   "id": "82552976-55c5-46eb-a55a-b5d1f91428a2",
   "metadata": {
    "tags": []
   },
   "outputs": [],
   "source": [
    "result = prepare_series(lambda start, duration, end: f\"sum by (devices, type) (idelta(node_interrupts_total{interrupts_filter}[{duration}]) > 0)\", bm)\n",
    "describe_measurement_dataframe(result)\n",
    "\n",
    "grouped_mean = result.groupby(level=0).mean()\n",
    "grouped_mean.drop(['measurement'], inplace=True, axis=1)\n",
    "display(grouped_mean)\n",
    "grouped_mean.plot.bar(ylabel='Interrupts')"
   ]
  },
  {
   "cell_type": "markdown",
   "id": "95be6712-5283-4af2-acb8-d0d35153dc16",
   "metadata": {},
   "source": [
    "# Software Experiment"
   ]
  },
  {
   "cell_type": "code",
   "execution_count": null,
   "id": "01ad5722-2a08-4755-bec5-9d124f369522",
   "metadata": {
    "tags": []
   },
   "outputs": [],
   "source": [
    "# Those are the variants we have measured\n",
    "VARIANTS=[\"no-cache\", \"caffeine-cache\", \"redis-cache\", \"caffeine-redis-cache\"]"
   ]
  }
 ],
 "metadata": {
  "kernelspec": {
   "display_name": "Python 3 (ipykernel)",
   "language": "python",
   "name": "python3"
  },
  "language_info": {
   "codemirror_mode": {
    "name": "ipython",
    "version": 3
   },
   "file_extension": ".py",
   "mimetype": "text/x-python",
   "name": "python",
   "nbconvert_exporter": "python",
   "pygments_lexer": "ipython3",
   "version": "3.10.10"
  }
 },
 "nbformat": 4,
 "nbformat_minor": 5
}
