{
 "cells": [
  {
   "cell_type": "code",
   "execution_count": 215,
   "id": "86f310d8-5327-449b-933e-9905fd0cb33e",
   "metadata": {
    "tags": []
   },
   "outputs": [
    {
     "data": {
      "text/plain": [
       "'2.0.0'"
      ]
     },
     "execution_count": 215,
     "metadata": {},
     "output_type": "execute_result"
    }
   ],
   "source": [
    "import pandas as pd\n",
    "import numpy as np\n",
    "import matplotlib.pyplot as plt\n",
    "import seaborn as sns\n",
    "from prometheus_pandas import query\n",
    "from IPython.display import Markdown, display\n",
    "\n",
    "pd.__version__"
   ]
  },
  {
   "cell_type": "code",
   "execution_count": 216,
   "id": "fb3fa869-0942-40ec-a84a-631d0f862ccd",
   "metadata": {
    "tags": []
   },
   "outputs": [],
   "source": [
    "p = query.Prometheus('http://192.168.178.64:9090')\n",
    "step = \"1s\""
   ]
  },
  {
   "cell_type": "code",
   "execution_count": 217,
   "id": "cf8811d7-9c68-4a0e-9efb-676edf80da78",
   "metadata": {
    "tags": []
   },
   "outputs": [],
   "source": [
    "# We're scraping much more data than we actually need.\n",
    "# This is especially true for devices.\n",
    "# In this section we define which devices we actually want to analyze.\n",
    "\n",
    "NET_DEVICES=[\"docker0\",\"enp7s0\",\"lo\"]\n",
    "DISK_DEVICES=[\"sda\"]"
   ]
  },
  {
   "cell_type": "markdown",
   "id": "5e22fe5d-7ad5-429b-b4ee-12ba39570a11",
   "metadata": {
    "jp-MarkdownHeadingCollapsed": true,
    "tags": []
   },
   "source": [
    "# Utils"
   ]
  },
  {
   "cell_type": "code",
   "execution_count": 218,
   "id": "bc1a5c57-f533-4b73-a221-60bc95dc1d54",
   "metadata": {
    "tags": []
   },
   "outputs": [],
   "source": [
    "def printmd(string):\n",
    "    display(Markdown(string))\n",
    "    \n",
    "def remove_meta_columns(df):\n",
    "    cols = [col for col in df.columns if col not in ['measurement','seconds']]\n",
    "    return df[cols]\n",
    "\n",
    "    \n",
    "def describe_measurement_dataframe(df):\n",
    "    printmd(\"### Total \")\n",
    "    display(remove_meta_columns(df).describe())\n",
    "    \n",
    "    printmd(\"### Per Measurement\")\n",
    "    display(df[df.columns.difference(['seconds'])].groupby('measurement').describe().unstack(1))\n",
    "\n",
    "def prepare_query_range_as_dataframe(measurement_no, query, start, end, step=step):\n",
    "    print(f\"[Measurement {measurement_no}] Querying '{query}' from {start} to {end} with step {step} ...\")\n",
    "    metrics = p.query_range(query, start, end, step)\n",
    "    metrics = metrics.assign(seconds=range(len(metrics)))\n",
    "    metrics = metrics.assign(measurement=measurement_no)\n",
    "    \n",
    "    summarize_outliers(metrics.reset_index())\n",
    "    \n",
    "    return metrics\n",
    "\n",
    "\n",
    "def prepare_query_metrics_as_dataframe(measurement_no, query, end):\n",
    "    print(f\"[Measurement {measurement_no}] Querying '{query}' at {end} ...\")\n",
    "    metrics = p.query(query, end).to_frame()\n",
    "    metrics.columns = ['value']\n",
    "    metrics = metrics.assign(measurement=measurement_no)\n",
    "\n",
    "    summarize_outliers(metrics.reset_index())\n",
    "    \n",
    "    return metrics\n",
    "\n",
    "\n",
    "def prepare_dataframe(query_fn, df):\n",
    "    result = [prepare_query_range_as_dataframe(idx, query_fn(start, duration, end), start, end) for idx, (start, duration, end) in enumerate(zip(df['Start'], df['Duration'], df['End']), 1)]\n",
    "    result = pd.concat(result)\n",
    "    return result\n",
    "\n",
    "\n",
    "def prepare_series(query_fn, df):\n",
    "    result = [prepare_query_metrics_as_dataframe(idx, query_fn(start, duration, end), end) for idx, (start, duration, end) in enumerate(zip(df['Start'], df['Duration'], df['End']), 1)]\n",
    "    result = pd.concat(result)\n",
    "    return result\n",
    "\n",
    "\n",
    "def mark_outliers(df, fence=2.22):\n",
    "    # Select only numeric columns\n",
    "    cols = df.select_dtypes('number').columns\n",
    "    df_sub = df.loc[:, cols]\n",
    "    \n",
    "    # Calculate IQR\n",
    "    iqr = df_sub.quantile(0.75, numeric_only=False) - df_sub.quantile(0.25, numeric_only=False)\n",
    "    lim = np.abs((df_sub - df_sub.median()) / iqr) < fence\n",
    "    \n",
    "    # Replace Outliers with NaN\n",
    "    df.loc[:, cols] = df_sub.where(lim, np.nan)\n",
    "    \n",
    "    # Replace all NaN values\n",
    "    return df\n",
    "\n",
    "\n",
    "def summarize_outliers(df, fence=2.22):\n",
    "    marked_outliers = mark_outliers(df, fence)\n",
    "    diff = df.compare(marked_outliers)\n",
    "    \n",
    "    # No Outliers, no problem\n",
    "    if diff.size == 0:\n",
    "        return\n",
    "    \n",
    "    diff.name = 'Outliers'\n",
    "    print('Outliers detected, please check manually')\n",
    "    print(diff)\n",
    "    \n",
    "\n",
    "def drop_outliers(df, fence=2.22):\n",
    "    cols = df.select_dtypes('number').columns\n",
    "    return mark_outliners(df, fence).dropna(how='any', subset=cols)"
   ]
  },
  {
   "cell_type": "markdown",
   "id": "fe67a8f4-1fb5-452f-aa8f-14c7168d4885",
   "metadata": {},
   "source": [
    "# Data Preparation"
   ]
  },
  {
   "cell_type": "code",
   "execution_count": 219,
   "id": "4dd10f27-4117-4209-bde9-f07f39ffdcce",
   "metadata": {
    "tags": []
   },
   "outputs": [],
   "source": [
    "DEFAULT_RANGE=\"10s\"\n",
    "# This is going to be the label filter we're going to use\n",
    "net_filter_label = f\"{{device=~\\\"{'|'.join(NET_DEVICES)}\\\"}}\"\n",
    "# This is going to be the label filter we're going to use\n",
    "disk_filter_label = f\"{{device=~\\\"{'|'.join(DISK_DEVICES)}\\\"}}\"\n",
    "interrupts_filter = f\"{{devices=\\\"\\\"}}\"\n",
    "\n",
    "def prepare_power_metrics(measurement_dataframe):\n",
    "    power_metrics = prepare_dataframe(lambda start,duration,end: '{__name__=~\"epc1202PowerActive|epc1202Current|epc1202Voltage\"}', measurement_dataframe)\n",
    "    power_metrics.columns = ['Current', 'Watts', 'Voltage', 'seconds', 'measurement']\n",
    "    return power_metrics\n",
    "\n",
    "def prepare_cpu_seconds_in_mode(measurement_dataframe):\n",
    "    return prepare_series(lambda start,duration,end: f\"avg by (mode) (increase(node_cpu_seconds_total[{duration}]))\", measurement_dataframe)\n",
    "\n",
    "def prepare_cpu_utilization(measurement_dataframe):\n",
    "    rng = DEFAULT_RANGE\n",
    "    return prepare_dataframe(lambda start, duration, end: f\"avg by (mode) (rate(node_cpu_seconds_total[{DEFAULT_RANGE}]) * 100)\", measurement_dataframe)\n",
    "\n",
    "def prepare_memory_utilization(measurement_dataframe):\n",
    "    rng = DEFAULT_RANGE\n",
    "    query = f\"\"\"\n",
    "      100 * (1 - ((avg_over_time(node_memory_MemFree_bytes[{rng}]) + avg_over_time(node_memory_Cached_bytes[{rng}]) + avg_over_time(node_memory_Buffers_bytes[{rng}])) / avg_over_time(node_memory_MemTotal_bytes[{rng}])))\n",
    "    \"\"\"\n",
    "    return prepare_dataframe(lambda start, duration, end: query, measurement_dataframe)\n",
    "\n",
    "def prepare_network_received_bytes(measurement_dataframe):\n",
    "    return prepare_series(lambda start, duration, end: f\"sum by(device) (increase(node_network_receive_bytes_total{net_filter_label}[{duration}])) / 1000\", measurement_dataframe)\n",
    "\n",
    "def prepare_network_transmitted_bytes(measurement_dataframe):\n",
    "    return prepare_series(lambda start, duration, end: f\"sum by(device) (increase(node_network_transmit_bytes_total{net_filter_label}[{duration}])) / 1000\", measurement_dataframe)\n",
    "\n",
    "def prepare_network_average_receive_rate(measurement_dataframe):\n",
    "    return prepare_dataframe(lambda start, duration, end: f\"avg by (device) (rate(node_network_receive_bytes_total{net_filter_label}[{DEFAULT_RANGE}]))\", measurement_dataframe)\n",
    "\n",
    "def prepare_network_average_transmit_rate(measurement_dataframe):\n",
    "    return prepare_dataframe(lambda start, duration, end: f\"avg by (device) (rate(node_network_transmit_bytes_total{net_filter_label}[{DEFAULT_RANGE}]))\", measurement_dataframe)\n",
    "\n",
    "def prepare_total_disk_io_seconds(measurement_dataframe):\n",
    "    return prepare_series(lambda start, duration, end: f\"increase(node_disk_io_time_seconds_total{disk_filter_label}[{DEFAULT_RANGE}])\", measurement_dataframe)\n",
    "\n",
    "def prepare_disk_io_rate(measurement_dataframe):\n",
    "    return prepare_dataframe(lambda start, duration, end: f\"avg by (device) (rate(node_disk_io_time_seconds_total{disk_filter_label}[{DEFAULT_RANGE}]))\", measurement_dataframe)\n",
    "\n",
    "def prepare_interrupts(measurement_dataframe):\n",
    "    return prepare_series(lambda start, duration, end: f\"sum by (devices, type) (idelta(node_interrupts_total{interrupts_filter}[{duration}]) > 0)\", measurement_dataframe)"
   ]
  },
  {
   "cell_type": "markdown",
   "id": "a4afe89f-b02c-4dab-b536-47fb2e58e797",
   "metadata": {
    "tags": []
   },
   "source": [
    "# Baseline Analysis\n",
    "\n",
    "Here we take a look at the Baseline of our DUT\n"
   ]
  },
  {
   "cell_type": "code",
   "execution_count": 264,
   "id": "cb36fa9e-abf7-402c-8c44-c01b69ec54d4",
   "metadata": {
    "tags": []
   },
   "outputs": [
    {
     "data": {
      "text/html": [
       "<div>\n",
       "<style scoped>\n",
       "    .dataframe tbody tr th:only-of-type {\n",
       "        vertical-align: middle;\n",
       "    }\n",
       "\n",
       "    .dataframe tbody tr th {\n",
       "        vertical-align: top;\n",
       "    }\n",
       "\n",
       "    .dataframe thead th {\n",
       "        text-align: right;\n",
       "    }\n",
       "</style>\n",
       "<table border=\"1\" class=\"dataframe\">\n",
       "  <thead>\n",
       "    <tr style=\"text-align: right;\">\n",
       "      <th></th>\n",
       "      <th>Start</th>\n",
       "      <th>End</th>\n",
       "      <th>Duration</th>\n",
       "      <th>Energy</th>\n",
       "    </tr>\n",
       "  </thead>\n",
       "  <tbody>\n",
       "    <tr>\n",
       "      <th>0</th>\n",
       "      <td>1681634834</td>\n",
       "      <td>1681635134</td>\n",
       "      <td>5m</td>\n",
       "      <td>4</td>\n",
       "    </tr>\n",
       "  </tbody>\n",
       "</table>\n",
       "</div>"
      ],
      "text/plain": [
       "        Start         End Duration  Energy\n",
       "0  1681634834  1681635134       5m       4"
      ]
     },
     "execution_count": 264,
     "metadata": {},
     "output_type": "execute_result"
    }
   ],
   "source": [
    "bm = pd.read_csv('baseline.csv')\n",
    "bm"
   ]
  },
  {
   "cell_type": "markdown",
   "id": "1b75937a-2d07-4e38-a2ea-e41a6e19e1e6",
   "metadata": {
    "tags": []
   },
   "source": [
    "## Power Stats"
   ]
  },
  {
   "cell_type": "code",
   "execution_count": 277,
   "id": "4d2149cd-cd19-4f96-8da0-fef098ec0483",
   "metadata": {
    "tags": []
   },
   "outputs": [
    {
     "name": "stdout",
     "output_type": "stream",
     "text": [
      "[Measurement 1] Querying '{__name__=~\"epc1202PowerActive|epc1202Current|epc1202Voltage\"}' from 1681634834 to 1681635134 with step 1s ...\n"
     ]
    },
    {
     "data": {
      "text/markdown": [
       "### Total "
      ],
      "text/plain": [
       "<IPython.core.display.Markdown object>"
      ]
     },
     "metadata": {},
     "output_type": "display_data"
    },
    {
     "data": {
      "text/html": [
       "<div>\n",
       "<style scoped>\n",
       "    .dataframe tbody tr th:only-of-type {\n",
       "        vertical-align: middle;\n",
       "    }\n",
       "\n",
       "    .dataframe tbody tr th {\n",
       "        vertical-align: top;\n",
       "    }\n",
       "\n",
       "    .dataframe thead th {\n",
       "        text-align: right;\n",
       "    }\n",
       "</style>\n",
       "<table border=\"1\" class=\"dataframe\">\n",
       "  <thead>\n",
       "    <tr style=\"text-align: right;\">\n",
       "      <th></th>\n",
       "      <th>Current</th>\n",
       "      <th>Watts</th>\n",
       "      <th>Voltage</th>\n",
       "    </tr>\n",
       "  </thead>\n",
       "  <tbody>\n",
       "    <tr>\n",
       "      <th>count</th>\n",
       "      <td>301.000000</td>\n",
       "      <td>301.000000</td>\n",
       "      <td>301.000000</td>\n",
       "    </tr>\n",
       "    <tr>\n",
       "      <th>mean</th>\n",
       "      <td>262.259136</td>\n",
       "      <td>47.438538</td>\n",
       "      <td>237.239203</td>\n",
       "    </tr>\n",
       "    <tr>\n",
       "      <th>std</th>\n",
       "      <td>0.786951</td>\n",
       "      <td>0.497034</td>\n",
       "      <td>0.427307</td>\n",
       "    </tr>\n",
       "    <tr>\n",
       "      <th>min</th>\n",
       "      <td>261.000000</td>\n",
       "      <td>47.000000</td>\n",
       "      <td>237.000000</td>\n",
       "    </tr>\n",
       "    <tr>\n",
       "      <th>25%</th>\n",
       "      <td>262.000000</td>\n",
       "      <td>47.000000</td>\n",
       "      <td>237.000000</td>\n",
       "    </tr>\n",
       "    <tr>\n",
       "      <th>50%</th>\n",
       "      <td>262.000000</td>\n",
       "      <td>47.000000</td>\n",
       "      <td>237.000000</td>\n",
       "    </tr>\n",
       "    <tr>\n",
       "      <th>75%</th>\n",
       "      <td>263.000000</td>\n",
       "      <td>48.000000</td>\n",
       "      <td>237.000000</td>\n",
       "    </tr>\n",
       "    <tr>\n",
       "      <th>max</th>\n",
       "      <td>265.000000</td>\n",
       "      <td>48.000000</td>\n",
       "      <td>238.000000</td>\n",
       "    </tr>\n",
       "  </tbody>\n",
       "</table>\n",
       "</div>"
      ],
      "text/plain": [
       "          Current       Watts     Voltage\n",
       "count  301.000000  301.000000  301.000000\n",
       "mean   262.259136   47.438538  237.239203\n",
       "std      0.786951    0.497034    0.427307\n",
       "min    261.000000   47.000000  237.000000\n",
       "25%    262.000000   47.000000  237.000000\n",
       "50%    262.000000   47.000000  237.000000\n",
       "75%    263.000000   48.000000  237.000000\n",
       "max    265.000000   48.000000  238.000000"
      ]
     },
     "metadata": {},
     "output_type": "display_data"
    },
    {
     "data": {
      "text/markdown": [
       "### Per Measurement"
      ],
      "text/plain": [
       "<IPython.core.display.Markdown object>"
      ]
     },
     "metadata": {},
     "output_type": "display_data"
    },
    {
     "data": {
      "text/plain": [
       "                measurement\n",
       "Current  count  1              301.000000\n",
       "         mean   1              262.259136\n",
       "         std    1                0.786951\n",
       "         min    1              261.000000\n",
       "         25%    1              262.000000\n",
       "         50%    1              262.000000\n",
       "         75%    1              263.000000\n",
       "         max    1              265.000000\n",
       "Voltage  count  1              301.000000\n",
       "         mean   1              237.239203\n",
       "         std    1                0.427307\n",
       "         min    1              237.000000\n",
       "         25%    1              237.000000\n",
       "         50%    1              237.000000\n",
       "         75%    1              237.000000\n",
       "         max    1              238.000000\n",
       "Watts    count  1              301.000000\n",
       "         mean   1               47.438538\n",
       "         std    1                0.497034\n",
       "         min    1               47.000000\n",
       "         25%    1               47.000000\n",
       "         50%    1               47.000000\n",
       "         75%    1               48.000000\n",
       "         max    1               48.000000\n",
       "dtype: float64"
      ]
     },
     "metadata": {},
     "output_type": "display_data"
    },
    {
     "data": {
      "text/markdown": [
       "### Current Measurment Plots"
      ],
      "text/plain": [
       "<IPython.core.display.Markdown object>"
      ]
     },
     "metadata": {},
     "output_type": "display_data"
    },
    {
     "data": {
      "image/png": "[encoded data removed]",
      "text/plain": [
       "<Figure size 1500x300 with 1 Axes>"
      ]
     },
     "metadata": {},
     "output_type": "display_data"
    },
    {
     "data": {
      "text/markdown": [
       "### Voltage Measurment Plots"
      ],
      "text/plain": [
       "<IPython.core.display.Markdown object>"
      ]
     },
     "metadata": {},
     "output_type": "display_data"
    },
    {
     "data": {
      "image/png": "[encoded data removed]",
      "text/plain": [
       "<Figure size 1500x300 with 1 Axes>"
      ]
     },
     "metadata": {},
     "output_type": "display_data"
    },
    {
     "data": {
      "text/markdown": [
       "### Watts Measurment Plots"
      ],
      "text/plain": [
       "<IPython.core.display.Markdown object>"
      ]
     },
     "metadata": {},
     "output_type": "display_data"
    },
    {
     "data": {
      "image/png": "[encoded data removed]",
      "text/plain": [
       "<Figure size 1500x300 with 1 Axes>"
      ]
     },
     "metadata": {},
     "output_type": "display_data"
    },
    {
     "data": {
      "text/markdown": [
       "### Mean Watts"
      ],
      "text/plain": [
       "<IPython.core.display.Markdown object>"
      ]
     },
     "metadata": {},
     "output_type": "display_data"
    },
    {
     "data": {
      "text/html": [
       "<div>\n",
       "<style scoped>\n",
       "    .dataframe tbody tr th:only-of-type {\n",
       "        vertical-align: middle;\n",
       "    }\n",
       "\n",
       "    .dataframe tbody tr th {\n",
       "        vertical-align: top;\n",
       "    }\n",
       "\n",
       "    .dataframe thead th {\n",
       "        text-align: right;\n",
       "    }\n",
       "</style>\n",
       "<table border=\"1\" class=\"dataframe\">\n",
       "  <thead>\n",
       "    <tr style=\"text-align: right;\">\n",
       "      <th></th>\n",
       "      <th>Current</th>\n",
       "      <th>Watts</th>\n",
       "      <th>Voltage</th>\n",
       "      <th>measurement</th>\n",
       "    </tr>\n",
       "  </thead>\n",
       "  <tbody>\n",
       "    <tr>\n",
       "      <th>count</th>\n",
       "      <td>301.000000</td>\n",
       "      <td>301.000000</td>\n",
       "      <td>301.000000</td>\n",
       "      <td>301.0</td>\n",
       "    </tr>\n",
       "    <tr>\n",
       "      <th>mean</th>\n",
       "      <td>262.259136</td>\n",
       "      <td>47.438538</td>\n",
       "      <td>237.239203</td>\n",
       "      <td>1.0</td>\n",
       "    </tr>\n",
       "    <tr>\n",
       "      <th>std</th>\n",
       "      <td>0.786951</td>\n",
       "      <td>0.497034</td>\n",
       "      <td>0.427307</td>\n",
       "      <td>0.0</td>\n",
       "    </tr>\n",
       "    <tr>\n",
       "      <th>min</th>\n",
       "      <td>261.000000</td>\n",
       "      <td>47.000000</td>\n",
       "      <td>237.000000</td>\n",
       "      <td>1.0</td>\n",
       "    </tr>\n",
       "    <tr>\n",
       "      <th>25%</th>\n",
       "      <td>262.000000</td>\n",
       "      <td>47.000000</td>\n",
       "      <td>237.000000</td>\n",
       "      <td>1.0</td>\n",
       "    </tr>\n",
       "    <tr>\n",
       "      <th>50%</th>\n",
       "      <td>262.000000</td>\n",
       "      <td>47.000000</td>\n",
       "      <td>237.000000</td>\n",
       "      <td>1.0</td>\n",
       "    </tr>\n",
       "    <tr>\n",
       "      <th>75%</th>\n",
       "      <td>263.000000</td>\n",
       "      <td>48.000000</td>\n",
       "      <td>237.000000</td>\n",
       "      <td>1.0</td>\n",
       "    </tr>\n",
       "    <tr>\n",
       "      <th>max</th>\n",
       "      <td>265.000000</td>\n",
       "      <td>48.000000</td>\n",
       "      <td>238.000000</td>\n",
       "      <td>1.0</td>\n",
       "    </tr>\n",
       "  </tbody>\n",
       "</table>\n",
       "</div>"
      ],
      "text/plain": [
       "          Current       Watts     Voltage  measurement\n",
       "count  301.000000  301.000000  301.000000        301.0\n",
       "mean   262.259136   47.438538  237.239203          1.0\n",
       "std      0.786951    0.497034    0.427307          0.0\n",
       "min    261.000000   47.000000  237.000000          1.0\n",
       "25%    262.000000   47.000000  237.000000          1.0\n",
       "50%    262.000000   47.000000  237.000000          1.0\n",
       "75%    263.000000   48.000000  237.000000          1.0\n",
       "max    265.000000   48.000000  238.000000          1.0"
      ]
     },
     "metadata": {},
     "output_type": "display_data"
    },
    {
     "data": {
      "image/png": "[encoded data removed]",
      "text/plain": [
       "<Figure size 640x480 with 1 Axes>"
      ]
     },
     "metadata": {},
     "output_type": "display_data"
    },
    {
     "data": {
      "image/png": "[encoded data removed]",
      "text/plain": [
       "<Figure size 500x500 with 1 Axes>"
      ]
     },
     "metadata": {},
     "output_type": "display_data"
    }
   ],
   "source": [
    "power_metrics = prepare_power_metrics(bm)\n",
    "describe_measurement_dataframe(power_metrics)\n",
    "\n",
    "printmd(\"### Current Measurment Plots\")\n",
    "fg = sns.lmplot(\n",
    "      data=power_metrics, x=\"seconds\", y=\"Current\", col=\"measurement\", col_wrap=5, height=3, scatter=True\n",
    ")\n",
    "fg.set_xlabels(\"Time (s)\")\n",
    "fg.set_ylabels(\"Current (A)\")\n",
    "plt.show(fg)\n",
    "\n",
    "printmd(\"### Voltage Measurment Plots\")\n",
    "fg = sns.lmplot(\n",
    "    data=power_metrics, x=\"seconds\", y=\"Voltage\", col=\"measurement\", col_wrap=5, height=3, scatter=True\n",
    ")\n",
    "fg.set_xlabels(\"Time (s)\")\n",
    "fg.set_ylabels(\"Voltage (V)\")\n",
    "plt.show(fg)\n",
    "\n",
    "printmd(\"### Watts Measurment Plots\")\n",
    "fg = sns.lmplot(\n",
    "      data=power_metrics, x=\"seconds\", y=\"Watts\", col=\"measurement\", col_wrap=5, height=3, scatter=True\n",
    ")\n",
    "fg.set_xlabels(\"Time (s)\")\n",
    "fg.set_ylabels(\"Watts (W)\")\n",
    "plt.show(fg)        \n",
    "\n",
    "printmd(\"### Mean Watts\")\n",
    "\n",
    "mean_per_second = power_metrics.groupby(by=['seconds']).mean()\n",
    "display(mean_per_second.describe())\n",
    "\n",
    "fig = mean_per_second['Watts'].plot(drawstyle='steps')\n",
    "fig.set_xlabel(\"Time (s)\")\n",
    "fig.set_ylabel(\"Watts (W)\")\n",
    "plt.show(fig)\n",
    "\n",
    "fg = sns.lmplot(\n",
    "      data=mean_per_second.reset_index(), x=\"seconds\", y=\"Watts\", scatter=True\n",
    ")\n",
    "fg.set_xlabels(\"Time (s)\")\n",
    "fg.set_ylabels(\"Watts (W)\")\n",
    "plt.show(fg)    "
   ]
  },
  {
   "cell_type": "markdown",
   "id": "3377fc4e-c682-4043-aa16-81372c1a64e0",
   "metadata": {
    "tags": []
   },
   "source": [
    "## CPU"
   ]
  },
  {
   "cell_type": "markdown",
   "id": "64a3f204-dec9-4658-8a97-218fb3d074dc",
   "metadata": {},
   "source": [
    "### CPU Time"
   ]
  },
  {
   "cell_type": "code",
   "execution_count": 227,
   "id": "97c8ed82-bb84-4a8d-976f-f0b9b8789a5a",
   "metadata": {
    "tags": []
   },
   "outputs": [
    {
     "name": "stdout",
     "output_type": "stream",
     "text": [
      "[Measurement 1] Querying 'avg by (mode) (increase(node_cpu_seconds_total[5m]))' at 1681635134 ...\n"
     ]
    },
    {
     "data": {
      "text/markdown": [
       "### Total "
      ],
      "text/plain": [
       "<IPython.core.display.Markdown object>"
      ]
     },
     "metadata": {},
     "output_type": "display_data"
    },
    {
     "data": {
      "text/html": [
       "<div>\n",
       "<style scoped>\n",
       "    .dataframe tbody tr th:only-of-type {\n",
       "        vertical-align: middle;\n",
       "    }\n",
       "\n",
       "    .dataframe tbody tr th {\n",
       "        vertical-align: top;\n",
       "    }\n",
       "\n",
       "    .dataframe thead th {\n",
       "        text-align: right;\n",
       "    }\n",
       "</style>\n",
       "<table border=\"1\" class=\"dataframe\">\n",
       "  <thead>\n",
       "    <tr style=\"text-align: right;\">\n",
       "      <th></th>\n",
       "      <th>value</th>\n",
       "    </tr>\n",
       "  </thead>\n",
       "  <tbody>\n",
       "    <tr>\n",
       "      <th>count</th>\n",
       "      <td>8.000000</td>\n",
       "    </tr>\n",
       "    <tr>\n",
       "      <th>mean</th>\n",
       "      <td>37.464413</td>\n",
       "    </tr>\n",
       "    <tr>\n",
       "      <th>std</th>\n",
       "      <td>105.365199</td>\n",
       "    </tr>\n",
       "    <tr>\n",
       "      <th>min</th>\n",
       "      <td>0.000000</td>\n",
       "    </tr>\n",
       "    <tr>\n",
       "      <th>25%</th>\n",
       "      <td>0.000000</td>\n",
       "    </tr>\n",
       "    <tr>\n",
       "      <th>50%</th>\n",
       "      <td>0.020067</td>\n",
       "    </tr>\n",
       "    <tr>\n",
       "      <th>75%</th>\n",
       "      <td>0.464047</td>\n",
       "    </tr>\n",
       "    <tr>\n",
       "      <th>max</th>\n",
       "      <td>298.227843</td>\n",
       "    </tr>\n",
       "  </tbody>\n",
       "</table>\n",
       "</div>"
      ],
      "text/plain": [
       "            value\n",
       "count    8.000000\n",
       "mean    37.464413\n",
       "std    105.365199\n",
       "min      0.000000\n",
       "25%      0.000000\n",
       "50%      0.020067\n",
       "75%      0.464047\n",
       "max    298.227843"
      ]
     },
     "metadata": {},
     "output_type": "display_data"
    },
    {
     "data": {
      "text/markdown": [
       "### Per Measurement"
      ],
      "text/plain": [
       "<IPython.core.display.Markdown object>"
      ]
     },
     "metadata": {},
     "output_type": "display_data"
    },
    {
     "data": {
      "text/plain": [
       "              measurement\n",
       "value  count  1                8.000000\n",
       "       mean   1               37.464413\n",
       "       std    1              105.365199\n",
       "       min    1                0.000000\n",
       "       25%    1                0.000000\n",
       "       50%    1                0.020067\n",
       "       75%    1                0.464047\n",
       "       max    1              298.227843\n",
       "dtype: float64"
      ]
     },
     "metadata": {},
     "output_type": "display_data"
    },
    {
     "data": {
      "text/html": [
       "<div>\n",
       "<style scoped>\n",
       "    .dataframe tbody tr th:only-of-type {\n",
       "        vertical-align: middle;\n",
       "    }\n",
       "\n",
       "    .dataframe tbody tr th {\n",
       "        vertical-align: top;\n",
       "    }\n",
       "\n",
       "    .dataframe thead th {\n",
       "        text-align: right;\n",
       "    }\n",
       "</style>\n",
       "<table border=\"1\" class=\"dataframe\">\n",
       "  <thead>\n",
       "    <tr style=\"text-align: right;\">\n",
       "      <th></th>\n",
       "      <th>value</th>\n",
       "    </tr>\n",
       "  </thead>\n",
       "  <tbody>\n",
       "    <tr>\n",
       "      <th>{mode=\"idle\"}</th>\n",
       "      <td>298.227843</td>\n",
       "    </tr>\n",
       "    <tr>\n",
       "      <th>{mode=\"iowait\"}</th>\n",
       "      <td>0.003135</td>\n",
       "    </tr>\n",
       "    <tr>\n",
       "      <th>{mode=\"irq\"}</th>\n",
       "      <td>0.000000</td>\n",
       "    </tr>\n",
       "    <tr>\n",
       "      <th>{mode=\"nice\"}</th>\n",
       "      <td>0.000000</td>\n",
       "    </tr>\n",
       "    <tr>\n",
       "      <th>{mode=\"softirq\"}</th>\n",
       "      <td>0.036998</td>\n",
       "    </tr>\n",
       "    <tr>\n",
       "      <th>{mode=\"steal\"}</th>\n",
       "      <td>0.000000</td>\n",
       "    </tr>\n",
       "    <tr>\n",
       "      <th>{mode=\"system\"}</th>\n",
       "      <td>0.204431</td>\n",
       "    </tr>\n",
       "    <tr>\n",
       "      <th>{mode=\"user\"}</th>\n",
       "      <td>1.242893</td>\n",
       "    </tr>\n",
       "  </tbody>\n",
       "</table>\n",
       "</div>"
      ],
      "text/plain": [
       "                       value\n",
       "{mode=\"idle\"}     298.227843\n",
       "{mode=\"iowait\"}     0.003135\n",
       "{mode=\"irq\"}        0.000000\n",
       "{mode=\"nice\"}       0.000000\n",
       "{mode=\"softirq\"}    0.036998\n",
       "{mode=\"steal\"}      0.000000\n",
       "{mode=\"system\"}     0.204431\n",
       "{mode=\"user\"}       1.242893"
      ]
     },
     "metadata": {},
     "output_type": "display_data"
    },
    {
     "data": {
      "text/plain": [
       "<Axes: ylabel='CPU seconds'>"
      ]
     },
     "execution_count": 227,
     "metadata": {},
     "output_type": "execute_result"
    },
    {
     "data": {
      "image/png": "[encoded data removed]",
      "text/plain": [
       "<Figure size 640x480 with 1 Axes>"
      ]
     },
     "metadata": {},
     "output_type": "display_data"
    }
   ],
   "source": [
    "cpu_metrics = prepare_cpu_seconds_in_mode(bm)\n",
    "describe_measurement_dataframe(cpu_metrics)\n",
    "\n",
    "total_mean_result = remove_meta_columns(cpu_metrics).groupby(level=0).mean()\n",
    "\n",
    "display(total_mean_result)\n",
    "total_mean_result.plot.bar(ylabel='CPU seconds')"
   ]
  },
  {
   "cell_type": "markdown",
   "id": "ce20efdb-e68c-43b7-b158-a5076ee44a97",
   "metadata": {},
   "source": [
    "### CPU Utilization"
   ]
  },
  {
   "cell_type": "code",
   "execution_count": 228,
   "id": "2e27ff6d-4ea6-49ca-8c75-ea417073094a",
   "metadata": {
    "tags": []
   },
   "outputs": [
    {
     "name": "stdout",
     "output_type": "stream",
     "text": [
      "[Measurement 1] Querying 'avg by (mode) (rate(node_cpu_seconds_total[10s]) * 100)' from 1681634834 to 1681635134 with step 1s ...\n"
     ]
    },
    {
     "data": {
      "text/markdown": [
       "### Total "
      ],
      "text/plain": [
       "<IPython.core.display.Markdown object>"
      ]
     },
     "metadata": {},
     "output_type": "display_data"
    },
    {
     "data": {
      "text/html": [
       "<div>\n",
       "<style scoped>\n",
       "    .dataframe tbody tr th:only-of-type {\n",
       "        vertical-align: middle;\n",
       "    }\n",
       "\n",
       "    .dataframe tbody tr th {\n",
       "        vertical-align: top;\n",
       "    }\n",
       "\n",
       "    .dataframe thead th {\n",
       "        text-align: right;\n",
       "    }\n",
       "</style>\n",
       "<table border=\"1\" class=\"dataframe\">\n",
       "  <thead>\n",
       "    <tr style=\"text-align: right;\">\n",
       "      <th></th>\n",
       "      <th>{mode=\"idle\"}</th>\n",
       "      <th>{mode=\"iowait\"}</th>\n",
       "      <th>{mode=\"irq\"}</th>\n",
       "      <th>{mode=\"nice\"}</th>\n",
       "      <th>{mode=\"softirq\"}</th>\n",
       "      <th>{mode=\"steal\"}</th>\n",
       "      <th>{mode=\"system\"}</th>\n",
       "      <th>{mode=\"user\"}</th>\n",
       "    </tr>\n",
       "  </thead>\n",
       "  <tbody>\n",
       "    <tr>\n",
       "      <th>count</th>\n",
       "      <td>301.000000</td>\n",
       "      <td>301.000000</td>\n",
       "      <td>301.0</td>\n",
       "      <td>301.0</td>\n",
       "      <td>301.000000</td>\n",
       "      <td>301.0</td>\n",
       "      <td>301.000000</td>\n",
       "      <td>301.000000</td>\n",
       "    </tr>\n",
       "    <tr>\n",
       "      <th>mean</th>\n",
       "      <td>99.407577</td>\n",
       "      <td>0.001038</td>\n",
       "      <td>0.0</td>\n",
       "      <td>0.0</td>\n",
       "      <td>0.012159</td>\n",
       "      <td>0.0</td>\n",
       "      <td>0.068568</td>\n",
       "      <td>0.416182</td>\n",
       "    </tr>\n",
       "    <tr>\n",
       "      <th>std</th>\n",
       "      <td>0.082584</td>\n",
       "      <td>0.002668</td>\n",
       "      <td>0.0</td>\n",
       "      <td>0.0</td>\n",
       "      <td>0.010580</td>\n",
       "      <td>0.0</td>\n",
       "      <td>0.014193</td>\n",
       "      <td>0.036469</td>\n",
       "    </tr>\n",
       "    <tr>\n",
       "      <th>min</th>\n",
       "      <td>99.076389</td>\n",
       "      <td>0.000000</td>\n",
       "      <td>0.0</td>\n",
       "      <td>0.0</td>\n",
       "      <td>0.000000</td>\n",
       "      <td>0.0</td>\n",
       "      <td>0.027778</td>\n",
       "      <td>0.319444</td>\n",
       "    </tr>\n",
       "    <tr>\n",
       "      <th>25%</th>\n",
       "      <td>99.361111</td>\n",
       "      <td>0.000000</td>\n",
       "      <td>0.0</td>\n",
       "      <td>0.0</td>\n",
       "      <td>0.000000</td>\n",
       "      <td>0.0</td>\n",
       "      <td>0.062500</td>\n",
       "      <td>0.395833</td>\n",
       "    </tr>\n",
       "    <tr>\n",
       "      <th>50%</th>\n",
       "      <td>99.402778</td>\n",
       "      <td>0.000000</td>\n",
       "      <td>0.0</td>\n",
       "      <td>0.0</td>\n",
       "      <td>0.013889</td>\n",
       "      <td>0.0</td>\n",
       "      <td>0.069444</td>\n",
       "      <td>0.423611</td>\n",
       "    </tr>\n",
       "    <tr>\n",
       "      <th>75%</th>\n",
       "      <td>99.451389</td>\n",
       "      <td>0.000000</td>\n",
       "      <td>0.0</td>\n",
       "      <td>0.0</td>\n",
       "      <td>0.020833</td>\n",
       "      <td>0.0</td>\n",
       "      <td>0.076389</td>\n",
       "      <td>0.444444</td>\n",
       "    </tr>\n",
       "    <tr>\n",
       "      <th>max</th>\n",
       "      <td>99.840278</td>\n",
       "      <td>0.013889</td>\n",
       "      <td>0.0</td>\n",
       "      <td>0.0</td>\n",
       "      <td>0.041667</td>\n",
       "      <td>0.0</td>\n",
       "      <td>0.111111</td>\n",
       "      <td>0.493056</td>\n",
       "    </tr>\n",
       "  </tbody>\n",
       "</table>\n",
       "</div>"
      ],
      "text/plain": [
       "       {mode=\"idle\"}  {mode=\"iowait\"}  {mode=\"irq\"}  {mode=\"nice\"}   \n",
       "count     301.000000       301.000000         301.0          301.0  \\\n",
       "mean       99.407577         0.001038           0.0            0.0   \n",
       "std         0.082584         0.002668           0.0            0.0   \n",
       "min        99.076389         0.000000           0.0            0.0   \n",
       "25%        99.361111         0.000000           0.0            0.0   \n",
       "50%        99.402778         0.000000           0.0            0.0   \n",
       "75%        99.451389         0.000000           0.0            0.0   \n",
       "max        99.840278         0.013889           0.0            0.0   \n",
       "\n",
       "       {mode=\"softirq\"}  {mode=\"steal\"}  {mode=\"system\"}  {mode=\"user\"}  \n",
       "count        301.000000           301.0       301.000000     301.000000  \n",
       "mean           0.012159             0.0         0.068568       0.416182  \n",
       "std            0.010580             0.0         0.014193       0.036469  \n",
       "min            0.000000             0.0         0.027778       0.319444  \n",
       "25%            0.000000             0.0         0.062500       0.395833  \n",
       "50%            0.013889             0.0         0.069444       0.423611  \n",
       "75%            0.020833             0.0         0.076389       0.444444  \n",
       "max            0.041667             0.0         0.111111       0.493056  "
      ]
     },
     "metadata": {},
     "output_type": "display_data"
    },
    {
     "data": {
      "text/markdown": [
       "### Per Measurement"
      ],
      "text/plain": [
       "<IPython.core.display.Markdown object>"
      ]
     },
     "metadata": {},
     "output_type": "display_data"
    },
    {
     "data": {
      "text/plain": [
       "                      measurement\n",
       "{mode=\"idle\"}  count  1              301.000000\n",
       "               mean   1               99.407577\n",
       "               std    1                0.082584\n",
       "               min    1               99.076389\n",
       "               25%    1               99.361111\n",
       "                                        ...    \n",
       "{mode=\"user\"}  min    1                0.319444\n",
       "               25%    1                0.395833\n",
       "               50%    1                0.423611\n",
       "               75%    1                0.444444\n",
       "               max    1                0.493056\n",
       "Length: 64, dtype: float64"
      ]
     },
     "metadata": {},
     "output_type": "display_data"
    },
    {
     "data": {
      "text/plain": [
       "<Axes: xlabel='seconds', ylabel='%'>"
      ]
     },
     "execution_count": 228,
     "metadata": {},
     "output_type": "execute_result"
    },
    {
     "data": {
      "image/png": "[encoded data removed]",
      "text/plain": [
       "<Figure size 1000x300 with 1 Axes>"
      ]
     },
     "metadata": {},
     "output_type": "display_data"
    }
   ],
   "source": [
    "cpu_utilization = prepare_cpu_utilization(bm)\n",
    "describe_measurement_dataframe(cpu_utilization)\n",
    "\n",
    "grouped_mean = power_metrics.groupby(by=['seconds']).mean()\n",
    "grouped_mean.drop(['measurement'], inplace=True, axis=1)\n",
    "grouped_mean.plot(drawstyle='steps',figsize=(10,3),ylim=(-5,105),ylabel='%')"
   ]
  },
  {
   "cell_type": "markdown",
   "id": "d9f626e9-93c7-4304-a84d-2789ef5829a2",
   "metadata": {},
   "source": [
    "## Memory"
   ]
  },
  {
   "cell_type": "code",
   "execution_count": 229,
   "id": "9a66b19a-7298-4efd-a30e-a1e444236225",
   "metadata": {
    "tags": []
   },
   "outputs": [
    {
     "name": "stdout",
     "output_type": "stream",
     "text": [
      "[Measurement 1] Querying '\n",
      "      100 * (1 - ((avg_over_time(node_memory_MemFree_bytes[10s]) + avg_over_time(node_memory_Cached_bytes[10s]) + avg_over_time(node_memory_Buffers_bytes[10s])) / avg_over_time(node_memory_MemTotal_bytes[10s])))\n",
      "    ' from 1681634834 to 1681635134 with step 1s ...\n"
     ]
    },
    {
     "data": {
      "text/markdown": [
       "### Total "
      ],
      "text/plain": [
       "<IPython.core.display.Markdown object>"
      ]
     },
     "metadata": {},
     "output_type": "display_data"
    },
    {
     "data": {
      "text/html": [
       "<div>\n",
       "<style scoped>\n",
       "    .dataframe tbody tr th:only-of-type {\n",
       "        vertical-align: middle;\n",
       "    }\n",
       "\n",
       "    .dataframe tbody tr th {\n",
       "        vertical-align: top;\n",
       "    }\n",
       "\n",
       "    .dataframe thead th {\n",
       "        text-align: right;\n",
       "    }\n",
       "</style>\n",
       "<table border=\"1\" class=\"dataframe\">\n",
       "  <thead>\n",
       "    <tr style=\"text-align: right;\">\n",
       "      <th></th>\n",
       "      <th>{instance=\"192.168.178.79:9100\",job=\"node\"}</th>\n",
       "    </tr>\n",
       "  </thead>\n",
       "  <tbody>\n",
       "    <tr>\n",
       "      <th>count</th>\n",
       "      <td>301.000000</td>\n",
       "    </tr>\n",
       "    <tr>\n",
       "      <th>mean</th>\n",
       "      <td>1.063313</td>\n",
       "    </tr>\n",
       "    <tr>\n",
       "      <th>std</th>\n",
       "      <td>0.004534</td>\n",
       "    </tr>\n",
       "    <tr>\n",
       "      <th>min</th>\n",
       "      <td>1.055603</td>\n",
       "    </tr>\n",
       "    <tr>\n",
       "      <th>25%</th>\n",
       "      <td>1.059990</td>\n",
       "    </tr>\n",
       "    <tr>\n",
       "      <th>50%</th>\n",
       "      <td>1.063192</td>\n",
       "    </tr>\n",
       "    <tr>\n",
       "      <th>75%</th>\n",
       "      <td>1.065911</td>\n",
       "    </tr>\n",
       "    <tr>\n",
       "      <th>max</th>\n",
       "      <td>1.077417</td>\n",
       "    </tr>\n",
       "  </tbody>\n",
       "</table>\n",
       "</div>"
      ],
      "text/plain": [
       "       {instance=\"192.168.178.79:9100\",job=\"node\"}\n",
       "count                                   301.000000\n",
       "mean                                      1.063313\n",
       "std                                       0.004534\n",
       "min                                       1.055603\n",
       "25%                                       1.059990\n",
       "50%                                       1.063192\n",
       "75%                                       1.065911\n",
       "max                                       1.077417"
      ]
     },
     "metadata": {},
     "output_type": "display_data"
    },
    {
     "data": {
      "text/markdown": [
       "### Per Measurement"
      ],
      "text/plain": [
       "<IPython.core.display.Markdown object>"
      ]
     },
     "metadata": {},
     "output_type": "display_data"
    },
    {
     "data": {
      "text/plain": [
       "                                                    measurement\n",
       "{instance=\"192.168.178.79:9100\",job=\"node\"}  count  1              301.000000\n",
       "                                             mean   1                1.063313\n",
       "                                             std    1                0.004534\n",
       "                                             min    1                1.055603\n",
       "                                             25%    1                1.059990\n",
       "                                             50%    1                1.063192\n",
       "                                             75%    1                1.065911\n",
       "                                             max    1                1.077417\n",
       "dtype: float64"
      ]
     },
     "metadata": {},
     "output_type": "display_data"
    },
    {
     "data": {
      "text/plain": [
       "<Axes: xlabel='seconds', ylabel='%'>"
      ]
     },
     "execution_count": 229,
     "metadata": {},
     "output_type": "execute_result"
    },
    {
     "data": {
      "image/png": "[encoded data removed]",
      "text/plain": [
       "<Figure size 1000x300 with 1 Axes>"
      ]
     },
     "metadata": {},
     "output_type": "display_data"
    }
   ],
   "source": [
    "memory_usage = prepare_memory_utilization(bm)\n",
    "describe_measurement_dataframe(memory_usage)\n",
    "\n",
    "grouped_mean = memory_usage.groupby(by=['seconds']).mean()\n",
    "grouped_mean.drop(['measurement'], inplace=True, axis=1)\n",
    "grouped_mean.plot(drawstyle='steps',figsize=(10,3),ylim=(-5,105),ylabel='%')"
   ]
  },
  {
   "cell_type": "markdown",
   "id": "76e2ae12-097d-4c5d-8409-2469bf3b19ae",
   "metadata": {},
   "source": [
    "## Network"
   ]
  },
  {
   "cell_type": "code",
   "execution_count": 230,
   "id": "c93aafae-abb0-4ba7-83c0-05f992c8ac5f",
   "metadata": {
    "tags": []
   },
   "outputs": [],
   "source": [
    "# This is going to be the label filter we're going to use\n",
    "net_filter_label = f\"{{device=~\\\"{'|'.join(NET_DEVICES)}\\\"}}\""
   ]
  },
  {
   "cell_type": "markdown",
   "id": "fe8d98f2-cf08-4a77-af2a-c3bf25d650ee",
   "metadata": {},
   "source": [
    "### Received KBytes"
   ]
  },
  {
   "cell_type": "code",
   "execution_count": 231,
   "id": "86fed23e-16ef-43a7-9169-9cc661d52420",
   "metadata": {
    "tags": []
   },
   "outputs": [
    {
     "name": "stdout",
     "output_type": "stream",
     "text": [
      "[Measurement 1] Querying 'sum by(device) (increase(node_network_receive_bytes_total{device=~\"docker0|enp7s0|lo\"}[5m])) / 1000' at 1681635134 ...\n"
     ]
    },
    {
     "data": {
      "text/markdown": [
       "### Total "
      ],
      "text/plain": [
       "<IPython.core.display.Markdown object>"
      ]
     },
     "metadata": {},
     "output_type": "display_data"
    },
    {
     "data": {
      "text/html": [
       "<div>\n",
       "<style scoped>\n",
       "    .dataframe tbody tr th:only-of-type {\n",
       "        vertical-align: middle;\n",
       "    }\n",
       "\n",
       "    .dataframe tbody tr th {\n",
       "        vertical-align: top;\n",
       "    }\n",
       "\n",
       "    .dataframe thead th {\n",
       "        text-align: right;\n",
       "    }\n",
       "</style>\n",
       "<table border=\"1\" class=\"dataframe\">\n",
       "  <thead>\n",
       "    <tr style=\"text-align: right;\">\n",
       "      <th></th>\n",
       "      <th>value</th>\n",
       "    </tr>\n",
       "  </thead>\n",
       "  <tbody>\n",
       "    <tr>\n",
       "      <th>count</th>\n",
       "      <td>3.000000</td>\n",
       "    </tr>\n",
       "    <tr>\n",
       "      <th>mean</th>\n",
       "      <td>104.487625</td>\n",
       "    </tr>\n",
       "    <tr>\n",
       "      <th>std</th>\n",
       "      <td>180.977876</td>\n",
       "    </tr>\n",
       "    <tr>\n",
       "      <th>min</th>\n",
       "      <td>0.000000</td>\n",
       "    </tr>\n",
       "    <tr>\n",
       "      <th>25%</th>\n",
       "      <td>0.000000</td>\n",
       "    </tr>\n",
       "    <tr>\n",
       "      <th>50%</th>\n",
       "      <td>0.000000</td>\n",
       "    </tr>\n",
       "    <tr>\n",
       "      <th>75%</th>\n",
       "      <td>156.731438</td>\n",
       "    </tr>\n",
       "    <tr>\n",
       "      <th>max</th>\n",
       "      <td>313.462876</td>\n",
       "    </tr>\n",
       "  </tbody>\n",
       "</table>\n",
       "</div>"
      ],
      "text/plain": [
       "            value\n",
       "count    3.000000\n",
       "mean   104.487625\n",
       "std    180.977876\n",
       "min      0.000000\n",
       "25%      0.000000\n",
       "50%      0.000000\n",
       "75%    156.731438\n",
       "max    313.462876"
      ]
     },
     "metadata": {},
     "output_type": "display_data"
    },
    {
     "data": {
      "text/markdown": [
       "### Per Measurement"
      ],
      "text/plain": [
       "<IPython.core.display.Markdown object>"
      ]
     },
     "metadata": {},
     "output_type": "display_data"
    },
    {
     "data": {
      "text/plain": [
       "              measurement\n",
       "value  count  1                3.000000\n",
       "       mean   1              104.487625\n",
       "       std    1              180.977876\n",
       "       min    1                0.000000\n",
       "       25%    1                0.000000\n",
       "       50%    1                0.000000\n",
       "       75%    1              156.731438\n",
       "       max    1              313.462876\n",
       "dtype: float64"
      ]
     },
     "metadata": {},
     "output_type": "display_data"
    },
    {
     "data": {
      "text/plain": [
       "<Axes: ylabel='Received KBytes'>"
      ]
     },
     "execution_count": 231,
     "metadata": {},
     "output_type": "execute_result"
    },
    {
     "data": {
      "image/png": "[encoded data removed]",
      "text/plain": [
       "<Figure size 640x480 with 1 Axes>"
      ]
     },
     "metadata": {},
     "output_type": "display_data"
    }
   ],
   "source": [
    "network_received_bytes = prepare_network_received_bytes(bm)\n",
    "describe_measurement_dataframe(network_received_bytes)\n",
    "\n",
    "grouped_mean = network_received_bytes.groupby(level=0).mean()\n",
    "grouped_mean.drop(['measurement'], inplace=True, axis=1)\n",
    "grouped_mean.plot.bar(ylabel='Received KBytes')"
   ]
  },
  {
   "cell_type": "code",
   "execution_count": 232,
   "id": "503a42ea-6fe5-41d8-9418-604b00a71d97",
   "metadata": {
    "tags": []
   },
   "outputs": [
    {
     "name": "stdout",
     "output_type": "stream",
     "text": [
      "[Measurement 1] Querying 'avg by (device) (rate(node_network_receive_bytes_total{device=~\"docker0|enp7s0|lo\"}[10s]))' from 1681634834 to 1681635134 with step 1s ...\n"
     ]
    },
    {
     "data": {
      "text/markdown": [
       "### Total "
      ],
      "text/plain": [
       "<IPython.core.display.Markdown object>"
      ]
     },
     "metadata": {},
     "output_type": "display_data"
    },
    {
     "data": {
      "text/html": [
       "<div>\n",
       "<style scoped>\n",
       "    .dataframe tbody tr th:only-of-type {\n",
       "        vertical-align: middle;\n",
       "    }\n",
       "\n",
       "    .dataframe tbody tr th {\n",
       "        vertical-align: top;\n",
       "    }\n",
       "\n",
       "    .dataframe thead th {\n",
       "        text-align: right;\n",
       "    }\n",
       "</style>\n",
       "<table border=\"1\" class=\"dataframe\">\n",
       "  <thead>\n",
       "    <tr style=\"text-align: right;\">\n",
       "      <th></th>\n",
       "      <th>{device=\"docker0\"}</th>\n",
       "      <th>{device=\"enp7s0\"}</th>\n",
       "      <th>{device=\"lo\"}</th>\n",
       "    </tr>\n",
       "  </thead>\n",
       "  <tbody>\n",
       "    <tr>\n",
       "      <th>count</th>\n",
       "      <td>301.0</td>\n",
       "      <td>301.000000</td>\n",
       "      <td>301.0</td>\n",
       "    </tr>\n",
       "    <tr>\n",
       "      <th>mean</th>\n",
       "      <td>0.0</td>\n",
       "      <td>1045.552602</td>\n",
       "      <td>0.0</td>\n",
       "    </tr>\n",
       "    <tr>\n",
       "      <th>std</th>\n",
       "      <td>0.0</td>\n",
       "      <td>43.988468</td>\n",
       "      <td>0.0</td>\n",
       "    </tr>\n",
       "    <tr>\n",
       "      <th>min</th>\n",
       "      <td>0.0</td>\n",
       "      <td>944.666667</td>\n",
       "      <td>0.0</td>\n",
       "    </tr>\n",
       "    <tr>\n",
       "      <th>25%</th>\n",
       "      <td>0.0</td>\n",
       "      <td>1012.444444</td>\n",
       "      <td>0.0</td>\n",
       "    </tr>\n",
       "    <tr>\n",
       "      <th>50%</th>\n",
       "      <td>0.0</td>\n",
       "      <td>1042.666667</td>\n",
       "      <td>0.0</td>\n",
       "    </tr>\n",
       "    <tr>\n",
       "      <th>75%</th>\n",
       "      <td>0.0</td>\n",
       "      <td>1073.333333</td>\n",
       "      <td>0.0</td>\n",
       "    </tr>\n",
       "    <tr>\n",
       "      <th>max</th>\n",
       "      <td>0.0</td>\n",
       "      <td>1157.333333</td>\n",
       "      <td>0.0</td>\n",
       "    </tr>\n",
       "  </tbody>\n",
       "</table>\n",
       "</div>"
      ],
      "text/plain": [
       "       {device=\"docker0\"}  {device=\"enp7s0\"}  {device=\"lo\"}\n",
       "count               301.0         301.000000          301.0\n",
       "mean                  0.0        1045.552602            0.0\n",
       "std                   0.0          43.988468            0.0\n",
       "min                   0.0         944.666667            0.0\n",
       "25%                   0.0        1012.444444            0.0\n",
       "50%                   0.0        1042.666667            0.0\n",
       "75%                   0.0        1073.333333            0.0\n",
       "max                   0.0        1157.333333            0.0"
      ]
     },
     "metadata": {},
     "output_type": "display_data"
    },
    {
     "data": {
      "text/markdown": [
       "### Per Measurement"
      ],
      "text/plain": [
       "<IPython.core.display.Markdown object>"
      ]
     },
     "metadata": {},
     "output_type": "display_data"
    },
    {
     "data": {
      "text/plain": [
       "                           measurement\n",
       "{device=\"docker0\"}  count  1               301.000000\n",
       "                    mean   1                 0.000000\n",
       "                    std    1                 0.000000\n",
       "                    min    1                 0.000000\n",
       "                    25%    1                 0.000000\n",
       "                    50%    1                 0.000000\n",
       "                    75%    1                 0.000000\n",
       "                    max    1                 0.000000\n",
       "{device=\"enp7s0\"}   count  1               301.000000\n",
       "                    mean   1              1045.552602\n",
       "                    std    1                43.988468\n",
       "                    min    1               944.666667\n",
       "                    25%    1              1012.444444\n",
       "                    50%    1              1042.666667\n",
       "                    75%    1              1073.333333\n",
       "                    max    1              1157.333333\n",
       "{device=\"lo\"}       count  1               301.000000\n",
       "                    mean   1                 0.000000\n",
       "                    std    1                 0.000000\n",
       "                    min    1                 0.000000\n",
       "                    25%    1                 0.000000\n",
       "                    50%    1                 0.000000\n",
       "                    75%    1                 0.000000\n",
       "                    max    1                 0.000000\n",
       "dtype: float64"
      ]
     },
     "metadata": {},
     "output_type": "display_data"
    },
    {
     "data": {
      "text/plain": [
       "<Axes: xlabel='seconds', ylabel='Bytes'>"
      ]
     },
     "execution_count": 232,
     "metadata": {},
     "output_type": "execute_result"
    },
    {
     "data": {
      "image/png": "[encoded data removed]",
      "text/plain": [
       "<Figure size 1000x300 with 1 Axes>"
      ]
     },
     "metadata": {},
     "output_type": "display_data"
    }
   ],
   "source": [
    "network_average_receive_rate = prepare_network_average_receive_rate(bm)\n",
    "describe_measurement_dataframe(network_average_receive_rate)\n",
    "\n",
    "grouped_mean = network_average_receive_rate.groupby(by=['seconds']).mean()\n",
    "grouped_mean.drop(['measurement'], inplace=True, axis=1)\n",
    "grouped_mean.plot(drawstyle='steps',figsize=(10,3),ylabel='Bytes')"
   ]
  },
  {
   "cell_type": "markdown",
   "id": "361c4c3c-59bc-45ed-858c-3630929e983b",
   "metadata": {},
   "source": [
    "### Sent KByte"
   ]
  },
  {
   "cell_type": "code",
   "execution_count": 233,
   "id": "06ae89ef-b81d-4470-8940-fd45ab66d346",
   "metadata": {
    "tags": []
   },
   "outputs": [
    {
     "name": "stdout",
     "output_type": "stream",
     "text": [
      "[Measurement 1] Querying 'sum by(device) (increase(node_network_transmit_bytes_total{device=~\"docker0|enp7s0|lo\"}[5m])) / 1000' at 1681635134 ...\n"
     ]
    },
    {
     "data": {
      "text/markdown": [
       "### Total "
      ],
      "text/plain": [
       "<IPython.core.display.Markdown object>"
      ]
     },
     "metadata": {},
     "output_type": "display_data"
    },
    {
     "data": {
      "text/html": [
       "<div>\n",
       "<style scoped>\n",
       "    .dataframe tbody tr th:only-of-type {\n",
       "        vertical-align: middle;\n",
       "    }\n",
       "\n",
       "    .dataframe tbody tr th {\n",
       "        vertical-align: top;\n",
       "    }\n",
       "\n",
       "    .dataframe thead th {\n",
       "        text-align: right;\n",
       "    }\n",
       "</style>\n",
       "<table border=\"1\" class=\"dataframe\">\n",
       "  <thead>\n",
       "    <tr style=\"text-align: right;\">\n",
       "      <th></th>\n",
       "      <th>value</th>\n",
       "    </tr>\n",
       "  </thead>\n",
       "  <tbody>\n",
       "    <tr>\n",
       "      <th>count</th>\n",
       "      <td>3.000000</td>\n",
       "    </tr>\n",
       "    <tr>\n",
       "      <th>mean</th>\n",
       "      <td>1981.348829</td>\n",
       "    </tr>\n",
       "    <tr>\n",
       "      <th>std</th>\n",
       "      <td>3431.796840</td>\n",
       "    </tr>\n",
       "    <tr>\n",
       "      <th>min</th>\n",
       "      <td>0.000000</td>\n",
       "    </tr>\n",
       "    <tr>\n",
       "      <th>25%</th>\n",
       "      <td>0.000000</td>\n",
       "    </tr>\n",
       "    <tr>\n",
       "      <th>50%</th>\n",
       "      <td>0.000000</td>\n",
       "    </tr>\n",
       "    <tr>\n",
       "      <th>75%</th>\n",
       "      <td>2972.023244</td>\n",
       "    </tr>\n",
       "    <tr>\n",
       "      <th>max</th>\n",
       "      <td>5944.046488</td>\n",
       "    </tr>\n",
       "  </tbody>\n",
       "</table>\n",
       "</div>"
      ],
      "text/plain": [
       "             value\n",
       "count     3.000000\n",
       "mean   1981.348829\n",
       "std    3431.796840\n",
       "min       0.000000\n",
       "25%       0.000000\n",
       "50%       0.000000\n",
       "75%    2972.023244\n",
       "max    5944.046488"
      ]
     },
     "metadata": {},
     "output_type": "display_data"
    },
    {
     "data": {
      "text/markdown": [
       "### Per Measurement"
      ],
      "text/plain": [
       "<IPython.core.display.Markdown object>"
      ]
     },
     "metadata": {},
     "output_type": "display_data"
    },
    {
     "data": {
      "text/plain": [
       "              measurement\n",
       "value  count  1                 3.000000\n",
       "       mean   1              1981.348829\n",
       "       std    1              3431.796840\n",
       "       min    1                 0.000000\n",
       "       25%    1                 0.000000\n",
       "       50%    1                 0.000000\n",
       "       75%    1              2972.023244\n",
       "       max    1              5944.046488\n",
       "dtype: float64"
      ]
     },
     "metadata": {},
     "output_type": "display_data"
    },
    {
     "data": {
      "text/plain": [
       "<Axes: ylabel='Sent KBytes'>"
      ]
     },
     "execution_count": 233,
     "metadata": {},
     "output_type": "execute_result"
    },
    {
     "data": {
      "image/png": "[encoded data removed]",
      "text/plain": [
       "<Figure size 640x480 with 1 Axes>"
      ]
     },
     "metadata": {},
     "output_type": "display_data"
    }
   ],
   "source": [
    "network_transmitted_bytes = prepare_network_transmitted_bytes(bm)\n",
    "describe_measurement_dataframe(network_transmitted_bytes)\n",
    "\n",
    "grouped_mean = network_transmitted_bytes.groupby(level=0).mean()\n",
    "grouped_mean.drop(['measurement'], inplace=True, axis=1)\n",
    "grouped_mean.plot.bar(ylabel='Sent KBytes')"
   ]
  },
  {
   "cell_type": "code",
   "execution_count": 234,
   "id": "b753ef53-26b3-4d08-bf71-0af5fe447726",
   "metadata": {
    "tags": []
   },
   "outputs": [
    {
     "name": "stdout",
     "output_type": "stream",
     "text": [
      "[Measurement 1] Querying 'avg by (device) (rate(node_network_transmit_bytes_total{device=~\"docker0|enp7s0|lo\"}[10s]))' from 1681634834 to 1681635134 with step 1s ...\n"
     ]
    },
    {
     "data": {
      "text/markdown": [
       "### Total "
      ],
      "text/plain": [
       "<IPython.core.display.Markdown object>"
      ]
     },
     "metadata": {},
     "output_type": "display_data"
    },
    {
     "data": {
      "text/html": [
       "<div>\n",
       "<style scoped>\n",
       "    .dataframe tbody tr th:only-of-type {\n",
       "        vertical-align: middle;\n",
       "    }\n",
       "\n",
       "    .dataframe tbody tr th {\n",
       "        vertical-align: top;\n",
       "    }\n",
       "\n",
       "    .dataframe thead th {\n",
       "        text-align: right;\n",
       "    }\n",
       "</style>\n",
       "<table border=\"1\" class=\"dataframe\">\n",
       "  <thead>\n",
       "    <tr style=\"text-align: right;\">\n",
       "      <th></th>\n",
       "      <th>{device=\"docker0\"}</th>\n",
       "      <th>{device=\"enp7s0\"}</th>\n",
       "      <th>{device=\"lo\"}</th>\n",
       "    </tr>\n",
       "  </thead>\n",
       "  <tbody>\n",
       "    <tr>\n",
       "      <th>count</th>\n",
       "      <td>301.0</td>\n",
       "      <td>301.000000</td>\n",
       "      <td>301.0</td>\n",
       "    </tr>\n",
       "    <tr>\n",
       "      <th>mean</th>\n",
       "      <td>0.0</td>\n",
       "      <td>19813.594684</td>\n",
       "      <td>0.0</td>\n",
       "    </tr>\n",
       "    <tr>\n",
       "      <th>std</th>\n",
       "      <td>0.0</td>\n",
       "      <td>8.070060</td>\n",
       "      <td>0.0</td>\n",
       "    </tr>\n",
       "    <tr>\n",
       "      <th>min</th>\n",
       "      <td>0.0</td>\n",
       "      <td>19785.111111</td>\n",
       "      <td>0.0</td>\n",
       "    </tr>\n",
       "    <tr>\n",
       "      <th>25%</th>\n",
       "      <td>0.0</td>\n",
       "      <td>19808.444444</td>\n",
       "      <td>0.0</td>\n",
       "    </tr>\n",
       "    <tr>\n",
       "      <th>50%</th>\n",
       "      <td>0.0</td>\n",
       "      <td>19814.222222</td>\n",
       "      <td>0.0</td>\n",
       "    </tr>\n",
       "    <tr>\n",
       "      <th>75%</th>\n",
       "      <td>0.0</td>\n",
       "      <td>19819.000000</td>\n",
       "      <td>0.0</td>\n",
       "    </tr>\n",
       "    <tr>\n",
       "      <th>max</th>\n",
       "      <td>0.0</td>\n",
       "      <td>19835.888889</td>\n",
       "      <td>0.0</td>\n",
       "    </tr>\n",
       "  </tbody>\n",
       "</table>\n",
       "</div>"
      ],
      "text/plain": [
       "       {device=\"docker0\"}  {device=\"enp7s0\"}  {device=\"lo\"}\n",
       "count               301.0         301.000000          301.0\n",
       "mean                  0.0       19813.594684            0.0\n",
       "std                   0.0           8.070060            0.0\n",
       "min                   0.0       19785.111111            0.0\n",
       "25%                   0.0       19808.444444            0.0\n",
       "50%                   0.0       19814.222222            0.0\n",
       "75%                   0.0       19819.000000            0.0\n",
       "max                   0.0       19835.888889            0.0"
      ]
     },
     "metadata": {},
     "output_type": "display_data"
    },
    {
     "data": {
      "text/markdown": [
       "### Per Measurement"
      ],
      "text/plain": [
       "<IPython.core.display.Markdown object>"
      ]
     },
     "metadata": {},
     "output_type": "display_data"
    },
    {
     "data": {
      "text/plain": [
       "                           measurement\n",
       "{device=\"docker0\"}  count  1                301.000000\n",
       "                    mean   1                  0.000000\n",
       "                    std    1                  0.000000\n",
       "                    min    1                  0.000000\n",
       "                    25%    1                  0.000000\n",
       "                    50%    1                  0.000000\n",
       "                    75%    1                  0.000000\n",
       "                    max    1                  0.000000\n",
       "{device=\"enp7s0\"}   count  1                301.000000\n",
       "                    mean   1              19813.594684\n",
       "                    std    1                  8.070060\n",
       "                    min    1              19785.111111\n",
       "                    25%    1              19808.444444\n",
       "                    50%    1              19814.222222\n",
       "                    75%    1              19819.000000\n",
       "                    max    1              19835.888889\n",
       "{device=\"lo\"}       count  1                301.000000\n",
       "                    mean   1                  0.000000\n",
       "                    std    1                  0.000000\n",
       "                    min    1                  0.000000\n",
       "                    25%    1                  0.000000\n",
       "                    50%    1                  0.000000\n",
       "                    75%    1                  0.000000\n",
       "                    max    1                  0.000000\n",
       "dtype: float64"
      ]
     },
     "metadata": {},
     "output_type": "display_data"
    },
    {
     "data": {
      "text/plain": [
       "<Axes: xlabel='seconds', ylabel='Bytes'>"
      ]
     },
     "execution_count": 234,
     "metadata": {},
     "output_type": "execute_result"
    },
    {
     "data": {
      "image/png": "[encoded data removed]",
      "text/plain": [
       "<Figure size 1000x300 with 1 Axes>"
      ]
     },
     "metadata": {},
     "output_type": "display_data"
    }
   ],
   "source": [
    "network_average_transmit_rate = prepare_network_average_transmit_rate(bm)\n",
    "describe_measurement_dataframe(network_average_transmit_rate)\n",
    "\n",
    "grouped_mean = network_average_transmit_rate.groupby(by=['seconds']).mean()\n",
    "grouped_mean.drop(['measurement'], inplace=True, axis=1)\n",
    "grouped_mean.plot(drawstyle='steps',figsize=(10,3),ylabel='Bytes')"
   ]
  },
  {
   "cell_type": "markdown",
   "id": "e3470119-f719-4ce2-ab8c-072eedfcf11f",
   "metadata": {},
   "source": [
    "# Disk"
   ]
  },
  {
   "cell_type": "code",
   "execution_count": 235,
   "id": "a3ed7e8d-9f67-4812-926e-91ba47c4a56d",
   "metadata": {
    "tags": []
   },
   "outputs": [],
   "source": [
    "# This is going to be the label filter we're going to use\n",
    "disk_filter_label = f\"{{device=~\\\"{'|'.join(DISK_DEVICES)}\\\"}}\""
   ]
  },
  {
   "cell_type": "code",
   "execution_count": 236,
   "id": "6c47c0f5-c1c5-4f38-8eb4-cc163bcc796a",
   "metadata": {
    "tags": []
   },
   "outputs": [
    {
     "name": "stdout",
     "output_type": "stream",
     "text": [
      "[Measurement 1] Querying 'increase(node_disk_io_time_seconds_total{device=~\"sda\"}[10s])' at 1681635134 ...\n"
     ]
    },
    {
     "data": {
      "text/html": [
       "<div>\n",
       "<style scoped>\n",
       "    .dataframe tbody tr th:only-of-type {\n",
       "        vertical-align: middle;\n",
       "    }\n",
       "\n",
       "    .dataframe tbody tr th {\n",
       "        vertical-align: top;\n",
       "    }\n",
       "\n",
       "    .dataframe thead th {\n",
       "        text-align: right;\n",
       "    }\n",
       "</style>\n",
       "<table border=\"1\" class=\"dataframe\">\n",
       "  <thead>\n",
       "    <tr style=\"text-align: right;\">\n",
       "      <th></th>\n",
       "      <th>value</th>\n",
       "      <th>measurement</th>\n",
       "    </tr>\n",
       "  </thead>\n",
       "  <tbody>\n",
       "    <tr>\n",
       "      <th>{device=\"sda\",instance=\"192.168.178.79:9100\",job=\"node\"}</th>\n",
       "      <td>0.0</td>\n",
       "      <td>1.0</td>\n",
       "    </tr>\n",
       "  </tbody>\n",
       "</table>\n",
       "</div>"
      ],
      "text/plain": [
       "                                                    value  measurement\n",
       "{device=\"sda\",instance=\"192.168.178.79:9100\",jo...    0.0          1.0"
      ]
     },
     "metadata": {},
     "output_type": "display_data"
    }
   ],
   "source": [
    "total_disk_io_seconds = prepare_total_disk_io_seconds(bm)\n",
    "\n",
    "grouped_result = total_disk_io_seconds.groupby(level=0).mean()\n",
    "display(grouped_result)"
   ]
  },
  {
   "cell_type": "code",
   "execution_count": 237,
   "id": "38ac2475-9cc4-44fb-8abe-a2d6f7545e37",
   "metadata": {
    "tags": []
   },
   "outputs": [
    {
     "name": "stdout",
     "output_type": "stream",
     "text": [
      "[Measurement 1] Querying 'avg by (device) (rate(node_disk_io_time_seconds_total{device=~\"sda\"}[10s]))' from 1681634834 to 1681635134 with step 1s ...\n"
     ]
    },
    {
     "data": {
      "text/markdown": [
       "### Total "
      ],
      "text/plain": [
       "<IPython.core.display.Markdown object>"
      ]
     },
     "metadata": {},
     "output_type": "display_data"
    },
    {
     "data": {
      "text/html": [
       "<div>\n",
       "<style scoped>\n",
       "    .dataframe tbody tr th:only-of-type {\n",
       "        vertical-align: middle;\n",
       "    }\n",
       "\n",
       "    .dataframe tbody tr th {\n",
       "        vertical-align: top;\n",
       "    }\n",
       "\n",
       "    .dataframe thead th {\n",
       "        text-align: right;\n",
       "    }\n",
       "</style>\n",
       "<table border=\"1\" class=\"dataframe\">\n",
       "  <thead>\n",
       "    <tr style=\"text-align: right;\">\n",
       "      <th></th>\n",
       "      <th>Current</th>\n",
       "      <th>Watts</th>\n",
       "      <th>Voltage</th>\n",
       "    </tr>\n",
       "  </thead>\n",
       "  <tbody>\n",
       "    <tr>\n",
       "      <th>count</th>\n",
       "      <td>301.000000</td>\n",
       "      <td>301.000000</td>\n",
       "      <td>301.000000</td>\n",
       "    </tr>\n",
       "    <tr>\n",
       "      <th>mean</th>\n",
       "      <td>262.259136</td>\n",
       "      <td>47.438538</td>\n",
       "      <td>237.239203</td>\n",
       "    </tr>\n",
       "    <tr>\n",
       "      <th>std</th>\n",
       "      <td>0.786951</td>\n",
       "      <td>0.497034</td>\n",
       "      <td>0.427307</td>\n",
       "    </tr>\n",
       "    <tr>\n",
       "      <th>min</th>\n",
       "      <td>261.000000</td>\n",
       "      <td>47.000000</td>\n",
       "      <td>237.000000</td>\n",
       "    </tr>\n",
       "    <tr>\n",
       "      <th>25%</th>\n",
       "      <td>262.000000</td>\n",
       "      <td>47.000000</td>\n",
       "      <td>237.000000</td>\n",
       "    </tr>\n",
       "    <tr>\n",
       "      <th>50%</th>\n",
       "      <td>262.000000</td>\n",
       "      <td>47.000000</td>\n",
       "      <td>237.000000</td>\n",
       "    </tr>\n",
       "    <tr>\n",
       "      <th>75%</th>\n",
       "      <td>263.000000</td>\n",
       "      <td>48.000000</td>\n",
       "      <td>237.000000</td>\n",
       "    </tr>\n",
       "    <tr>\n",
       "      <th>max</th>\n",
       "      <td>265.000000</td>\n",
       "      <td>48.000000</td>\n",
       "      <td>238.000000</td>\n",
       "    </tr>\n",
       "  </tbody>\n",
       "</table>\n",
       "</div>"
      ],
      "text/plain": [
       "          Current       Watts     Voltage\n",
       "count  301.000000  301.000000  301.000000\n",
       "mean   262.259136   47.438538  237.239203\n",
       "std      0.786951    0.497034    0.427307\n",
       "min    261.000000   47.000000  237.000000\n",
       "25%    262.000000   47.000000  237.000000\n",
       "50%    262.000000   47.000000  237.000000\n",
       "75%    263.000000   48.000000  237.000000\n",
       "max    265.000000   48.000000  238.000000"
      ]
     },
     "metadata": {},
     "output_type": "display_data"
    },
    {
     "data": {
      "text/markdown": [
       "### Per Measurement"
      ],
      "text/plain": [
       "<IPython.core.display.Markdown object>"
      ]
     },
     "metadata": {},
     "output_type": "display_data"
    },
    {
     "data": {
      "text/plain": [
       "                measurement\n",
       "Current  count  1              301.000000\n",
       "         mean   1              262.259136\n",
       "         std    1                0.786951\n",
       "         min    1              261.000000\n",
       "         25%    1              262.000000\n",
       "         50%    1              262.000000\n",
       "         75%    1              263.000000\n",
       "         max    1              265.000000\n",
       "Voltage  count  1              301.000000\n",
       "         mean   1              237.239203\n",
       "         std    1                0.427307\n",
       "         min    1              237.000000\n",
       "         25%    1              237.000000\n",
       "         50%    1              237.000000\n",
       "         75%    1              237.000000\n",
       "         max    1              238.000000\n",
       "Watts    count  1              301.000000\n",
       "         mean   1               47.438538\n",
       "         std    1                0.497034\n",
       "         min    1               47.000000\n",
       "         25%    1               47.000000\n",
       "         50%    1               47.000000\n",
       "         75%    1               48.000000\n",
       "         max    1               48.000000\n",
       "dtype: float64"
      ]
     },
     "metadata": {},
     "output_type": "display_data"
    },
    {
     "data": {
      "text/plain": [
       "<Axes: xlabel='seconds', ylabel='I/O seconds'>"
      ]
     },
     "execution_count": 237,
     "metadata": {},
     "output_type": "execute_result"
    },
    {
     "data": {
      "image/png": "[encoded data removed]",
      "text/plain": [
       "<Figure size 1000x300 with 1 Axes>"
      ]
     },
     "metadata": {},
     "output_type": "display_data"
    }
   ],
   "source": [
    "disk_io_rate = prepare_disk_io_rate(bm)\n",
    "describe_measurement_dataframe(power_metrics)\n",
    "\n",
    "grouped_mean = disk_io_rate.groupby(by=['seconds']).mean()\n",
    "grouped_mean.drop(['measurement'], inplace=True, axis=1)\n",
    "grouped_mean.plot(drawstyle='steps',figsize=(10,3),ylabel='I/O seconds')"
   ]
  },
  {
   "cell_type": "markdown",
   "id": "bc84e41c-229a-45aa-86e9-957fd6ad875f",
   "metadata": {},
   "source": [
    "# Interrupts"
   ]
  },
  {
   "cell_type": "code",
   "execution_count": 238,
   "id": "3ef2c718-d1dc-43cf-b65c-6d22379e491a",
   "metadata": {
    "tags": []
   },
   "outputs": [],
   "source": [
    "interrupts_filter = f\"{{devices=\\\"\\\"}}\""
   ]
  },
  {
   "cell_type": "code",
   "execution_count": 239,
   "id": "82552976-55c5-46eb-a55a-b5d1f91428a2",
   "metadata": {
    "tags": []
   },
   "outputs": [
    {
     "name": "stdout",
     "output_type": "stream",
     "text": [
      "[Measurement 1] Querying 'sum by (devices, type) (idelta(node_interrupts_total{devices=\"\"}[5m]) > 0)' at 1681635134 ...\n"
     ]
    },
    {
     "data": {
      "text/markdown": [
       "### Total "
      ],
      "text/plain": [
       "<IPython.core.display.Markdown object>"
      ]
     },
     "metadata": {},
     "output_type": "display_data"
    },
    {
     "data": {
      "text/html": [
       "<div>\n",
       "<style scoped>\n",
       "    .dataframe tbody tr th:only-of-type {\n",
       "        vertical-align: middle;\n",
       "    }\n",
       "\n",
       "    .dataframe tbody tr th {\n",
       "        vertical-align: top;\n",
       "    }\n",
       "\n",
       "    .dataframe thead th {\n",
       "        text-align: right;\n",
       "    }\n",
       "</style>\n",
       "<table border=\"1\" class=\"dataframe\">\n",
       "  <thead>\n",
       "    <tr style=\"text-align: right;\">\n",
       "      <th></th>\n",
       "      <th>value</th>\n",
       "    </tr>\n",
       "  </thead>\n",
       "  <tbody>\n",
       "    <tr>\n",
       "      <th>count</th>\n",
       "      <td>3.000000</td>\n",
       "    </tr>\n",
       "    <tr>\n",
       "      <th>mean</th>\n",
       "      <td>155.333333</td>\n",
       "    </tr>\n",
       "    <tr>\n",
       "      <th>std</th>\n",
       "      <td>208.696750</td>\n",
       "    </tr>\n",
       "    <tr>\n",
       "      <th>min</th>\n",
       "      <td>2.000000</td>\n",
       "    </tr>\n",
       "    <tr>\n",
       "      <th>25%</th>\n",
       "      <td>36.500000</td>\n",
       "    </tr>\n",
       "    <tr>\n",
       "      <th>50%</th>\n",
       "      <td>71.000000</td>\n",
       "    </tr>\n",
       "    <tr>\n",
       "      <th>75%</th>\n",
       "      <td>232.000000</td>\n",
       "    </tr>\n",
       "    <tr>\n",
       "      <th>max</th>\n",
       "      <td>393.000000</td>\n",
       "    </tr>\n",
       "  </tbody>\n",
       "</table>\n",
       "</div>"
      ],
      "text/plain": [
       "            value\n",
       "count    3.000000\n",
       "mean   155.333333\n",
       "std    208.696750\n",
       "min      2.000000\n",
       "25%     36.500000\n",
       "50%     71.000000\n",
       "75%    232.000000\n",
       "max    393.000000"
      ]
     },
     "metadata": {},
     "output_type": "display_data"
    },
    {
     "data": {
      "text/markdown": [
       "### Per Measurement"
      ],
      "text/plain": [
       "<IPython.core.display.Markdown object>"
      ]
     },
     "metadata": {},
     "output_type": "display_data"
    },
    {
     "data": {
      "text/plain": [
       "              measurement\n",
       "value  count  1                3.000000\n",
       "       mean   1              155.333333\n",
       "       std    1              208.696750\n",
       "       min    1                2.000000\n",
       "       25%    1               36.500000\n",
       "       50%    1               71.000000\n",
       "       75%    1              232.000000\n",
       "       max    1              393.000000\n",
       "dtype: float64"
      ]
     },
     "metadata": {},
     "output_type": "display_data"
    },
    {
     "data": {
      "text/html": [
       "<div>\n",
       "<style scoped>\n",
       "    .dataframe tbody tr th:only-of-type {\n",
       "        vertical-align: middle;\n",
       "    }\n",
       "\n",
       "    .dataframe tbody tr th {\n",
       "        vertical-align: top;\n",
       "    }\n",
       "\n",
       "    .dataframe thead th {\n",
       "        text-align: right;\n",
       "    }\n",
       "</style>\n",
       "<table border=\"1\" class=\"dataframe\">\n",
       "  <thead>\n",
       "    <tr style=\"text-align: right;\">\n",
       "      <th></th>\n",
       "      <th>value</th>\n",
       "    </tr>\n",
       "  </thead>\n",
       "  <tbody>\n",
       "    <tr>\n",
       "      <th>{type=\"CAL\"}</th>\n",
       "      <td>71.0</td>\n",
       "    </tr>\n",
       "    <tr>\n",
       "      <th>{type=\"LOC\"}</th>\n",
       "      <td>393.0</td>\n",
       "    </tr>\n",
       "    <tr>\n",
       "      <th>{type=\"RES\"}</th>\n",
       "      <td>2.0</td>\n",
       "    </tr>\n",
       "  </tbody>\n",
       "</table>\n",
       "</div>"
      ],
      "text/plain": [
       "              value\n",
       "{type=\"CAL\"}   71.0\n",
       "{type=\"LOC\"}  393.0\n",
       "{type=\"RES\"}    2.0"
      ]
     },
     "metadata": {},
     "output_type": "display_data"
    },
    {
     "data": {
      "text/plain": [
       "<Axes: ylabel='Interrupts'>"
      ]
     },
     "execution_count": 239,
     "metadata": {},
     "output_type": "execute_result"
    },
    {
     "data": {
      "image/png": "[encoded data removed]",
      "text/plain": [
       "<Figure size 640x480 with 1 Axes>"
      ]
     },
     "metadata": {},
     "output_type": "display_data"
    }
   ],
   "source": [
    "interrupts = prepare_interrupts(bm)\n",
    "describe_measurement_dataframe(interrupts)\n",
    "\n",
    "grouped_mean = interrupts.groupby(level=0).mean()\n",
    "grouped_mean.drop(['measurement'], inplace=True, axis=1)\n",
    "display(grouped_mean)\n",
    "grouped_mean.plot.bar(ylabel='Interrupts')"
   ]
  },
  {
   "cell_type": "markdown",
   "id": "95be6712-5283-4af2-acb8-d0d35153dc16",
   "metadata": {},
   "source": [
    "# Software Experiment"
   ]
  },
  {
   "cell_type": "code",
   "execution_count": 240,
   "id": "01ad5722-2a08-4755-bec5-9d124f369522",
   "metadata": {
    "tags": []
   },
   "outputs": [],
   "source": [
    "# Those are the variants we have measured\n",
    "VARIANTS=[\"no-cache\", \"caffeine-cache\", \"redis-cache\", \"caffeine-redis-cache\"]"
   ]
  }
 ],
 "metadata": {
  "kernelspec": {
   "display_name": "Python 3 (ipykernel)",
   "language": "python",
   "name": "python3"
  },
  "language_info": {
   "codemirror_mode": {
    "name": "ipython",
    "version": 3
   },
   "file_extension": ".py",
   "mimetype": "text/x-python",
   "name": "python",
   "nbconvert_exporter": "python",
   "pygments_lexer": "ipython3",
   "version": "3.10.10"
  }
 },
 "nbformat": 4,
 "nbformat_minor": 5
}
