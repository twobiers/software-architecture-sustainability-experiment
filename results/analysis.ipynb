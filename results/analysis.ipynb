{
 "cells": [
  {
   "cell_type": "code",
   "execution_count": 42,
   "id": "86f310d8-5327-449b-933e-9905fd0cb33e",
   "metadata": {
    "tags": []
   },
   "outputs": [],
   "source": [
    "import pandas as pd\n",
    "import numpy as np\n",
    "import matplotlib.pyplot as plt\n",
    "import seaborn as sns\n",
    "from prometheus_pandas import query\n",
    "from IPython.display import Markdown, display\n",
    "\n",
    "p = query.Prometheus('http://192.168.178.64:9090')\n",
    "step=\"1s\"\n",
    "\n",
    "# We're scraping much more data than we actually need.\n",
    "# This is especially true for devices.\n",
    "# In this section we define which devices we actually want to analyze.\n",
    "NET_DEVICES=[\"docker0\",\"enp7s0\",\"lo\"]\n",
    "DISK_DEVICES=[\"sda\"]\n",
    "# The default range for sliding window aggregations\n",
    "DEFAULT_RANGE=\"10s\"\n",
    "\n",
    "# This is going to be the label filter we're going to use\n",
    "net_filter_label = f\"{{device=~\\\"{'|'.join(NET_DEVICES)}\\\"}}\"\n",
    "# This is going to be the label filter we're going to use\n",
    "disk_filter_label = f\"{{device=~\\\"{'|'.join(DISK_DEVICES)}\\\"}}\"\n",
    "interrupts_filter = \"{devices=\\\"\\\"}\""
   ]
  },
  {
   "cell_type": "markdown",
   "id": "5e22fe5d-7ad5-429b-b4ee-12ba39570a11",
   "metadata": {
    "jp-MarkdownHeadingCollapsed": true,
    "tags": []
   },
   "source": [
    "# Utils"
   ]
  },
  {
   "cell_type": "code",
   "execution_count": 43,
   "id": "bc1a5c57-f533-4b73-a221-60bc95dc1d54",
   "metadata": {
    "tags": []
   },
   "outputs": [],
   "source": [
    "def remove_meta_columns(df):\n",
    "    cols = [col for col in df.columns if col not in ['measurement', 'delta', 'seconds']]\n",
    "    return df[cols]\n",
    "\n",
    "    \n",
    "def describe_measurement_dataframe(df):\n",
    "    display(Markdown(\"### Total \"))\n",
    "    display(remove_meta_columns(df).describe())\n",
    "    \n",
    "    display(Markdown(\"### Per Measurement\"))\n",
    "    display(df[df.columns.difference(['seconds'])].groupby('measurement').describe().unstack(1))\n",
    "\n",
    "def prepare_query_range_as_dataframe(measurement_no, query, start, end, step=step) -> pd.DataFrame:\n",
    "    print(f\"[Measurement {measurement_no}] Querying '{query}' from {start} to {end} with step {step} ...\")\n",
    "    metrics = p.query_range(query, start, end, step)\n",
    "\n",
    "    # We can't be sure that we have a value for each second, so we calculate the difference between the timestamps\n",
    "    # and att those to the dataframe\n",
    "    metrics['tvalue'] = metrics.index\n",
    "    metrics['delta'] = (metrics['tvalue'] - metrics['tvalue'].min()).fillna(0).astype('timedelta64[s]')\n",
    "    metrics['seconds'] = metrics['delta'].dt.total_seconds().astype(int)\n",
    "    metrics.drop(['tvalue'], inplace=True, axis=1)\n",
    "    # metrics = metrics.assign(seconds=range(len(metrics)))\n",
    "    metrics = metrics.assign(measurement=measurement_no)\n",
    "    \n",
    "    # summarize_outliers(metrics.reset_index())\n",
    "    \n",
    "    return metrics\n",
    "\n",
    "\n",
    "def prepare_dataframe(query, df):\n",
    "    result = [prepare_query_range_as_dataframe(idx, query, start, end) for idx, (start, duration, end) in enumerate(zip(df['Start'], df['Duration'], df['End']), 1)]\n",
    "    result = pd.concat(result)\n",
    "    return result\n",
    "\n",
    "\n",
    "# TODO:\n",
    "def mark_outliers(df, fence=2.22):\n",
    "    # Select only numeric columns\n",
    "    cols = df.select_dtypes('number').columns\n",
    "    df_sub = df.loc[:, cols]\n",
    "    \n",
    "    # Calculate IQR\n",
    "    iqr = df_sub.quantile(0.75, numeric_only=False) - df_sub.quantile(0.25, numeric_only=False)\n",
    "    lim = np.abs((df_sub - df_sub.median()) / iqr) < fence\n",
    "    \n",
    "    # Replace Outliers with NaN\n",
    "    df.loc[:, cols] = df_sub.where(lim, np.nan)\n",
    "    \n",
    "    # Replace all NaN values\n",
    "    return df\n",
    "\n",
    "\n",
    "def summarize_outliers(df, fence=2.22):\n",
    "    marked_outliers = mark_outliers(df, fence)\n",
    "    diff = df.compare(marked_outliers)\n",
    "    \n",
    "    # No Outliers, no problem\n",
    "    if diff.size == 0:\n",
    "        return\n",
    "    \n",
    "    diff.name = 'Outliers'\n",
    "    print('Outliers detected, please check manually')\n",
    "    print(diff)\n",
    "    \n",
    "\n",
    "def drop_outliers(df, fence=2.22):\n",
    "    cols = df.select_dtypes('number').columns\n",
    "    return mark_outliners(df, fence).dropna(how='any', subset=cols)"
   ]
  },
  {
   "cell_type": "markdown",
   "id": "fe67a8f4-1fb5-452f-aa8f-14c7168d4885",
   "metadata": {},
   "source": [
    "# Data Preparation"
   ]
  },
  {
   "cell_type": "code",
   "execution_count": 44,
   "id": "4dd10f27-4117-4209-bde9-f07f39ffdcce",
   "metadata": {
    "tags": []
   },
   "outputs": [],
   "source": [
    "Q_POWER='{__name__=~\"epc1202PowerActive|epc1202Current|epc1202Voltage\"}'\n",
    "Q_CPU_SECONDS=f\"avg by (mode) (increase(node_cpu_seconds_total[{DEFAULT_RANGE}]))\"\n",
    "Q_CPU_UTILIZATION=f\"avg by (mode) (rate(node_cpu_seconds_total[{DEFAULT_RANGE}]) * 100)\"\n",
    "Q_CPU_FREQUENCY=\"avg by (instance) (node_cpu_scaling_frequency_hertz)\"\n",
    "Q_MEMORY_USAGE=f\"\"\"\n",
    "      100 * (1 - ((avg_over_time(node_memory_MemFree_bytes[{DEFAULT_RANGE}]) + avg_over_time(node_memory_Cached_bytes[{DEFAULT_RANGE}]) + avg_over_time(node_memory_Buffers_bytes[{DEFAULT_RANGE}])) / avg_over_time(node_memory_MemTotal_bytes[{DEFAULT_RANGE}])))\n",
    "    \"\"\"\n",
    "Q_NETWORK_RX_BYTES=f\"sum by(device) (increase(node_network_receive_bytes_total{net_filter_label}[{DEFAULT_RANGE}])) / 1000\"\n",
    "Q_NETWORK_TX_BYTES=f\"sum by(device) (increase(node_network_transmit_bytes_total{net_filter_label}[{DEFAULT_RANGE}])) / 1000\"\n",
    "Q_NETWORK_RX_PACKETS=f\"sum by(device) (increase(node_network_receive_packets_total{net_filter_label}[{DEFAULT_RANGE}])) / 1000\"\n",
    "Q_NETWORK_TX_PACKETS=f\"sum by(device) (increase(node_network_transmit_packets_total{net_filter_label}[{DEFAULT_RANGE}])) / 1000\"\n",
    "Q_NETWORK_RX_RATE=f\"avg by (device) (rate(node_network_receive_bytes_total{net_filter_label}[{DEFAULT_RANGE}]))\"\n",
    "Q_NETWORK_TX_RATE=f\"avg by (device) (rate(node_network_transmit_bytes_total{net_filter_label}[{DEFAULT_RANGE}]))\"\n",
    "Q_DISK_IO_SECONDS=f\"increase(node_disk_io_time_seconds_total{disk_filter_label}[{DEFAULT_RANGE}])\"\n",
    "Q_DISK_IO_RATE=f\"avg by (device) (rate(node_disk_io_time_seconds_total{disk_filter_label}[{DEFAULT_RANGE}]))\"\n",
    "Q_INTERRUPTS=f\"sum by (devices, type) (idelta(node_interrupts_total{interrupts_filter}[{DEFAULT_RANGE}]) > 0)\""
   ]
  },
  {
   "cell_type": "code",
   "execution_count": 45,
   "id": "3c8f09f4",
   "metadata": {},
   "outputs": [],
   "source": [
    "# This is just a try to load everything into a single dataframe.\n",
    "# It's not working yet, but I'm going to leave it here for now.\n",
    "def prepare_humongous_dataframe(df: pd.DataFrame) -> pd.DataFrame:\n",
    "    power_metrics = prepare_dataframe(Q_POWER, df).set_index(['measurement', 'seconds'])\n",
    "    cpu_seconds = prepare_dataframe(\"avg by (mode) (node_cpu_seconds_total)\", df).set_index(['measurement', 'seconds'])\n",
    "    memory_free = prepare_dataframe(\"node_memory_MemFree_bytes\", df).set_index(['measurement','seconds'])\n",
    "    memory_chached = prepare_dataframe(\"node_memory_Cached_bytes\", df).set_index(['measurement','seconds'])\n",
    "    memory_buffers = prepare_dataframe(\"node_memory_Buffers_bytes\", df).set_index(['measurement', 'seconds'])\n",
    "    memory_total = prepare_dataframe(\"node_memory_MemTotal_bytes\", df).set_index(['measurement', 'seconds'])\n",
    "    network_receive_bytes = prepare_dataframe(f\"node_network_receive_bytes_total{net_filter_label}\", df).set_index(['measurement', 'seconds'])\n",
    "    network_transmit_bytes = prepare_dataframe(f\"node_network_transmit_bytes{net_filter_label}\", df).set_index(['measurement', 'seconds'])\n",
    "    disk_io_time_seconds = prepare_dataframe(f\"node_disk_io_time_seconds_total{disk_filter_label}\", df).set_index(['measurement', 'seconds'])\n",
    "    interrupts = prepare_dataframe(f\"sum by(devices, type) (node_interrupts_total{interrupts_filter} > 0)\", df).set_index(['measurement', 'seconds'])\n",
    "\n",
    "    df = pd.concat(\n",
    "        [power_metrics, cpu_seconds, memory_free, memory_chached, memory_buffers, memory_total, network_receive_bytes, network_transmit_bytes, disk_io_time_seconds, interrupts], \n",
    "        axis=1,\n",
    "        names=['measurement', 'seconds']\n",
    "    )\n",
    "\n",
    "    return df"
   ]
  },
  {
   "cell_type": "markdown",
   "id": "a4afe89f-b02c-4dab-b536-47fb2e58e797",
   "metadata": {
    "tags": []
   },
   "source": [
    "# Baseline Analysis\n",
    "\n",
    "Here we take a look at the Baseline of our DUT\n"
   ]
  },
  {
   "cell_type": "code",
   "execution_count": 46,
   "id": "cb36fa9e-abf7-402c-8c44-c01b69ec54d4",
   "metadata": {
    "tags": []
   },
   "outputs": [
    {
     "data": {
      "text/html": [
       "<div>\n",
       "<style scoped>\n",
       "    .dataframe tbody tr th:only-of-type {\n",
       "        vertical-align: middle;\n",
       "    }\n",
       "\n",
       "    .dataframe tbody tr th {\n",
       "        vertical-align: top;\n",
       "    }\n",
       "\n",
       "    .dataframe thead th {\n",
       "        text-align: right;\n",
       "    }\n",
       "</style>\n",
       "<table border=\"1\" class=\"dataframe\">\n",
       "  <thead>\n",
       "    <tr style=\"text-align: right;\">\n",
       "      <th></th>\n",
       "      <th>Start</th>\n",
       "      <th>End</th>\n",
       "      <th>Duration</th>\n",
       "      <th>Energy</th>\n",
       "    </tr>\n",
       "  </thead>\n",
       "  <tbody>\n",
       "    <tr>\n",
       "      <th>0</th>\n",
       "      <td>1681634834</td>\n",
       "      <td>1681635134</td>\n",
       "      <td>5m</td>\n",
       "      <td>4</td>\n",
       "    </tr>\n",
       "  </tbody>\n",
       "</table>\n",
       "</div>"
      ],
      "text/plain": [
       "        Start         End Duration  Energy\n",
       "0  1681634834  1681635134       5m       4"
      ]
     },
     "execution_count": 46,
     "metadata": {},
     "output_type": "execute_result"
    }
   ],
   "source": [
    "bm = pd.read_csv('baseline.csv')\n",
    "bm"
   ]
  },
  {
   "cell_type": "markdown",
   "id": "1b75937a-2d07-4e38-a2ea-e41a6e19e1e6",
   "metadata": {
    "tags": []
   },
   "source": [
    "## Power Stats"
   ]
  },
  {
   "cell_type": "code",
   "execution_count": 47,
   "id": "4d2149cd-cd19-4f96-8da0-fef098ec0483",
   "metadata": {
    "tags": []
   },
   "outputs": [
    {
     "name": "stdout",
     "output_type": "stream",
     "text": [
      "[Measurement 1] Querying '{__name__=~\"epc1202PowerActive|epc1202Current|epc1202Voltage\"}' from 1681634834 to 1681635134 with step 1s ...\n"
     ]
    },
    {
     "data": {
      "text/markdown": [
       "### Total "
      ],
      "text/plain": [
       "<IPython.core.display.Markdown object>"
      ]
     },
     "metadata": {},
     "output_type": "display_data"
    },
    {
     "data": {
      "text/html": [
       "<div>\n",
       "<style scoped>\n",
       "    .dataframe tbody tr th:only-of-type {\n",
       "        vertical-align: middle;\n",
       "    }\n",
       "\n",
       "    .dataframe tbody tr th {\n",
       "        vertical-align: top;\n",
       "    }\n",
       "\n",
       "    .dataframe thead th {\n",
       "        text-align: right;\n",
       "    }\n",
       "</style>\n",
       "<table border=\"1\" class=\"dataframe\">\n",
       "  <thead>\n",
       "    <tr style=\"text-align: right;\">\n",
       "      <th></th>\n",
       "      <th>epc1202Current{epc1202PowerIndex=\"1\",instance=\"pdu.local\",job=\"snmp\"}</th>\n",
       "      <th>epc1202PowerActive{epc1202PowerIndex=\"1\",instance=\"pdu.local\",job=\"snmp\"}</th>\n",
       "      <th>epc1202Voltage{epc1202PowerIndex=\"1\",instance=\"pdu.local\",job=\"snmp\"}</th>\n",
       "    </tr>\n",
       "  </thead>\n",
       "  <tbody>\n",
       "    <tr>\n",
       "      <th>count</th>\n",
       "      <td>301.000000</td>\n",
       "      <td>301.000000</td>\n",
       "      <td>301.000000</td>\n",
       "    </tr>\n",
       "    <tr>\n",
       "      <th>mean</th>\n",
       "      <td>262.259136</td>\n",
       "      <td>47.438538</td>\n",
       "      <td>237.239203</td>\n",
       "    </tr>\n",
       "    <tr>\n",
       "      <th>std</th>\n",
       "      <td>0.786951</td>\n",
       "      <td>0.497034</td>\n",
       "      <td>0.427307</td>\n",
       "    </tr>\n",
       "    <tr>\n",
       "      <th>min</th>\n",
       "      <td>261.000000</td>\n",
       "      <td>47.000000</td>\n",
       "      <td>237.000000</td>\n",
       "    </tr>\n",
       "    <tr>\n",
       "      <th>25%</th>\n",
       "      <td>262.000000</td>\n",
       "      <td>47.000000</td>\n",
       "      <td>237.000000</td>\n",
       "    </tr>\n",
       "    <tr>\n",
       "      <th>50%</th>\n",
       "      <td>262.000000</td>\n",
       "      <td>47.000000</td>\n",
       "      <td>237.000000</td>\n",
       "    </tr>\n",
       "    <tr>\n",
       "      <th>75%</th>\n",
       "      <td>263.000000</td>\n",
       "      <td>48.000000</td>\n",
       "      <td>237.000000</td>\n",
       "    </tr>\n",
       "    <tr>\n",
       "      <th>max</th>\n",
       "      <td>265.000000</td>\n",
       "      <td>48.000000</td>\n",
       "      <td>238.000000</td>\n",
       "    </tr>\n",
       "  </tbody>\n",
       "</table>\n",
       "</div>"
      ],
      "text/plain": [
       "       epc1202Current{epc1202PowerIndex=\"1\",instance=\"pdu.local\",job=\"snmp\"}   \n",
       "count                                         301.000000                      \\\n",
       "mean                                          262.259136                       \n",
       "std                                             0.786951                       \n",
       "min                                           261.000000                       \n",
       "25%                                           262.000000                       \n",
       "50%                                           262.000000                       \n",
       "75%                                           263.000000                       \n",
       "max                                           265.000000                       \n",
       "\n",
       "       epc1202PowerActive{epc1202PowerIndex=\"1\",instance=\"pdu.local\",job=\"snmp\"}   \n",
       "count                                         301.000000                          \\\n",
       "mean                                           47.438538                           \n",
       "std                                             0.497034                           \n",
       "min                                            47.000000                           \n",
       "25%                                            47.000000                           \n",
       "50%                                            47.000000                           \n",
       "75%                                            48.000000                           \n",
       "max                                            48.000000                           \n",
       "\n",
       "       epc1202Voltage{epc1202PowerIndex=\"1\",instance=\"pdu.local\",job=\"snmp\"}  \n",
       "count                                         301.000000                      \n",
       "mean                                          237.239203                      \n",
       "std                                             0.427307                      \n",
       "min                                           237.000000                      \n",
       "25%                                           237.000000                      \n",
       "50%                                           237.000000                      \n",
       "75%                                           237.000000                      \n",
       "max                                           238.000000                      "
      ]
     },
     "metadata": {},
     "output_type": "display_data"
    },
    {
     "data": {
      "text/markdown": [
       "### Per Measurement"
      ],
      "text/plain": [
       "<IPython.core.display.Markdown object>"
      ]
     },
     "metadata": {},
     "output_type": "display_data"
    },
    {
     "data": {
      "text/plain": [
       "                                                                                  measurement\n",
       "delta                                                                      count  1                          301\n",
       "                                                                           mean   1              0 days 00:02:30\n",
       "                                                                           std    1              0 days 00:01:27\n",
       "                                                                           min    1              0 days 00:00:00\n",
       "                                                                           25%    1              0 days 00:01:15\n",
       "                                                                           50%    1              0 days 00:02:30\n",
       "                                                                           75%    1              0 days 00:03:45\n",
       "                                                                           max    1              0 days 00:05:00\n",
       "epc1202Current{epc1202PowerIndex=\"1\",instance=\"pdu.local\",job=\"snmp\"}      count  1                        301.0\n",
       "                                                                           mean   1                   262.259136\n",
       "                                                                           std    1                     0.786951\n",
       "                                                                           min    1                        261.0\n",
       "                                                                           25%    1                        262.0\n",
       "                                                                           50%    1                        262.0\n",
       "                                                                           75%    1                        263.0\n",
       "                                                                           max    1                        265.0\n",
       "epc1202PowerActive{epc1202PowerIndex=\"1\",instance=\"pdu.local\",job=\"snmp\"}  count  1                        301.0\n",
       "                                                                           mean   1                    47.438538\n",
       "                                                                           std    1                     0.497034\n",
       "                                                                           min    1                         47.0\n",
       "                                                                           25%    1                         47.0\n",
       "                                                                           50%    1                         47.0\n",
       "                                                                           75%    1                         48.0\n",
       "                                                                           max    1                         48.0\n",
       "epc1202Voltage{epc1202PowerIndex=\"1\",instance=\"pdu.local\",job=\"snmp\"}      count  1                        301.0\n",
       "                                                                           mean   1                   237.239203\n",
       "                                                                           std    1                     0.427307\n",
       "                                                                           min    1                        237.0\n",
       "                                                                           25%    1                        237.0\n",
       "                                                                           50%    1                        237.0\n",
       "                                                                           75%    1                        237.0\n",
       "                                                                           max    1                        238.0\n",
       "dtype: object"
      ]
     },
     "metadata": {},
     "output_type": "display_data"
    },
    {
     "data": {
      "text/html": [
       "<div>\n",
       "<style scoped>\n",
       "    .dataframe tbody tr th:only-of-type {\n",
       "        vertical-align: middle;\n",
       "    }\n",
       "\n",
       "    .dataframe tbody tr th {\n",
       "        vertical-align: top;\n",
       "    }\n",
       "\n",
       "    .dataframe thead th {\n",
       "        text-align: right;\n",
       "    }\n",
       "</style>\n",
       "<table border=\"1\" class=\"dataframe\">\n",
       "  <thead>\n",
       "    <tr style=\"text-align: right;\">\n",
       "      <th></th>\n",
       "      <th>epc1202Current{epc1202PowerIndex=\"1\",instance=\"pdu.local\",job=\"snmp\"}</th>\n",
       "      <th>epc1202PowerActive{epc1202PowerIndex=\"1\",instance=\"pdu.local\",job=\"snmp\"}</th>\n",
       "      <th>epc1202Voltage{epc1202PowerIndex=\"1\",instance=\"pdu.local\",job=\"snmp\"}</th>\n",
       "      <th>delta</th>\n",
       "      <th>measurement</th>\n",
       "    </tr>\n",
       "  </thead>\n",
       "  <tbody>\n",
       "    <tr>\n",
       "      <th>count</th>\n",
       "      <td>301.000000</td>\n",
       "      <td>301.000000</td>\n",
       "      <td>301.000000</td>\n",
       "      <td>301</td>\n",
       "      <td>301.0</td>\n",
       "    </tr>\n",
       "    <tr>\n",
       "      <th>mean</th>\n",
       "      <td>262.259136</td>\n",
       "      <td>47.438538</td>\n",
       "      <td>237.239203</td>\n",
       "      <td>0 days 00:02:30</td>\n",
       "      <td>1.0</td>\n",
       "    </tr>\n",
       "    <tr>\n",
       "      <th>std</th>\n",
       "      <td>0.786951</td>\n",
       "      <td>0.497034</td>\n",
       "      <td>0.427307</td>\n",
       "      <td>0 days 00:01:27</td>\n",
       "      <td>0.0</td>\n",
       "    </tr>\n",
       "    <tr>\n",
       "      <th>min</th>\n",
       "      <td>261.000000</td>\n",
       "      <td>47.000000</td>\n",
       "      <td>237.000000</td>\n",
       "      <td>0 days 00:00:00</td>\n",
       "      <td>1.0</td>\n",
       "    </tr>\n",
       "    <tr>\n",
       "      <th>25%</th>\n",
       "      <td>262.000000</td>\n",
       "      <td>47.000000</td>\n",
       "      <td>237.000000</td>\n",
       "      <td>0 days 00:01:15</td>\n",
       "      <td>1.0</td>\n",
       "    </tr>\n",
       "    <tr>\n",
       "      <th>50%</th>\n",
       "      <td>262.000000</td>\n",
       "      <td>47.000000</td>\n",
       "      <td>237.000000</td>\n",
       "      <td>0 days 00:02:30</td>\n",
       "      <td>1.0</td>\n",
       "    </tr>\n",
       "    <tr>\n",
       "      <th>75%</th>\n",
       "      <td>263.000000</td>\n",
       "      <td>48.000000</td>\n",
       "      <td>237.000000</td>\n",
       "      <td>0 days 00:03:45</td>\n",
       "      <td>1.0</td>\n",
       "    </tr>\n",
       "    <tr>\n",
       "      <th>max</th>\n",
       "      <td>265.000000</td>\n",
       "      <td>48.000000</td>\n",
       "      <td>238.000000</td>\n",
       "      <td>0 days 00:05:00</td>\n",
       "      <td>1.0</td>\n",
       "    </tr>\n",
       "  </tbody>\n",
       "</table>\n",
       "</div>"
      ],
      "text/plain": [
       "       epc1202Current{epc1202PowerIndex=\"1\",instance=\"pdu.local\",job=\"snmp\"}   \n",
       "count                                         301.000000                      \\\n",
       "mean                                          262.259136                       \n",
       "std                                             0.786951                       \n",
       "min                                           261.000000                       \n",
       "25%                                           262.000000                       \n",
       "50%                                           262.000000                       \n",
       "75%                                           263.000000                       \n",
       "max                                           265.000000                       \n",
       "\n",
       "       epc1202PowerActive{epc1202PowerIndex=\"1\",instance=\"pdu.local\",job=\"snmp\"}   \n",
       "count                                         301.000000                          \\\n",
       "mean                                           47.438538                           \n",
       "std                                             0.497034                           \n",
       "min                                            47.000000                           \n",
       "25%                                            47.000000                           \n",
       "50%                                            47.000000                           \n",
       "75%                                            48.000000                           \n",
       "max                                            48.000000                           \n",
       "\n",
       "       epc1202Voltage{epc1202PowerIndex=\"1\",instance=\"pdu.local\",job=\"snmp\"}   \n",
       "count                                         301.000000                      \\\n",
       "mean                                          237.239203                       \n",
       "std                                             0.427307                       \n",
       "min                                           237.000000                       \n",
       "25%                                           237.000000                       \n",
       "50%                                           237.000000                       \n",
       "75%                                           237.000000                       \n",
       "max                                           238.000000                       \n",
       "\n",
       "                 delta  measurement  \n",
       "count              301        301.0  \n",
       "mean   0 days 00:02:30          1.0  \n",
       "std    0 days 00:01:27          0.0  \n",
       "min    0 days 00:00:00          1.0  \n",
       "25%    0 days 00:01:15          1.0  \n",
       "50%    0 days 00:02:30          1.0  \n",
       "75%    0 days 00:03:45          1.0  \n",
       "max    0 days 00:05:00          1.0  "
      ]
     },
     "metadata": {},
     "output_type": "display_data"
    }
   ],
   "source": [
    "power_metrics = prepare_dataframe(Q_POWER, bm)\n",
    "describe_measurement_dataframe(power_metrics)\n",
    "\n",
    "mean_per_second = power_metrics.groupby(by=['seconds']).mean()\n",
    "display(mean_per_second.describe())\n",
    "\n",
    "\n",
    "# printmd(\"### Current Measurment Plots\")\n",
    "# fg = sns.lmplot(\n",
    "#       data=power_metrics, x=\"seconds\", y=\"Current\", col=\"measurement\", col_wrap=5, height=3, scatter=True\n",
    "# )\n",
    "# fg.set_xlabels(\"Time (s)\")\n",
    "# fg.set_ylabels(\"Current (A)\")\n",
    "# plt.show(fg)\n",
    "\n",
    "# printmd(\"### Voltage Measurment Plots\")\n",
    "# fg = sns.lmplot(\n",
    "#     data=power_metrics, x=\"seconds\", y=\"Voltage\", col=\"measurement\", col_wrap=5, height=3, scatter=True\n",
    "# )\n",
    "# fg.set_xlabels(\"Time (s)\")\n",
    "# fg.set_ylabels(\"Voltage (V)\")\n",
    "# plt.show(fg)\n",
    "\n",
    "# printmd(\"### Watts Measurment Plots\")\n",
    "# fg = sns.lmplot(\n",
    "#       data=power_metrics, x=\"seconds\", y=\"Watts\", col=\"measurement\", col_wrap=5, height=3, scatter=True\n",
    "# )\n",
    "# fg.set_xlabels(\"Time (s)\")\n",
    "# fg.set_ylabels(\"Watts (W)\")\n",
    "# plt.show(fg)        \n",
    "\n",
    "# printmd(\"### Mean Watts\")\n",
    "\n",
    "# mean_per_second = power_metrics.groupby(by=['seconds']).mean()\n",
    "# display(mean_per_second.describe())\n",
    "\n",
    "# fig = mean_per_second['Watts'].plot(drawstyle='steps')\n",
    "# fig.set_xlabel(\"Time (s)\")\n",
    "# fig.set_ylabel(\"Watts (W)\")\n",
    "# plt.show(fig)\n",
    "\n",
    "# fg = sns.lmplot(\n",
    "#       data=mean_per_second.reset_index(), x=\"seconds\", y=\"Watts\", scatter=True\n",
    "# )\n",
    "# fg.set_xlabels(\"Time (s)\")\n",
    "# fg.set_ylabels(\"Watts (W)\")\n",
    "# plt.show(fg)    "
   ]
  },
  {
   "cell_type": "markdown",
   "id": "3377fc4e-c682-4043-aa16-81372c1a64e0",
   "metadata": {
    "tags": []
   },
   "source": [
    "## CPU"
   ]
  },
  {
   "cell_type": "markdown",
   "id": "64a3f204-dec9-4658-8a97-218fb3d074dc",
   "metadata": {},
   "source": [
    "### CPU Time"
   ]
  },
  {
   "cell_type": "code",
   "execution_count": 48,
   "id": "97c8ed82-bb84-4a8d-976f-f0b9b8789a5a",
   "metadata": {
    "tags": []
   },
   "outputs": [
    {
     "name": "stdout",
     "output_type": "stream",
     "text": [
      "[Measurement 1] Querying 'avg by (mode) (increase(node_cpu_seconds_total[10s]))' from 1681634834 to 1681635134 with step 1s ...\n"
     ]
    },
    {
     "data": {
      "text/markdown": [
       "### Total "
      ],
      "text/plain": [
       "<IPython.core.display.Markdown object>"
      ]
     },
     "metadata": {},
     "output_type": "display_data"
    },
    {
     "data": {
      "text/html": [
       "<div>\n",
       "<style scoped>\n",
       "    .dataframe tbody tr th:only-of-type {\n",
       "        vertical-align: middle;\n",
       "    }\n",
       "\n",
       "    .dataframe tbody tr th {\n",
       "        vertical-align: top;\n",
       "    }\n",
       "\n",
       "    .dataframe thead th {\n",
       "        text-align: right;\n",
       "    }\n",
       "</style>\n",
       "<table border=\"1\" class=\"dataframe\">\n",
       "  <thead>\n",
       "    <tr style=\"text-align: right;\">\n",
       "      <th></th>\n",
       "      <th>{mode=\"idle\"}</th>\n",
       "      <th>{mode=\"iowait\"}</th>\n",
       "      <th>{mode=\"irq\"}</th>\n",
       "      <th>{mode=\"nice\"}</th>\n",
       "      <th>{mode=\"softirq\"}</th>\n",
       "      <th>{mode=\"steal\"}</th>\n",
       "      <th>{mode=\"system\"}</th>\n",
       "      <th>{mode=\"user\"}</th>\n",
       "    </tr>\n",
       "  </thead>\n",
       "  <tbody>\n",
       "    <tr>\n",
       "      <th>count</th>\n",
       "      <td>301.000000</td>\n",
       "      <td>301.000000</td>\n",
       "      <td>301.0</td>\n",
       "      <td>301.0</td>\n",
       "      <td>301.000000</td>\n",
       "      <td>301.0</td>\n",
       "      <td>301.000000</td>\n",
       "      <td>301.000000</td>\n",
       "    </tr>\n",
       "    <tr>\n",
       "      <th>mean</th>\n",
       "      <td>9.940758</td>\n",
       "      <td>0.000104</td>\n",
       "      <td>0.0</td>\n",
       "      <td>0.0</td>\n",
       "      <td>0.001216</td>\n",
       "      <td>0.0</td>\n",
       "      <td>0.006857</td>\n",
       "      <td>0.041618</td>\n",
       "    </tr>\n",
       "    <tr>\n",
       "      <th>std</th>\n",
       "      <td>0.008258</td>\n",
       "      <td>0.000267</td>\n",
       "      <td>0.0</td>\n",
       "      <td>0.0</td>\n",
       "      <td>0.001058</td>\n",
       "      <td>0.0</td>\n",
       "      <td>0.001419</td>\n",
       "      <td>0.003647</td>\n",
       "    </tr>\n",
       "    <tr>\n",
       "      <th>min</th>\n",
       "      <td>9.907639</td>\n",
       "      <td>0.000000</td>\n",
       "      <td>0.0</td>\n",
       "      <td>0.0</td>\n",
       "      <td>0.000000</td>\n",
       "      <td>0.0</td>\n",
       "      <td>0.002778</td>\n",
       "      <td>0.031944</td>\n",
       "    </tr>\n",
       "    <tr>\n",
       "      <th>25%</th>\n",
       "      <td>9.936111</td>\n",
       "      <td>0.000000</td>\n",
       "      <td>0.0</td>\n",
       "      <td>0.0</td>\n",
       "      <td>0.000000</td>\n",
       "      <td>0.0</td>\n",
       "      <td>0.006250</td>\n",
       "      <td>0.039583</td>\n",
       "    </tr>\n",
       "    <tr>\n",
       "      <th>50%</th>\n",
       "      <td>9.940278</td>\n",
       "      <td>0.000000</td>\n",
       "      <td>0.0</td>\n",
       "      <td>0.0</td>\n",
       "      <td>0.001389</td>\n",
       "      <td>0.0</td>\n",
       "      <td>0.006944</td>\n",
       "      <td>0.042361</td>\n",
       "    </tr>\n",
       "    <tr>\n",
       "      <th>75%</th>\n",
       "      <td>9.945139</td>\n",
       "      <td>0.000000</td>\n",
       "      <td>0.0</td>\n",
       "      <td>0.0</td>\n",
       "      <td>0.002083</td>\n",
       "      <td>0.0</td>\n",
       "      <td>0.007639</td>\n",
       "      <td>0.044444</td>\n",
       "    </tr>\n",
       "    <tr>\n",
       "      <th>max</th>\n",
       "      <td>9.984028</td>\n",
       "      <td>0.001389</td>\n",
       "      <td>0.0</td>\n",
       "      <td>0.0</td>\n",
       "      <td>0.004167</td>\n",
       "      <td>0.0</td>\n",
       "      <td>0.011111</td>\n",
       "      <td>0.049306</td>\n",
       "    </tr>\n",
       "  </tbody>\n",
       "</table>\n",
       "</div>"
      ],
      "text/plain": [
       "       {mode=\"idle\"}  {mode=\"iowait\"}  {mode=\"irq\"}  {mode=\"nice\"}   \n",
       "count     301.000000       301.000000         301.0          301.0  \\\n",
       "mean        9.940758         0.000104           0.0            0.0   \n",
       "std         0.008258         0.000267           0.0            0.0   \n",
       "min         9.907639         0.000000           0.0            0.0   \n",
       "25%         9.936111         0.000000           0.0            0.0   \n",
       "50%         9.940278         0.000000           0.0            0.0   \n",
       "75%         9.945139         0.000000           0.0            0.0   \n",
       "max         9.984028         0.001389           0.0            0.0   \n",
       "\n",
       "       {mode=\"softirq\"}  {mode=\"steal\"}  {mode=\"system\"}  {mode=\"user\"}  \n",
       "count        301.000000           301.0       301.000000     301.000000  \n",
       "mean           0.001216             0.0         0.006857       0.041618  \n",
       "std            0.001058             0.0         0.001419       0.003647  \n",
       "min            0.000000             0.0         0.002778       0.031944  \n",
       "25%            0.000000             0.0         0.006250       0.039583  \n",
       "50%            0.001389             0.0         0.006944       0.042361  \n",
       "75%            0.002083             0.0         0.007639       0.044444  \n",
       "max            0.004167             0.0         0.011111       0.049306  "
      ]
     },
     "metadata": {},
     "output_type": "display_data"
    },
    {
     "data": {
      "text/markdown": [
       "### Per Measurement"
      ],
      "text/plain": [
       "<IPython.core.display.Markdown object>"
      ]
     },
     "metadata": {},
     "output_type": "display_data"
    },
    {
     "data": {
      "text/plain": [
       "                      measurement\n",
       "delta          count  1                          301\n",
       "               mean   1              0 days 00:02:30\n",
       "               std    1              0 days 00:01:27\n",
       "               min    1              0 days 00:00:00\n",
       "               25%    1              0 days 00:01:15\n",
       "                                          ...       \n",
       "{mode=\"user\"}  min    1                     0.031944\n",
       "               25%    1                     0.039583\n",
       "               50%    1                     0.042361\n",
       "               75%    1                     0.044444\n",
       "               max    1                     0.049306\n",
       "Length: 72, dtype: object"
      ]
     },
     "metadata": {},
     "output_type": "display_data"
    },
    {
     "data": {
      "text/html": [
       "<div>\n",
       "<style scoped>\n",
       "    .dataframe tbody tr th:only-of-type {\n",
       "        vertical-align: middle;\n",
       "    }\n",
       "\n",
       "    .dataframe tbody tr th {\n",
       "        vertical-align: top;\n",
       "    }\n",
       "\n",
       "    .dataframe thead th {\n",
       "        text-align: right;\n",
       "    }\n",
       "</style>\n",
       "<table border=\"1\" class=\"dataframe\">\n",
       "  <thead>\n",
       "    <tr style=\"text-align: right;\">\n",
       "      <th></th>\n",
       "      <th>{mode=\"idle\"}</th>\n",
       "      <th>{mode=\"iowait\"}</th>\n",
       "      <th>{mode=\"irq\"}</th>\n",
       "      <th>{mode=\"nice\"}</th>\n",
       "      <th>{mode=\"softirq\"}</th>\n",
       "      <th>{mode=\"steal\"}</th>\n",
       "      <th>{mode=\"system\"}</th>\n",
       "      <th>{mode=\"user\"}</th>\n",
       "    </tr>\n",
       "  </thead>\n",
       "  <tbody>\n",
       "    <tr>\n",
       "      <th>2023-04-16 08:47:14</th>\n",
       "      <td>9.936111</td>\n",
       "      <td>0.0</td>\n",
       "      <td>0.0</td>\n",
       "      <td>0.0</td>\n",
       "      <td>0.000000</td>\n",
       "      <td>0.0</td>\n",
       "      <td>0.006250</td>\n",
       "      <td>0.045139</td>\n",
       "    </tr>\n",
       "    <tr>\n",
       "      <th>2023-04-16 08:47:15</th>\n",
       "      <td>9.945833</td>\n",
       "      <td>0.0</td>\n",
       "      <td>0.0</td>\n",
       "      <td>0.0</td>\n",
       "      <td>0.000000</td>\n",
       "      <td>0.0</td>\n",
       "      <td>0.006250</td>\n",
       "      <td>0.045139</td>\n",
       "    </tr>\n",
       "    <tr>\n",
       "      <th>2023-04-16 08:47:16</th>\n",
       "      <td>9.937500</td>\n",
       "      <td>0.0</td>\n",
       "      <td>0.0</td>\n",
       "      <td>0.0</td>\n",
       "      <td>0.000000</td>\n",
       "      <td>0.0</td>\n",
       "      <td>0.004861</td>\n",
       "      <td>0.045139</td>\n",
       "    </tr>\n",
       "    <tr>\n",
       "      <th>2023-04-16 08:47:17</th>\n",
       "      <td>9.952778</td>\n",
       "      <td>0.0</td>\n",
       "      <td>0.0</td>\n",
       "      <td>0.0</td>\n",
       "      <td>0.000000</td>\n",
       "      <td>0.0</td>\n",
       "      <td>0.005556</td>\n",
       "      <td>0.041667</td>\n",
       "    </tr>\n",
       "    <tr>\n",
       "      <th>2023-04-16 08:47:18</th>\n",
       "      <td>9.940278</td>\n",
       "      <td>0.0</td>\n",
       "      <td>0.0</td>\n",
       "      <td>0.0</td>\n",
       "      <td>0.000000</td>\n",
       "      <td>0.0</td>\n",
       "      <td>0.005556</td>\n",
       "      <td>0.042361</td>\n",
       "    </tr>\n",
       "    <tr>\n",
       "      <th>...</th>\n",
       "      <td>...</td>\n",
       "      <td>...</td>\n",
       "      <td>...</td>\n",
       "      <td>...</td>\n",
       "      <td>...</td>\n",
       "      <td>...</td>\n",
       "      <td>...</td>\n",
       "      <td>...</td>\n",
       "    </tr>\n",
       "    <tr>\n",
       "      <th>2023-04-16 08:52:10</th>\n",
       "      <td>9.949306</td>\n",
       "      <td>0.0</td>\n",
       "      <td>0.0</td>\n",
       "      <td>0.0</td>\n",
       "      <td>0.002083</td>\n",
       "      <td>0.0</td>\n",
       "      <td>0.006944</td>\n",
       "      <td>0.036111</td>\n",
       "    </tr>\n",
       "    <tr>\n",
       "      <th>2023-04-16 08:52:11</th>\n",
       "      <td>9.938889</td>\n",
       "      <td>0.0</td>\n",
       "      <td>0.0</td>\n",
       "      <td>0.0</td>\n",
       "      <td>0.002083</td>\n",
       "      <td>0.0</td>\n",
       "      <td>0.006944</td>\n",
       "      <td>0.040278</td>\n",
       "    </tr>\n",
       "    <tr>\n",
       "      <th>2023-04-16 08:52:12</th>\n",
       "      <td>9.907639</td>\n",
       "      <td>0.0</td>\n",
       "      <td>0.0</td>\n",
       "      <td>0.0</td>\n",
       "      <td>0.002083</td>\n",
       "      <td>0.0</td>\n",
       "      <td>0.006250</td>\n",
       "      <td>0.036111</td>\n",
       "    </tr>\n",
       "    <tr>\n",
       "      <th>2023-04-16 08:52:13</th>\n",
       "      <td>9.949306</td>\n",
       "      <td>0.0</td>\n",
       "      <td>0.0</td>\n",
       "      <td>0.0</td>\n",
       "      <td>0.001389</td>\n",
       "      <td>0.0</td>\n",
       "      <td>0.006944</td>\n",
       "      <td>0.033333</td>\n",
       "    </tr>\n",
       "    <tr>\n",
       "      <th>2023-04-16 08:52:14</th>\n",
       "      <td>9.951389</td>\n",
       "      <td>0.0</td>\n",
       "      <td>0.0</td>\n",
       "      <td>0.0</td>\n",
       "      <td>0.001389</td>\n",
       "      <td>0.0</td>\n",
       "      <td>0.004861</td>\n",
       "      <td>0.033333</td>\n",
       "    </tr>\n",
       "  </tbody>\n",
       "</table>\n",
       "<p>301 rows × 8 columns</p>\n",
       "</div>"
      ],
      "text/plain": [
       "                     {mode=\"idle\"}  {mode=\"iowait\"}  {mode=\"irq\"}   \n",
       "2023-04-16 08:47:14       9.936111              0.0           0.0  \\\n",
       "2023-04-16 08:47:15       9.945833              0.0           0.0   \n",
       "2023-04-16 08:47:16       9.937500              0.0           0.0   \n",
       "2023-04-16 08:47:17       9.952778              0.0           0.0   \n",
       "2023-04-16 08:47:18       9.940278              0.0           0.0   \n",
       "...                            ...              ...           ...   \n",
       "2023-04-16 08:52:10       9.949306              0.0           0.0   \n",
       "2023-04-16 08:52:11       9.938889              0.0           0.0   \n",
       "2023-04-16 08:52:12       9.907639              0.0           0.0   \n",
       "2023-04-16 08:52:13       9.949306              0.0           0.0   \n",
       "2023-04-16 08:52:14       9.951389              0.0           0.0   \n",
       "\n",
       "                     {mode=\"nice\"}  {mode=\"softirq\"}  {mode=\"steal\"}   \n",
       "2023-04-16 08:47:14            0.0          0.000000             0.0  \\\n",
       "2023-04-16 08:47:15            0.0          0.000000             0.0   \n",
       "2023-04-16 08:47:16            0.0          0.000000             0.0   \n",
       "2023-04-16 08:47:17            0.0          0.000000             0.0   \n",
       "2023-04-16 08:47:18            0.0          0.000000             0.0   \n",
       "...                            ...               ...             ...   \n",
       "2023-04-16 08:52:10            0.0          0.002083             0.0   \n",
       "2023-04-16 08:52:11            0.0          0.002083             0.0   \n",
       "2023-04-16 08:52:12            0.0          0.002083             0.0   \n",
       "2023-04-16 08:52:13            0.0          0.001389             0.0   \n",
       "2023-04-16 08:52:14            0.0          0.001389             0.0   \n",
       "\n",
       "                     {mode=\"system\"}  {mode=\"user\"}  \n",
       "2023-04-16 08:47:14         0.006250       0.045139  \n",
       "2023-04-16 08:47:15         0.006250       0.045139  \n",
       "2023-04-16 08:47:16         0.004861       0.045139  \n",
       "2023-04-16 08:47:17         0.005556       0.041667  \n",
       "2023-04-16 08:47:18         0.005556       0.042361  \n",
       "...                              ...            ...  \n",
       "2023-04-16 08:52:10         0.006944       0.036111  \n",
       "2023-04-16 08:52:11         0.006944       0.040278  \n",
       "2023-04-16 08:52:12         0.006250       0.036111  \n",
       "2023-04-16 08:52:13         0.006944       0.033333  \n",
       "2023-04-16 08:52:14         0.004861       0.033333  \n",
       "\n",
       "[301 rows x 8 columns]"
      ]
     },
     "metadata": {},
     "output_type": "display_data"
    }
   ],
   "source": [
    "cpu_metrics = prepare_dataframe(Q_CPU_SECONDS, bm)\n",
    "describe_measurement_dataframe(cpu_metrics)\n",
    "\n",
    "total_mean_result = remove_meta_columns(cpu_metrics).groupby(level=0).mean()\n",
    "\n",
    "display(total_mean_result)\n",
    "# total_mean_result.plot.bar(ylabel='CPU seconds')"
   ]
  },
  {
   "cell_type": "markdown",
   "id": "ce20efdb-e68c-43b7-b158-a5076ee44a97",
   "metadata": {},
   "source": [
    "### CPU Utilization"
   ]
  },
  {
   "cell_type": "code",
   "execution_count": 49,
   "id": "2e27ff6d-4ea6-49ca-8c75-ea417073094a",
   "metadata": {
    "tags": []
   },
   "outputs": [
    {
     "name": "stdout",
     "output_type": "stream",
     "text": [
      "[Measurement 1] Querying 'avg by (mode) (rate(node_cpu_seconds_total[10s]) * 100)' from 1681634834 to 1681635134 with step 1s ...\n"
     ]
    },
    {
     "data": {
      "text/markdown": [
       "### Total "
      ],
      "text/plain": [
       "<IPython.core.display.Markdown object>"
      ]
     },
     "metadata": {},
     "output_type": "display_data"
    },
    {
     "data": {
      "text/html": [
       "<div>\n",
       "<style scoped>\n",
       "    .dataframe tbody tr th:only-of-type {\n",
       "        vertical-align: middle;\n",
       "    }\n",
       "\n",
       "    .dataframe tbody tr th {\n",
       "        vertical-align: top;\n",
       "    }\n",
       "\n",
       "    .dataframe thead th {\n",
       "        text-align: right;\n",
       "    }\n",
       "</style>\n",
       "<table border=\"1\" class=\"dataframe\">\n",
       "  <thead>\n",
       "    <tr style=\"text-align: right;\">\n",
       "      <th></th>\n",
       "      <th>{mode=\"idle\"}</th>\n",
       "      <th>{mode=\"iowait\"}</th>\n",
       "      <th>{mode=\"irq\"}</th>\n",
       "      <th>{mode=\"nice\"}</th>\n",
       "      <th>{mode=\"softirq\"}</th>\n",
       "      <th>{mode=\"steal\"}</th>\n",
       "      <th>{mode=\"system\"}</th>\n",
       "      <th>{mode=\"user\"}</th>\n",
       "    </tr>\n",
       "  </thead>\n",
       "  <tbody>\n",
       "    <tr>\n",
       "      <th>count</th>\n",
       "      <td>301.000000</td>\n",
       "      <td>301.000000</td>\n",
       "      <td>301.0</td>\n",
       "      <td>301.0</td>\n",
       "      <td>301.000000</td>\n",
       "      <td>301.0</td>\n",
       "      <td>301.000000</td>\n",
       "      <td>301.000000</td>\n",
       "    </tr>\n",
       "    <tr>\n",
       "      <th>mean</th>\n",
       "      <td>99.407577</td>\n",
       "      <td>0.001038</td>\n",
       "      <td>0.0</td>\n",
       "      <td>0.0</td>\n",
       "      <td>0.012159</td>\n",
       "      <td>0.0</td>\n",
       "      <td>0.068568</td>\n",
       "      <td>0.416182</td>\n",
       "    </tr>\n",
       "    <tr>\n",
       "      <th>std</th>\n",
       "      <td>0.082584</td>\n",
       "      <td>0.002668</td>\n",
       "      <td>0.0</td>\n",
       "      <td>0.0</td>\n",
       "      <td>0.010580</td>\n",
       "      <td>0.0</td>\n",
       "      <td>0.014193</td>\n",
       "      <td>0.036469</td>\n",
       "    </tr>\n",
       "    <tr>\n",
       "      <th>min</th>\n",
       "      <td>99.076389</td>\n",
       "      <td>0.000000</td>\n",
       "      <td>0.0</td>\n",
       "      <td>0.0</td>\n",
       "      <td>0.000000</td>\n",
       "      <td>0.0</td>\n",
       "      <td>0.027778</td>\n",
       "      <td>0.319444</td>\n",
       "    </tr>\n",
       "    <tr>\n",
       "      <th>25%</th>\n",
       "      <td>99.361111</td>\n",
       "      <td>0.000000</td>\n",
       "      <td>0.0</td>\n",
       "      <td>0.0</td>\n",
       "      <td>0.000000</td>\n",
       "      <td>0.0</td>\n",
       "      <td>0.062500</td>\n",
       "      <td>0.395833</td>\n",
       "    </tr>\n",
       "    <tr>\n",
       "      <th>50%</th>\n",
       "      <td>99.402778</td>\n",
       "      <td>0.000000</td>\n",
       "      <td>0.0</td>\n",
       "      <td>0.0</td>\n",
       "      <td>0.013889</td>\n",
       "      <td>0.0</td>\n",
       "      <td>0.069444</td>\n",
       "      <td>0.423611</td>\n",
       "    </tr>\n",
       "    <tr>\n",
       "      <th>75%</th>\n",
       "      <td>99.451389</td>\n",
       "      <td>0.000000</td>\n",
       "      <td>0.0</td>\n",
       "      <td>0.0</td>\n",
       "      <td>0.020833</td>\n",
       "      <td>0.0</td>\n",
       "      <td>0.076389</td>\n",
       "      <td>0.444444</td>\n",
       "    </tr>\n",
       "    <tr>\n",
       "      <th>max</th>\n",
       "      <td>99.840278</td>\n",
       "      <td>0.013889</td>\n",
       "      <td>0.0</td>\n",
       "      <td>0.0</td>\n",
       "      <td>0.041667</td>\n",
       "      <td>0.0</td>\n",
       "      <td>0.111111</td>\n",
       "      <td>0.493056</td>\n",
       "    </tr>\n",
       "  </tbody>\n",
       "</table>\n",
       "</div>"
      ],
      "text/plain": [
       "       {mode=\"idle\"}  {mode=\"iowait\"}  {mode=\"irq\"}  {mode=\"nice\"}   \n",
       "count     301.000000       301.000000         301.0          301.0  \\\n",
       "mean       99.407577         0.001038           0.0            0.0   \n",
       "std         0.082584         0.002668           0.0            0.0   \n",
       "min        99.076389         0.000000           0.0            0.0   \n",
       "25%        99.361111         0.000000           0.0            0.0   \n",
       "50%        99.402778         0.000000           0.0            0.0   \n",
       "75%        99.451389         0.000000           0.0            0.0   \n",
       "max        99.840278         0.013889           0.0            0.0   \n",
       "\n",
       "       {mode=\"softirq\"}  {mode=\"steal\"}  {mode=\"system\"}  {mode=\"user\"}  \n",
       "count        301.000000           301.0       301.000000     301.000000  \n",
       "mean           0.012159             0.0         0.068568       0.416182  \n",
       "std            0.010580             0.0         0.014193       0.036469  \n",
       "min            0.000000             0.0         0.027778       0.319444  \n",
       "25%            0.000000             0.0         0.062500       0.395833  \n",
       "50%            0.013889             0.0         0.069444       0.423611  \n",
       "75%            0.020833             0.0         0.076389       0.444444  \n",
       "max            0.041667             0.0         0.111111       0.493056  "
      ]
     },
     "metadata": {},
     "output_type": "display_data"
    },
    {
     "data": {
      "text/markdown": [
       "### Per Measurement"
      ],
      "text/plain": [
       "<IPython.core.display.Markdown object>"
      ]
     },
     "metadata": {},
     "output_type": "display_data"
    },
    {
     "data": {
      "text/plain": [
       "                      measurement\n",
       "delta          count  1                          301\n",
       "               mean   1              0 days 00:02:30\n",
       "               std    1              0 days 00:01:27\n",
       "               min    1              0 days 00:00:00\n",
       "               25%    1              0 days 00:01:15\n",
       "                                          ...       \n",
       "{mode=\"user\"}  min    1                     0.319444\n",
       "               25%    1                     0.395833\n",
       "               50%    1                     0.423611\n",
       "               75%    1                     0.444444\n",
       "               max    1                     0.493056\n",
       "Length: 72, dtype: object"
      ]
     },
     "metadata": {},
     "output_type": "display_data"
    }
   ],
   "source": [
    "cpu_utilization = prepare_dataframe(Q_CPU_UTILIZATION, bm)\n",
    "describe_measurement_dataframe(cpu_utilization)\n",
    "\n",
    "grouped_mean = cpu_utilization.groupby(by=['seconds']).mean()\n",
    "grouped_mean.drop(['measurement', 'delta'], inplace=True, axis=1)\n",
    "# grouped_mean.plot(drawstyle='steps',figsize=(10,3),ylim=(-5,105),ylabel='%')"
   ]
  },
  {
   "cell_type": "markdown",
   "id": "d9f626e9-93c7-4304-a84d-2789ef5829a2",
   "metadata": {},
   "source": [
    "## Memory"
   ]
  },
  {
   "cell_type": "code",
   "execution_count": 50,
   "id": "9a66b19a-7298-4efd-a30e-a1e444236225",
   "metadata": {
    "tags": []
   },
   "outputs": [
    {
     "name": "stdout",
     "output_type": "stream",
     "text": [
      "[Measurement 1] Querying '\n",
      "      100 * (1 - ((avg_over_time(node_memory_MemFree_bytes[10s]) + avg_over_time(node_memory_Cached_bytes[10s]) + avg_over_time(node_memory_Buffers_bytes[10s])) / avg_over_time(node_memory_MemTotal_bytes[10s])))\n",
      "    ' from 1681634834 to 1681635134 with step 1s ...\n"
     ]
    },
    {
     "data": {
      "text/markdown": [
       "### Total "
      ],
      "text/plain": [
       "<IPython.core.display.Markdown object>"
      ]
     },
     "metadata": {},
     "output_type": "display_data"
    },
    {
     "data": {
      "text/html": [
       "<div>\n",
       "<style scoped>\n",
       "    .dataframe tbody tr th:only-of-type {\n",
       "        vertical-align: middle;\n",
       "    }\n",
       "\n",
       "    .dataframe tbody tr th {\n",
       "        vertical-align: top;\n",
       "    }\n",
       "\n",
       "    .dataframe thead th {\n",
       "        text-align: right;\n",
       "    }\n",
       "</style>\n",
       "<table border=\"1\" class=\"dataframe\">\n",
       "  <thead>\n",
       "    <tr style=\"text-align: right;\">\n",
       "      <th></th>\n",
       "      <th>{instance=\"192.168.178.79:9100\",job=\"node\"}</th>\n",
       "    </tr>\n",
       "  </thead>\n",
       "  <tbody>\n",
       "    <tr>\n",
       "      <th>count</th>\n",
       "      <td>301.000000</td>\n",
       "    </tr>\n",
       "    <tr>\n",
       "      <th>mean</th>\n",
       "      <td>1.063313</td>\n",
       "    </tr>\n",
       "    <tr>\n",
       "      <th>std</th>\n",
       "      <td>0.004534</td>\n",
       "    </tr>\n",
       "    <tr>\n",
       "      <th>min</th>\n",
       "      <td>1.055603</td>\n",
       "    </tr>\n",
       "    <tr>\n",
       "      <th>25%</th>\n",
       "      <td>1.059990</td>\n",
       "    </tr>\n",
       "    <tr>\n",
       "      <th>50%</th>\n",
       "      <td>1.063192</td>\n",
       "    </tr>\n",
       "    <tr>\n",
       "      <th>75%</th>\n",
       "      <td>1.065911</td>\n",
       "    </tr>\n",
       "    <tr>\n",
       "      <th>max</th>\n",
       "      <td>1.077417</td>\n",
       "    </tr>\n",
       "  </tbody>\n",
       "</table>\n",
       "</div>"
      ],
      "text/plain": [
       "       {instance=\"192.168.178.79:9100\",job=\"node\"}\n",
       "count                                   301.000000\n",
       "mean                                      1.063313\n",
       "std                                       0.004534\n",
       "min                                       1.055603\n",
       "25%                                       1.059990\n",
       "50%                                       1.063192\n",
       "75%                                       1.065911\n",
       "max                                       1.077417"
      ]
     },
     "metadata": {},
     "output_type": "display_data"
    },
    {
     "data": {
      "text/markdown": [
       "### Per Measurement"
      ],
      "text/plain": [
       "<IPython.core.display.Markdown object>"
      ]
     },
     "metadata": {},
     "output_type": "display_data"
    },
    {
     "data": {
      "text/plain": [
       "                                                    measurement\n",
       "delta                                        count  1                          301\n",
       "                                             mean   1              0 days 00:02:30\n",
       "                                             std    1              0 days 00:01:27\n",
       "                                             min    1              0 days 00:00:00\n",
       "                                             25%    1              0 days 00:01:15\n",
       "                                             50%    1              0 days 00:02:30\n",
       "                                             75%    1              0 days 00:03:45\n",
       "                                             max    1              0 days 00:05:00\n",
       "{instance=\"192.168.178.79:9100\",job=\"node\"}  count  1                        301.0\n",
       "                                             mean   1                     1.063313\n",
       "                                             std    1                     0.004534\n",
       "                                             min    1                     1.055603\n",
       "                                             25%    1                      1.05999\n",
       "                                             50%    1                     1.063192\n",
       "                                             75%    1                     1.065911\n",
       "                                             max    1                     1.077417\n",
       "dtype: object"
      ]
     },
     "metadata": {},
     "output_type": "display_data"
    }
   ],
   "source": [
    "memory_usage = prepare_dataframe(Q_MEMORY_USAGE, bm)\n",
    "describe_measurement_dataframe(memory_usage)\n",
    "\n",
    "grouped_mean = memory_usage.groupby(by=['seconds']).mean()\n",
    "grouped_mean.drop(['measurement', 'delta'], inplace=True, axis=1)\n",
    "# grouped_mean.plot(drawstyle='steps',figsize=(10,3),ylim=(-5,105),ylabel='%')"
   ]
  },
  {
   "cell_type": "markdown",
   "id": "76e2ae12-097d-4c5d-8409-2469bf3b19ae",
   "metadata": {},
   "source": [
    "## Network"
   ]
  },
  {
   "cell_type": "markdown",
   "id": "fe8d98f2-cf08-4a77-af2a-c3bf25d650ee",
   "metadata": {},
   "source": [
    "### Received KBytes"
   ]
  },
  {
   "cell_type": "code",
   "execution_count": 51,
   "id": "86fed23e-16ef-43a7-9169-9cc661d52420",
   "metadata": {
    "tags": []
   },
   "outputs": [
    {
     "name": "stdout",
     "output_type": "stream",
     "text": [
      "[Measurement 1] Querying 'sum by(device) (increase(node_network_receive_bytes_total{device=~\"docker0|enp7s0|lo\"}[10s])) / 1000' from 1681634834 to 1681635134 with step 1s ...\n"
     ]
    },
    {
     "data": {
      "text/markdown": [
       "### Total "
      ],
      "text/plain": [
       "<IPython.core.display.Markdown object>"
      ]
     },
     "metadata": {},
     "output_type": "display_data"
    },
    {
     "data": {
      "text/html": [
       "<div>\n",
       "<style scoped>\n",
       "    .dataframe tbody tr th:only-of-type {\n",
       "        vertical-align: middle;\n",
       "    }\n",
       "\n",
       "    .dataframe tbody tr th {\n",
       "        vertical-align: top;\n",
       "    }\n",
       "\n",
       "    .dataframe thead th {\n",
       "        text-align: right;\n",
       "    }\n",
       "</style>\n",
       "<table border=\"1\" class=\"dataframe\">\n",
       "  <thead>\n",
       "    <tr style=\"text-align: right;\">\n",
       "      <th></th>\n",
       "      <th>{device=\"docker0\"}</th>\n",
       "      <th>{device=\"enp7s0\"}</th>\n",
       "      <th>{device=\"lo\"}</th>\n",
       "    </tr>\n",
       "  </thead>\n",
       "  <tbody>\n",
       "    <tr>\n",
       "      <th>count</th>\n",
       "      <td>301.0</td>\n",
       "      <td>301.000000</td>\n",
       "      <td>301.0</td>\n",
       "    </tr>\n",
       "    <tr>\n",
       "      <th>mean</th>\n",
       "      <td>0.0</td>\n",
       "      <td>10.455526</td>\n",
       "      <td>0.0</td>\n",
       "    </tr>\n",
       "    <tr>\n",
       "      <th>std</th>\n",
       "      <td>0.0</td>\n",
       "      <td>0.439885</td>\n",
       "      <td>0.0</td>\n",
       "    </tr>\n",
       "    <tr>\n",
       "      <th>min</th>\n",
       "      <td>0.0</td>\n",
       "      <td>9.446667</td>\n",
       "      <td>0.0</td>\n",
       "    </tr>\n",
       "    <tr>\n",
       "      <th>25%</th>\n",
       "      <td>0.0</td>\n",
       "      <td>10.124444</td>\n",
       "      <td>0.0</td>\n",
       "    </tr>\n",
       "    <tr>\n",
       "      <th>50%</th>\n",
       "      <td>0.0</td>\n",
       "      <td>10.426667</td>\n",
       "      <td>0.0</td>\n",
       "    </tr>\n",
       "    <tr>\n",
       "      <th>75%</th>\n",
       "      <td>0.0</td>\n",
       "      <td>10.733333</td>\n",
       "      <td>0.0</td>\n",
       "    </tr>\n",
       "    <tr>\n",
       "      <th>max</th>\n",
       "      <td>0.0</td>\n",
       "      <td>11.573333</td>\n",
       "      <td>0.0</td>\n",
       "    </tr>\n",
       "  </tbody>\n",
       "</table>\n",
       "</div>"
      ],
      "text/plain": [
       "       {device=\"docker0\"}  {device=\"enp7s0\"}  {device=\"lo\"}\n",
       "count               301.0         301.000000          301.0\n",
       "mean                  0.0          10.455526            0.0\n",
       "std                   0.0           0.439885            0.0\n",
       "min                   0.0           9.446667            0.0\n",
       "25%                   0.0          10.124444            0.0\n",
       "50%                   0.0          10.426667            0.0\n",
       "75%                   0.0          10.733333            0.0\n",
       "max                   0.0          11.573333            0.0"
      ]
     },
     "metadata": {},
     "output_type": "display_data"
    },
    {
     "data": {
      "text/markdown": [
       "### Per Measurement"
      ],
      "text/plain": [
       "<IPython.core.display.Markdown object>"
      ]
     },
     "metadata": {},
     "output_type": "display_data"
    },
    {
     "data": {
      "text/plain": [
       "                           measurement\n",
       "delta               count  1                          301\n",
       "                    mean   1              0 days 00:02:30\n",
       "                    std    1              0 days 00:01:27\n",
       "                    min    1              0 days 00:00:00\n",
       "                    25%    1              0 days 00:01:15\n",
       "                    50%    1              0 days 00:02:30\n",
       "                    75%    1              0 days 00:03:45\n",
       "                    max    1              0 days 00:05:00\n",
       "{device=\"docker0\"}  count  1                        301.0\n",
       "                    mean   1                          0.0\n",
       "                    std    1                          0.0\n",
       "                    min    1                          0.0\n",
       "                    25%    1                          0.0\n",
       "                    50%    1                          0.0\n",
       "                    75%    1                          0.0\n",
       "                    max    1                          0.0\n",
       "{device=\"enp7s0\"}   count  1                        301.0\n",
       "                    mean   1                    10.455526\n",
       "                    std    1                     0.439885\n",
       "                    min    1                     9.446667\n",
       "                    25%    1                    10.124444\n",
       "                    50%    1                    10.426667\n",
       "                    75%    1                    10.733333\n",
       "                    max    1                    11.573333\n",
       "{device=\"lo\"}       count  1                        301.0\n",
       "                    mean   1                          0.0\n",
       "                    std    1                          0.0\n",
       "                    min    1                          0.0\n",
       "                    25%    1                          0.0\n",
       "                    50%    1                          0.0\n",
       "                    75%    1                          0.0\n",
       "                    max    1                          0.0\n",
       "dtype: object"
      ]
     },
     "metadata": {},
     "output_type": "display_data"
    }
   ],
   "source": [
    "network_received_bytes = prepare_dataframe(Q_NETWORK_RX_BYTES, bm)\n",
    "describe_measurement_dataframe(network_received_bytes)\n",
    "\n",
    "grouped_mean = network_received_bytes.groupby(level=0).mean()\n",
    "grouped_mean.drop(['measurement'], inplace=True, axis=1)\n",
    "# grouped_mean.plot.bar(ylabel='Received KBytes')"
   ]
  },
  {
   "cell_type": "code",
   "execution_count": 52,
   "id": "503a42ea-6fe5-41d8-9418-604b00a71d97",
   "metadata": {
    "tags": []
   },
   "outputs": [
    {
     "name": "stdout",
     "output_type": "stream",
     "text": [
      "[Measurement 1] Querying 'avg by (device) (rate(node_network_receive_bytes_total{device=~\"docker0|enp7s0|lo\"}[10s]))' from 1681634834 to 1681635134 with step 1s ...\n"
     ]
    },
    {
     "data": {
      "text/markdown": [
       "### Total "
      ],
      "text/plain": [
       "<IPython.core.display.Markdown object>"
      ]
     },
     "metadata": {},
     "output_type": "display_data"
    },
    {
     "data": {
      "text/html": [
       "<div>\n",
       "<style scoped>\n",
       "    .dataframe tbody tr th:only-of-type {\n",
       "        vertical-align: middle;\n",
       "    }\n",
       "\n",
       "    .dataframe tbody tr th {\n",
       "        vertical-align: top;\n",
       "    }\n",
       "\n",
       "    .dataframe thead th {\n",
       "        text-align: right;\n",
       "    }\n",
       "</style>\n",
       "<table border=\"1\" class=\"dataframe\">\n",
       "  <thead>\n",
       "    <tr style=\"text-align: right;\">\n",
       "      <th></th>\n",
       "      <th>{device=\"docker0\"}</th>\n",
       "      <th>{device=\"enp7s0\"}</th>\n",
       "      <th>{device=\"lo\"}</th>\n",
       "    </tr>\n",
       "  </thead>\n",
       "  <tbody>\n",
       "    <tr>\n",
       "      <th>count</th>\n",
       "      <td>301.0</td>\n",
       "      <td>301.000000</td>\n",
       "      <td>301.0</td>\n",
       "    </tr>\n",
       "    <tr>\n",
       "      <th>mean</th>\n",
       "      <td>0.0</td>\n",
       "      <td>1045.552602</td>\n",
       "      <td>0.0</td>\n",
       "    </tr>\n",
       "    <tr>\n",
       "      <th>std</th>\n",
       "      <td>0.0</td>\n",
       "      <td>43.988468</td>\n",
       "      <td>0.0</td>\n",
       "    </tr>\n",
       "    <tr>\n",
       "      <th>min</th>\n",
       "      <td>0.0</td>\n",
       "      <td>944.666667</td>\n",
       "      <td>0.0</td>\n",
       "    </tr>\n",
       "    <tr>\n",
       "      <th>25%</th>\n",
       "      <td>0.0</td>\n",
       "      <td>1012.444444</td>\n",
       "      <td>0.0</td>\n",
       "    </tr>\n",
       "    <tr>\n",
       "      <th>50%</th>\n",
       "      <td>0.0</td>\n",
       "      <td>1042.666667</td>\n",
       "      <td>0.0</td>\n",
       "    </tr>\n",
       "    <tr>\n",
       "      <th>75%</th>\n",
       "      <td>0.0</td>\n",
       "      <td>1073.333333</td>\n",
       "      <td>0.0</td>\n",
       "    </tr>\n",
       "    <tr>\n",
       "      <th>max</th>\n",
       "      <td>0.0</td>\n",
       "      <td>1157.333333</td>\n",
       "      <td>0.0</td>\n",
       "    </tr>\n",
       "  </tbody>\n",
       "</table>\n",
       "</div>"
      ],
      "text/plain": [
       "       {device=\"docker0\"}  {device=\"enp7s0\"}  {device=\"lo\"}\n",
       "count               301.0         301.000000          301.0\n",
       "mean                  0.0        1045.552602            0.0\n",
       "std                   0.0          43.988468            0.0\n",
       "min                   0.0         944.666667            0.0\n",
       "25%                   0.0        1012.444444            0.0\n",
       "50%                   0.0        1042.666667            0.0\n",
       "75%                   0.0        1073.333333            0.0\n",
       "max                   0.0        1157.333333            0.0"
      ]
     },
     "metadata": {},
     "output_type": "display_data"
    },
    {
     "data": {
      "text/markdown": [
       "### Per Measurement"
      ],
      "text/plain": [
       "<IPython.core.display.Markdown object>"
      ]
     },
     "metadata": {},
     "output_type": "display_data"
    },
    {
     "data": {
      "text/plain": [
       "                           measurement\n",
       "delta               count  1                          301\n",
       "                    mean   1              0 days 00:02:30\n",
       "                    std    1              0 days 00:01:27\n",
       "                    min    1              0 days 00:00:00\n",
       "                    25%    1              0 days 00:01:15\n",
       "                    50%    1              0 days 00:02:30\n",
       "                    75%    1              0 days 00:03:45\n",
       "                    max    1              0 days 00:05:00\n",
       "{device=\"docker0\"}  count  1                        301.0\n",
       "                    mean   1                          0.0\n",
       "                    std    1                          0.0\n",
       "                    min    1                          0.0\n",
       "                    25%    1                          0.0\n",
       "                    50%    1                          0.0\n",
       "                    75%    1                          0.0\n",
       "                    max    1                          0.0\n",
       "{device=\"enp7s0\"}   count  1                        301.0\n",
       "                    mean   1                  1045.552602\n",
       "                    std    1                    43.988468\n",
       "                    min    1                   944.666667\n",
       "                    25%    1                  1012.444444\n",
       "                    50%    1                  1042.666667\n",
       "                    75%    1                  1073.333333\n",
       "                    max    1                  1157.333333\n",
       "{device=\"lo\"}       count  1                        301.0\n",
       "                    mean   1                          0.0\n",
       "                    std    1                          0.0\n",
       "                    min    1                          0.0\n",
       "                    25%    1                          0.0\n",
       "                    50%    1                          0.0\n",
       "                    75%    1                          0.0\n",
       "                    max    1                          0.0\n",
       "dtype: object"
      ]
     },
     "metadata": {},
     "output_type": "display_data"
    }
   ],
   "source": [
    "network_average_receive_rate = prepare_dataframe(Q_NETWORK_RX_RATE, bm)\n",
    "describe_measurement_dataframe(network_average_receive_rate)\n",
    "\n",
    "grouped_mean = network_average_receive_rate.groupby(by=['seconds']).mean()\n",
    "grouped_mean.drop(['measurement', 'delta'], inplace=True, axis=1)\n",
    "# grouped_mean.plot(drawstyle='steps',figsize=(10,3),ylabel='Bytes')"
   ]
  },
  {
   "cell_type": "markdown",
   "id": "361c4c3c-59bc-45ed-858c-3630929e983b",
   "metadata": {},
   "source": [
    "### Sent KByte"
   ]
  },
  {
   "cell_type": "code",
   "execution_count": 53,
   "id": "06ae89ef-b81d-4470-8940-fd45ab66d346",
   "metadata": {
    "tags": []
   },
   "outputs": [
    {
     "name": "stdout",
     "output_type": "stream",
     "text": [
      "[Measurement 1] Querying 'sum by(device) (increase(node_network_transmit_bytes_total{device=~\"docker0|enp7s0|lo\"}[10s])) / 1000' from 1681634834 to 1681635134 with step 1s ...\n"
     ]
    },
    {
     "data": {
      "text/markdown": [
       "### Total "
      ],
      "text/plain": [
       "<IPython.core.display.Markdown object>"
      ]
     },
     "metadata": {},
     "output_type": "display_data"
    },
    {
     "data": {
      "text/html": [
       "<div>\n",
       "<style scoped>\n",
       "    .dataframe tbody tr th:only-of-type {\n",
       "        vertical-align: middle;\n",
       "    }\n",
       "\n",
       "    .dataframe tbody tr th {\n",
       "        vertical-align: top;\n",
       "    }\n",
       "\n",
       "    .dataframe thead th {\n",
       "        text-align: right;\n",
       "    }\n",
       "</style>\n",
       "<table border=\"1\" class=\"dataframe\">\n",
       "  <thead>\n",
       "    <tr style=\"text-align: right;\">\n",
       "      <th></th>\n",
       "      <th>{device=\"docker0\"}</th>\n",
       "      <th>{device=\"enp7s0\"}</th>\n",
       "      <th>{device=\"lo\"}</th>\n",
       "    </tr>\n",
       "  </thead>\n",
       "  <tbody>\n",
       "    <tr>\n",
       "      <th>count</th>\n",
       "      <td>301.0</td>\n",
       "      <td>301.000000</td>\n",
       "      <td>301.0</td>\n",
       "    </tr>\n",
       "    <tr>\n",
       "      <th>mean</th>\n",
       "      <td>0.0</td>\n",
       "      <td>198.135947</td>\n",
       "      <td>0.0</td>\n",
       "    </tr>\n",
       "    <tr>\n",
       "      <th>std</th>\n",
       "      <td>0.0</td>\n",
       "      <td>0.080701</td>\n",
       "      <td>0.0</td>\n",
       "    </tr>\n",
       "    <tr>\n",
       "      <th>min</th>\n",
       "      <td>0.0</td>\n",
       "      <td>197.851111</td>\n",
       "      <td>0.0</td>\n",
       "    </tr>\n",
       "    <tr>\n",
       "      <th>25%</th>\n",
       "      <td>0.0</td>\n",
       "      <td>198.084444</td>\n",
       "      <td>0.0</td>\n",
       "    </tr>\n",
       "    <tr>\n",
       "      <th>50%</th>\n",
       "      <td>0.0</td>\n",
       "      <td>198.142222</td>\n",
       "      <td>0.0</td>\n",
       "    </tr>\n",
       "    <tr>\n",
       "      <th>75%</th>\n",
       "      <td>0.0</td>\n",
       "      <td>198.190000</td>\n",
       "      <td>0.0</td>\n",
       "    </tr>\n",
       "    <tr>\n",
       "      <th>max</th>\n",
       "      <td>0.0</td>\n",
       "      <td>198.358889</td>\n",
       "      <td>0.0</td>\n",
       "    </tr>\n",
       "  </tbody>\n",
       "</table>\n",
       "</div>"
      ],
      "text/plain": [
       "       {device=\"docker0\"}  {device=\"enp7s0\"}  {device=\"lo\"}\n",
       "count               301.0         301.000000          301.0\n",
       "mean                  0.0         198.135947            0.0\n",
       "std                   0.0           0.080701            0.0\n",
       "min                   0.0         197.851111            0.0\n",
       "25%                   0.0         198.084444            0.0\n",
       "50%                   0.0         198.142222            0.0\n",
       "75%                   0.0         198.190000            0.0\n",
       "max                   0.0         198.358889            0.0"
      ]
     },
     "metadata": {},
     "output_type": "display_data"
    },
    {
     "data": {
      "text/markdown": [
       "### Per Measurement"
      ],
      "text/plain": [
       "<IPython.core.display.Markdown object>"
      ]
     },
     "metadata": {},
     "output_type": "display_data"
    },
    {
     "data": {
      "text/plain": [
       "                           measurement\n",
       "delta               count  1                          301\n",
       "                    mean   1              0 days 00:02:30\n",
       "                    std    1              0 days 00:01:27\n",
       "                    min    1              0 days 00:00:00\n",
       "                    25%    1              0 days 00:01:15\n",
       "                    50%    1              0 days 00:02:30\n",
       "                    75%    1              0 days 00:03:45\n",
       "                    max    1              0 days 00:05:00\n",
       "{device=\"docker0\"}  count  1                        301.0\n",
       "                    mean   1                          0.0\n",
       "                    std    1                          0.0\n",
       "                    min    1                          0.0\n",
       "                    25%    1                          0.0\n",
       "                    50%    1                          0.0\n",
       "                    75%    1                          0.0\n",
       "                    max    1                          0.0\n",
       "{device=\"enp7s0\"}   count  1                        301.0\n",
       "                    mean   1                   198.135947\n",
       "                    std    1                     0.080701\n",
       "                    min    1                   197.851111\n",
       "                    25%    1                   198.084444\n",
       "                    50%    1                   198.142222\n",
       "                    75%    1                       198.19\n",
       "                    max    1                   198.358889\n",
       "{device=\"lo\"}       count  1                        301.0\n",
       "                    mean   1                          0.0\n",
       "                    std    1                          0.0\n",
       "                    min    1                          0.0\n",
       "                    25%    1                          0.0\n",
       "                    50%    1                          0.0\n",
       "                    75%    1                          0.0\n",
       "                    max    1                          0.0\n",
       "dtype: object"
      ]
     },
     "metadata": {},
     "output_type": "display_data"
    }
   ],
   "source": [
    "network_transmitted_bytes = prepare_dataframe(Q_NETWORK_TX_BYTES, bm)\n",
    "describe_measurement_dataframe(network_transmitted_bytes)\n",
    "\n",
    "grouped_mean = network_transmitted_bytes.groupby(level=0).mean()\n",
    "grouped_mean.drop(['measurement'], inplace=True, axis=1)\n",
    "# grouped_mean.plot.bar(ylabel='Sent KBytes')"
   ]
  },
  {
   "cell_type": "code",
   "execution_count": 54,
   "id": "b753ef53-26b3-4d08-bf71-0af5fe447726",
   "metadata": {
    "tags": []
   },
   "outputs": [
    {
     "name": "stdout",
     "output_type": "stream",
     "text": [
      "[Measurement 1] Querying 'avg by (device) (rate(node_network_transmit_bytes_total{device=~\"docker0|enp7s0|lo\"}[10s]))' from 1681634834 to 1681635134 with step 1s ...\n"
     ]
    },
    {
     "data": {
      "text/markdown": [
       "### Total "
      ],
      "text/plain": [
       "<IPython.core.display.Markdown object>"
      ]
     },
     "metadata": {},
     "output_type": "display_data"
    },
    {
     "data": {
      "text/html": [
       "<div>\n",
       "<style scoped>\n",
       "    .dataframe tbody tr th:only-of-type {\n",
       "        vertical-align: middle;\n",
       "    }\n",
       "\n",
       "    .dataframe tbody tr th {\n",
       "        vertical-align: top;\n",
       "    }\n",
       "\n",
       "    .dataframe thead th {\n",
       "        text-align: right;\n",
       "    }\n",
       "</style>\n",
       "<table border=\"1\" class=\"dataframe\">\n",
       "  <thead>\n",
       "    <tr style=\"text-align: right;\">\n",
       "      <th></th>\n",
       "      <th>{device=\"docker0\"}</th>\n",
       "      <th>{device=\"enp7s0\"}</th>\n",
       "      <th>{device=\"lo\"}</th>\n",
       "    </tr>\n",
       "  </thead>\n",
       "  <tbody>\n",
       "    <tr>\n",
       "      <th>count</th>\n",
       "      <td>301.0</td>\n",
       "      <td>301.000000</td>\n",
       "      <td>301.0</td>\n",
       "    </tr>\n",
       "    <tr>\n",
       "      <th>mean</th>\n",
       "      <td>0.0</td>\n",
       "      <td>19813.594684</td>\n",
       "      <td>0.0</td>\n",
       "    </tr>\n",
       "    <tr>\n",
       "      <th>std</th>\n",
       "      <td>0.0</td>\n",
       "      <td>8.070060</td>\n",
       "      <td>0.0</td>\n",
       "    </tr>\n",
       "    <tr>\n",
       "      <th>min</th>\n",
       "      <td>0.0</td>\n",
       "      <td>19785.111111</td>\n",
       "      <td>0.0</td>\n",
       "    </tr>\n",
       "    <tr>\n",
       "      <th>25%</th>\n",
       "      <td>0.0</td>\n",
       "      <td>19808.444444</td>\n",
       "      <td>0.0</td>\n",
       "    </tr>\n",
       "    <tr>\n",
       "      <th>50%</th>\n",
       "      <td>0.0</td>\n",
       "      <td>19814.222222</td>\n",
       "      <td>0.0</td>\n",
       "    </tr>\n",
       "    <tr>\n",
       "      <th>75%</th>\n",
       "      <td>0.0</td>\n",
       "      <td>19819.000000</td>\n",
       "      <td>0.0</td>\n",
       "    </tr>\n",
       "    <tr>\n",
       "      <th>max</th>\n",
       "      <td>0.0</td>\n",
       "      <td>19835.888889</td>\n",
       "      <td>0.0</td>\n",
       "    </tr>\n",
       "  </tbody>\n",
       "</table>\n",
       "</div>"
      ],
      "text/plain": [
       "       {device=\"docker0\"}  {device=\"enp7s0\"}  {device=\"lo\"}\n",
       "count               301.0         301.000000          301.0\n",
       "mean                  0.0       19813.594684            0.0\n",
       "std                   0.0           8.070060            0.0\n",
       "min                   0.0       19785.111111            0.0\n",
       "25%                   0.0       19808.444444            0.0\n",
       "50%                   0.0       19814.222222            0.0\n",
       "75%                   0.0       19819.000000            0.0\n",
       "max                   0.0       19835.888889            0.0"
      ]
     },
     "metadata": {},
     "output_type": "display_data"
    },
    {
     "data": {
      "text/markdown": [
       "### Per Measurement"
      ],
      "text/plain": [
       "<IPython.core.display.Markdown object>"
      ]
     },
     "metadata": {},
     "output_type": "display_data"
    },
    {
     "data": {
      "text/plain": [
       "                           measurement\n",
       "delta               count  1                          301\n",
       "                    mean   1              0 days 00:02:30\n",
       "                    std    1              0 days 00:01:27\n",
       "                    min    1              0 days 00:00:00\n",
       "                    25%    1              0 days 00:01:15\n",
       "                    50%    1              0 days 00:02:30\n",
       "                    75%    1              0 days 00:03:45\n",
       "                    max    1              0 days 00:05:00\n",
       "{device=\"docker0\"}  count  1                        301.0\n",
       "                    mean   1                          0.0\n",
       "                    std    1                          0.0\n",
       "                    min    1                          0.0\n",
       "                    25%    1                          0.0\n",
       "                    50%    1                          0.0\n",
       "                    75%    1                          0.0\n",
       "                    max    1                          0.0\n",
       "{device=\"enp7s0\"}   count  1                        301.0\n",
       "                    mean   1                 19813.594684\n",
       "                    std    1                      8.07006\n",
       "                    min    1                 19785.111111\n",
       "                    25%    1                 19808.444444\n",
       "                    50%    1                 19814.222222\n",
       "                    75%    1                      19819.0\n",
       "                    max    1                 19835.888889\n",
       "{device=\"lo\"}       count  1                        301.0\n",
       "                    mean   1                          0.0\n",
       "                    std    1                          0.0\n",
       "                    min    1                          0.0\n",
       "                    25%    1                          0.0\n",
       "                    50%    1                          0.0\n",
       "                    75%    1                          0.0\n",
       "                    max    1                          0.0\n",
       "dtype: object"
      ]
     },
     "metadata": {},
     "output_type": "display_data"
    }
   ],
   "source": [
    "network_average_transmit_rate = prepare_dataframe(Q_NETWORK_TX_RATE, bm)\n",
    "describe_measurement_dataframe(network_average_transmit_rate)\n",
    "\n",
    "grouped_mean = network_average_transmit_rate.groupby(by=['seconds']).mean()\n",
    "grouped_mean.drop(['measurement', 'delta'], inplace=True, axis=1)\n",
    "# grouped_mean.plot(drawstyle='steps',figsize=(10,3),ylabel='Bytes')"
   ]
  },
  {
   "cell_type": "markdown",
   "id": "e3470119-f719-4ce2-ab8c-072eedfcf11f",
   "metadata": {},
   "source": [
    "# Disk"
   ]
  },
  {
   "cell_type": "code",
   "execution_count": 55,
   "id": "6c47c0f5-c1c5-4f38-8eb4-cc163bcc796a",
   "metadata": {
    "tags": []
   },
   "outputs": [
    {
     "name": "stdout",
     "output_type": "stream",
     "text": [
      "[Measurement 1] Querying 'increase(node_disk_io_time_seconds_total{device=~\"sda\"}[10s])' from 1681634834 to 1681635134 with step 1s ...\n"
     ]
    },
    {
     "data": {
      "text/html": [
       "<div>\n",
       "<style scoped>\n",
       "    .dataframe tbody tr th:only-of-type {\n",
       "        vertical-align: middle;\n",
       "    }\n",
       "\n",
       "    .dataframe tbody tr th {\n",
       "        vertical-align: top;\n",
       "    }\n",
       "\n",
       "    .dataframe thead th {\n",
       "        text-align: right;\n",
       "    }\n",
       "</style>\n",
       "<table border=\"1\" class=\"dataframe\">\n",
       "  <thead>\n",
       "    <tr style=\"text-align: right;\">\n",
       "      <th></th>\n",
       "      <th>{device=\"sda\",instance=\"192.168.178.79:9100\",job=\"node\"}</th>\n",
       "      <th>delta</th>\n",
       "      <th>seconds</th>\n",
       "      <th>measurement</th>\n",
       "    </tr>\n",
       "  </thead>\n",
       "  <tbody>\n",
       "    <tr>\n",
       "      <th>2023-04-16 08:47:14</th>\n",
       "      <td>0.0</td>\n",
       "      <td>0 days 00:00:00</td>\n",
       "      <td>0.0</td>\n",
       "      <td>1.0</td>\n",
       "    </tr>\n",
       "    <tr>\n",
       "      <th>2023-04-16 08:47:15</th>\n",
       "      <td>0.0</td>\n",
       "      <td>0 days 00:00:01</td>\n",
       "      <td>1.0</td>\n",
       "      <td>1.0</td>\n",
       "    </tr>\n",
       "    <tr>\n",
       "      <th>2023-04-16 08:47:16</th>\n",
       "      <td>0.0</td>\n",
       "      <td>0 days 00:00:02</td>\n",
       "      <td>2.0</td>\n",
       "      <td>1.0</td>\n",
       "    </tr>\n",
       "    <tr>\n",
       "      <th>2023-04-16 08:47:17</th>\n",
       "      <td>0.0</td>\n",
       "      <td>0 days 00:00:03</td>\n",
       "      <td>3.0</td>\n",
       "      <td>1.0</td>\n",
       "    </tr>\n",
       "    <tr>\n",
       "      <th>2023-04-16 08:47:18</th>\n",
       "      <td>0.0</td>\n",
       "      <td>0 days 00:00:04</td>\n",
       "      <td>4.0</td>\n",
       "      <td>1.0</td>\n",
       "    </tr>\n",
       "    <tr>\n",
       "      <th>...</th>\n",
       "      <td>...</td>\n",
       "      <td>...</td>\n",
       "      <td>...</td>\n",
       "      <td>...</td>\n",
       "    </tr>\n",
       "    <tr>\n",
       "      <th>2023-04-16 08:52:10</th>\n",
       "      <td>0.0</td>\n",
       "      <td>0 days 00:04:56</td>\n",
       "      <td>296.0</td>\n",
       "      <td>1.0</td>\n",
       "    </tr>\n",
       "    <tr>\n",
       "      <th>2023-04-16 08:52:11</th>\n",
       "      <td>0.0</td>\n",
       "      <td>0 days 00:04:57</td>\n",
       "      <td>297.0</td>\n",
       "      <td>1.0</td>\n",
       "    </tr>\n",
       "    <tr>\n",
       "      <th>2023-04-16 08:52:12</th>\n",
       "      <td>0.0</td>\n",
       "      <td>0 days 00:04:58</td>\n",
       "      <td>298.0</td>\n",
       "      <td>1.0</td>\n",
       "    </tr>\n",
       "    <tr>\n",
       "      <th>2023-04-16 08:52:13</th>\n",
       "      <td>0.0</td>\n",
       "      <td>0 days 00:04:59</td>\n",
       "      <td>299.0</td>\n",
       "      <td>1.0</td>\n",
       "    </tr>\n",
       "    <tr>\n",
       "      <th>2023-04-16 08:52:14</th>\n",
       "      <td>0.0</td>\n",
       "      <td>0 days 00:05:00</td>\n",
       "      <td>300.0</td>\n",
       "      <td>1.0</td>\n",
       "    </tr>\n",
       "  </tbody>\n",
       "</table>\n",
       "<p>301 rows × 4 columns</p>\n",
       "</div>"
      ],
      "text/plain": [
       "                     {device=\"sda\",instance=\"192.168.178.79:9100\",job=\"node\"}   \n",
       "2023-04-16 08:47:14                                                0.0         \\\n",
       "2023-04-16 08:47:15                                                0.0          \n",
       "2023-04-16 08:47:16                                                0.0          \n",
       "2023-04-16 08:47:17                                                0.0          \n",
       "2023-04-16 08:47:18                                                0.0          \n",
       "...                                                                ...          \n",
       "2023-04-16 08:52:10                                                0.0          \n",
       "2023-04-16 08:52:11                                                0.0          \n",
       "2023-04-16 08:52:12                                                0.0          \n",
       "2023-04-16 08:52:13                                                0.0          \n",
       "2023-04-16 08:52:14                                                0.0          \n",
       "\n",
       "                              delta  seconds  measurement  \n",
       "2023-04-16 08:47:14 0 days 00:00:00      0.0          1.0  \n",
       "2023-04-16 08:47:15 0 days 00:00:01      1.0          1.0  \n",
       "2023-04-16 08:47:16 0 days 00:00:02      2.0          1.0  \n",
       "2023-04-16 08:47:17 0 days 00:00:03      3.0          1.0  \n",
       "2023-04-16 08:47:18 0 days 00:00:04      4.0          1.0  \n",
       "...                             ...      ...          ...  \n",
       "2023-04-16 08:52:10 0 days 00:04:56    296.0          1.0  \n",
       "2023-04-16 08:52:11 0 days 00:04:57    297.0          1.0  \n",
       "2023-04-16 08:52:12 0 days 00:04:58    298.0          1.0  \n",
       "2023-04-16 08:52:13 0 days 00:04:59    299.0          1.0  \n",
       "2023-04-16 08:52:14 0 days 00:05:00    300.0          1.0  \n",
       "\n",
       "[301 rows x 4 columns]"
      ]
     },
     "metadata": {},
     "output_type": "display_data"
    }
   ],
   "source": [
    "total_disk_io_seconds = prepare_dataframe(Q_DISK_IO_SECONDS, bm)\n",
    "\n",
    "grouped_result = total_disk_io_seconds.groupby(level=0).mean()\n",
    "display(grouped_result)"
   ]
  },
  {
   "cell_type": "code",
   "execution_count": 56,
   "id": "38ac2475-9cc4-44fb-8abe-a2d6f7545e37",
   "metadata": {
    "tags": []
   },
   "outputs": [
    {
     "name": "stdout",
     "output_type": "stream",
     "text": [
      "[Measurement 1] Querying 'avg by (device) (rate(node_disk_io_time_seconds_total{device=~\"sda\"}[10s]))' from 1681634834 to 1681635134 with step 1s ...\n"
     ]
    },
    {
     "data": {
      "text/markdown": [
       "### Total "
      ],
      "text/plain": [
       "<IPython.core.display.Markdown object>"
      ]
     },
     "metadata": {},
     "output_type": "display_data"
    },
    {
     "data": {
      "text/html": [
       "<div>\n",
       "<style scoped>\n",
       "    .dataframe tbody tr th:only-of-type {\n",
       "        vertical-align: middle;\n",
       "    }\n",
       "\n",
       "    .dataframe tbody tr th {\n",
       "        vertical-align: top;\n",
       "    }\n",
       "\n",
       "    .dataframe thead th {\n",
       "        text-align: right;\n",
       "    }\n",
       "</style>\n",
       "<table border=\"1\" class=\"dataframe\">\n",
       "  <thead>\n",
       "    <tr style=\"text-align: right;\">\n",
       "      <th></th>\n",
       "      <th>epc1202Current{epc1202PowerIndex=\"1\",instance=\"pdu.local\",job=\"snmp\"}</th>\n",
       "      <th>epc1202PowerActive{epc1202PowerIndex=\"1\",instance=\"pdu.local\",job=\"snmp\"}</th>\n",
       "      <th>epc1202Voltage{epc1202PowerIndex=\"1\",instance=\"pdu.local\",job=\"snmp\"}</th>\n",
       "    </tr>\n",
       "  </thead>\n",
       "  <tbody>\n",
       "    <tr>\n",
       "      <th>count</th>\n",
       "      <td>301.000000</td>\n",
       "      <td>301.000000</td>\n",
       "      <td>301.000000</td>\n",
       "    </tr>\n",
       "    <tr>\n",
       "      <th>mean</th>\n",
       "      <td>262.259136</td>\n",
       "      <td>47.438538</td>\n",
       "      <td>237.239203</td>\n",
       "    </tr>\n",
       "    <tr>\n",
       "      <th>std</th>\n",
       "      <td>0.786951</td>\n",
       "      <td>0.497034</td>\n",
       "      <td>0.427307</td>\n",
       "    </tr>\n",
       "    <tr>\n",
       "      <th>min</th>\n",
       "      <td>261.000000</td>\n",
       "      <td>47.000000</td>\n",
       "      <td>237.000000</td>\n",
       "    </tr>\n",
       "    <tr>\n",
       "      <th>25%</th>\n",
       "      <td>262.000000</td>\n",
       "      <td>47.000000</td>\n",
       "      <td>237.000000</td>\n",
       "    </tr>\n",
       "    <tr>\n",
       "      <th>50%</th>\n",
       "      <td>262.000000</td>\n",
       "      <td>47.000000</td>\n",
       "      <td>237.000000</td>\n",
       "    </tr>\n",
       "    <tr>\n",
       "      <th>75%</th>\n",
       "      <td>263.000000</td>\n",
       "      <td>48.000000</td>\n",
       "      <td>237.000000</td>\n",
       "    </tr>\n",
       "    <tr>\n",
       "      <th>max</th>\n",
       "      <td>265.000000</td>\n",
       "      <td>48.000000</td>\n",
       "      <td>238.000000</td>\n",
       "    </tr>\n",
       "  </tbody>\n",
       "</table>\n",
       "</div>"
      ],
      "text/plain": [
       "       epc1202Current{epc1202PowerIndex=\"1\",instance=\"pdu.local\",job=\"snmp\"}   \n",
       "count                                         301.000000                      \\\n",
       "mean                                          262.259136                       \n",
       "std                                             0.786951                       \n",
       "min                                           261.000000                       \n",
       "25%                                           262.000000                       \n",
       "50%                                           262.000000                       \n",
       "75%                                           263.000000                       \n",
       "max                                           265.000000                       \n",
       "\n",
       "       epc1202PowerActive{epc1202PowerIndex=\"1\",instance=\"pdu.local\",job=\"snmp\"}   \n",
       "count                                         301.000000                          \\\n",
       "mean                                           47.438538                           \n",
       "std                                             0.497034                           \n",
       "min                                            47.000000                           \n",
       "25%                                            47.000000                           \n",
       "50%                                            47.000000                           \n",
       "75%                                            48.000000                           \n",
       "max                                            48.000000                           \n",
       "\n",
       "       epc1202Voltage{epc1202PowerIndex=\"1\",instance=\"pdu.local\",job=\"snmp\"}  \n",
       "count                                         301.000000                      \n",
       "mean                                          237.239203                      \n",
       "std                                             0.427307                      \n",
       "min                                           237.000000                      \n",
       "25%                                           237.000000                      \n",
       "50%                                           237.000000                      \n",
       "75%                                           237.000000                      \n",
       "max                                           238.000000                      "
      ]
     },
     "metadata": {},
     "output_type": "display_data"
    },
    {
     "data": {
      "text/markdown": [
       "### Per Measurement"
      ],
      "text/plain": [
       "<IPython.core.display.Markdown object>"
      ]
     },
     "metadata": {},
     "output_type": "display_data"
    },
    {
     "data": {
      "text/plain": [
       "                                                                                  measurement\n",
       "delta                                                                      count  1                          301\n",
       "                                                                           mean   1              0 days 00:02:30\n",
       "                                                                           std    1              0 days 00:01:27\n",
       "                                                                           min    1              0 days 00:00:00\n",
       "                                                                           25%    1              0 days 00:01:15\n",
       "                                                                           50%    1              0 days 00:02:30\n",
       "                                                                           75%    1              0 days 00:03:45\n",
       "                                                                           max    1              0 days 00:05:00\n",
       "epc1202Current{epc1202PowerIndex=\"1\",instance=\"pdu.local\",job=\"snmp\"}      count  1                        301.0\n",
       "                                                                           mean   1                   262.259136\n",
       "                                                                           std    1                     0.786951\n",
       "                                                                           min    1                        261.0\n",
       "                                                                           25%    1                        262.0\n",
       "                                                                           50%    1                        262.0\n",
       "                                                                           75%    1                        263.0\n",
       "                                                                           max    1                        265.0\n",
       "epc1202PowerActive{epc1202PowerIndex=\"1\",instance=\"pdu.local\",job=\"snmp\"}  count  1                        301.0\n",
       "                                                                           mean   1                    47.438538\n",
       "                                                                           std    1                     0.497034\n",
       "                                                                           min    1                         47.0\n",
       "                                                                           25%    1                         47.0\n",
       "                                                                           50%    1                         47.0\n",
       "                                                                           75%    1                         48.0\n",
       "                                                                           max    1                         48.0\n",
       "epc1202Voltage{epc1202PowerIndex=\"1\",instance=\"pdu.local\",job=\"snmp\"}      count  1                        301.0\n",
       "                                                                           mean   1                   237.239203\n",
       "                                                                           std    1                     0.427307\n",
       "                                                                           min    1                        237.0\n",
       "                                                                           25%    1                        237.0\n",
       "                                                                           50%    1                        237.0\n",
       "                                                                           75%    1                        237.0\n",
       "                                                                           max    1                        238.0\n",
       "dtype: object"
      ]
     },
     "metadata": {},
     "output_type": "display_data"
    }
   ],
   "source": [
    "disk_io_rate = prepare_dataframe(Q_DISK_IO_RATE, bm)\n",
    "describe_measurement_dataframe(power_metrics)\n",
    "\n",
    "grouped_mean = disk_io_rate.groupby(by=['seconds']).mean()\n",
    "grouped_mean.drop(['measurement', 'delta'], inplace=True, axis=1)\n",
    "# grouped_mean.plot(drawstyle='steps',figsize=(10,3),ylabel='I/O seconds')"
   ]
  },
  {
   "cell_type": "markdown",
   "id": "bc84e41c-229a-45aa-86e9-957fd6ad875f",
   "metadata": {},
   "source": [
    "# Interrupts"
   ]
  },
  {
   "cell_type": "code",
   "execution_count": 57,
   "id": "82552976-55c5-46eb-a55a-b5d1f91428a2",
   "metadata": {
    "tags": []
   },
   "outputs": [
    {
     "name": "stdout",
     "output_type": "stream",
     "text": [
      "[Measurement 1] Querying 'sum by (devices, type) (idelta(node_interrupts_total{devices=\"\"}[10s]) > 0)' from 1681634834 to 1681635134 with step 1s ...\n"
     ]
    },
    {
     "data": {
      "text/markdown": [
       "### Total "
      ],
      "text/plain": [
       "<IPython.core.display.Markdown object>"
      ]
     },
     "metadata": {},
     "output_type": "display_data"
    },
    {
     "data": {
      "text/html": [
       "<div>\n",
       "<style scoped>\n",
       "    .dataframe tbody tr th:only-of-type {\n",
       "        vertical-align: middle;\n",
       "    }\n",
       "\n",
       "    .dataframe tbody tr th {\n",
       "        vertical-align: top;\n",
       "    }\n",
       "\n",
       "    .dataframe thead th {\n",
       "        text-align: right;\n",
       "    }\n",
       "</style>\n",
       "<table border=\"1\" class=\"dataframe\">\n",
       "  <thead>\n",
       "    <tr style=\"text-align: right;\">\n",
       "      <th></th>\n",
       "      <th>{type=\"CAL\"}</th>\n",
       "      <th>{type=\"LOC\"}</th>\n",
       "      <th>{type=\"MCP\"}</th>\n",
       "      <th>{type=\"RES\"}</th>\n",
       "      <th>{type=\"TLB\"}</th>\n",
       "    </tr>\n",
       "  </thead>\n",
       "  <tbody>\n",
       "    <tr>\n",
       "      <th>count</th>\n",
       "      <td>301.000000</td>\n",
       "      <td>301.000000</td>\n",
       "      <td>1.0</td>\n",
       "      <td>301.000000</td>\n",
       "      <td>103.000000</td>\n",
       "    </tr>\n",
       "    <tr>\n",
       "      <th>mean</th>\n",
       "      <td>62.375415</td>\n",
       "      <td>331.524917</td>\n",
       "      <td>16.0</td>\n",
       "      <td>2.641196</td>\n",
       "      <td>6.087379</td>\n",
       "    </tr>\n",
       "    <tr>\n",
       "      <th>std</th>\n",
       "      <td>29.139354</td>\n",
       "      <td>154.011808</td>\n",
       "      <td>NaN</td>\n",
       "      <td>4.332532</td>\n",
       "      <td>4.850928</td>\n",
       "    </tr>\n",
       "    <tr>\n",
       "      <th>min</th>\n",
       "      <td>13.000000</td>\n",
       "      <td>82.000000</td>\n",
       "      <td>16.0</td>\n",
       "      <td>1.000000</td>\n",
       "      <td>1.000000</td>\n",
       "    </tr>\n",
       "    <tr>\n",
       "      <th>25%</th>\n",
       "      <td>40.000000</td>\n",
       "      <td>220.000000</td>\n",
       "      <td>16.0</td>\n",
       "      <td>2.000000</td>\n",
       "      <td>2.000000</td>\n",
       "    </tr>\n",
       "    <tr>\n",
       "      <th>50%</th>\n",
       "      <td>57.000000</td>\n",
       "      <td>308.000000</td>\n",
       "      <td>16.0</td>\n",
       "      <td>2.000000</td>\n",
       "      <td>5.000000</td>\n",
       "    </tr>\n",
       "    <tr>\n",
       "      <th>75%</th>\n",
       "      <td>80.000000</td>\n",
       "      <td>428.000000</td>\n",
       "      <td>16.0</td>\n",
       "      <td>2.000000</td>\n",
       "      <td>9.000000</td>\n",
       "    </tr>\n",
       "    <tr>\n",
       "      <th>max</th>\n",
       "      <td>138.000000</td>\n",
       "      <td>778.000000</td>\n",
       "      <td>16.0</td>\n",
       "      <td>58.000000</td>\n",
       "      <td>27.000000</td>\n",
       "    </tr>\n",
       "  </tbody>\n",
       "</table>\n",
       "</div>"
      ],
      "text/plain": [
       "       {type=\"CAL\"}  {type=\"LOC\"}  {type=\"MCP\"}  {type=\"RES\"}  {type=\"TLB\"}\n",
       "count    301.000000    301.000000           1.0    301.000000    103.000000\n",
       "mean      62.375415    331.524917          16.0      2.641196      6.087379\n",
       "std       29.139354    154.011808           NaN      4.332532      4.850928\n",
       "min       13.000000     82.000000          16.0      1.000000      1.000000\n",
       "25%       40.000000    220.000000          16.0      2.000000      2.000000\n",
       "50%       57.000000    308.000000          16.0      2.000000      5.000000\n",
       "75%       80.000000    428.000000          16.0      2.000000      9.000000\n",
       "max      138.000000    778.000000          16.0     58.000000     27.000000"
      ]
     },
     "metadata": {},
     "output_type": "display_data"
    },
    {
     "data": {
      "text/markdown": [
       "### Per Measurement"
      ],
      "text/plain": [
       "<IPython.core.display.Markdown object>"
      ]
     },
     "metadata": {},
     "output_type": "display_data"
    },
    {
     "data": {
      "text/plain": [
       "                     measurement\n",
       "delta         count  1                          301\n",
       "              mean   1              0 days 00:02:30\n",
       "              std    1              0 days 00:01:27\n",
       "              min    1              0 days 00:00:00\n",
       "              25%    1              0 days 00:01:15\n",
       "              50%    1              0 days 00:02:30\n",
       "              75%    1              0 days 00:03:45\n",
       "              max    1              0 days 00:05:00\n",
       "{type=\"CAL\"}  count  1                        301.0\n",
       "              mean   1                    62.375415\n",
       "              std    1                    29.139354\n",
       "              min    1                         13.0\n",
       "              25%    1                         40.0\n",
       "              50%    1                         57.0\n",
       "              75%    1                         80.0\n",
       "              max    1                        138.0\n",
       "{type=\"LOC\"}  count  1                        301.0\n",
       "              mean   1                   331.524917\n",
       "              std    1                   154.011808\n",
       "              min    1                         82.0\n",
       "              25%    1                        220.0\n",
       "              50%    1                        308.0\n",
       "              75%    1                        428.0\n",
       "              max    1                        778.0\n",
       "{type=\"MCP\"}  count  1                          1.0\n",
       "              mean   1                         16.0\n",
       "              std    1                          NaN\n",
       "              min    1                         16.0\n",
       "              25%    1                         16.0\n",
       "              50%    1                         16.0\n",
       "              75%    1                         16.0\n",
       "              max    1                         16.0\n",
       "{type=\"RES\"}  count  1                        301.0\n",
       "              mean   1                     2.641196\n",
       "              std    1                     4.332532\n",
       "              min    1                          1.0\n",
       "              25%    1                          2.0\n",
       "              50%    1                          2.0\n",
       "              75%    1                          2.0\n",
       "              max    1                         58.0\n",
       "{type=\"TLB\"}  count  1                        103.0\n",
       "              mean   1                     6.087379\n",
       "              std    1                     4.850928\n",
       "              min    1                          1.0\n",
       "              25%    1                          2.0\n",
       "              50%    1                          5.0\n",
       "              75%    1                          9.0\n",
       "              max    1                         27.0\n",
       "dtype: object"
      ]
     },
     "metadata": {},
     "output_type": "display_data"
    },
    {
     "data": {
      "text/html": [
       "<div>\n",
       "<style scoped>\n",
       "    .dataframe tbody tr th:only-of-type {\n",
       "        vertical-align: middle;\n",
       "    }\n",
       "\n",
       "    .dataframe tbody tr th {\n",
       "        vertical-align: top;\n",
       "    }\n",
       "\n",
       "    .dataframe thead th {\n",
       "        text-align: right;\n",
       "    }\n",
       "</style>\n",
       "<table border=\"1\" class=\"dataframe\">\n",
       "  <thead>\n",
       "    <tr style=\"text-align: right;\">\n",
       "      <th></th>\n",
       "      <th>{type=\"CAL\"}</th>\n",
       "      <th>{type=\"LOC\"}</th>\n",
       "      <th>{type=\"MCP\"}</th>\n",
       "      <th>{type=\"RES\"}</th>\n",
       "      <th>{type=\"TLB\"}</th>\n",
       "      <th>delta</th>\n",
       "      <th>seconds</th>\n",
       "    </tr>\n",
       "  </thead>\n",
       "  <tbody>\n",
       "    <tr>\n",
       "      <th>2023-04-16 08:47:14</th>\n",
       "      <td>127.0</td>\n",
       "      <td>525.0</td>\n",
       "      <td>NaN</td>\n",
       "      <td>2.0</td>\n",
       "      <td>21.0</td>\n",
       "      <td>0 days 00:00:00</td>\n",
       "      <td>0.0</td>\n",
       "    </tr>\n",
       "    <tr>\n",
       "      <th>2023-04-16 08:47:15</th>\n",
       "      <td>62.0</td>\n",
       "      <td>342.0</td>\n",
       "      <td>NaN</td>\n",
       "      <td>2.0</td>\n",
       "      <td>NaN</td>\n",
       "      <td>0 days 00:00:01</td>\n",
       "      <td>1.0</td>\n",
       "    </tr>\n",
       "    <tr>\n",
       "      <th>2023-04-16 08:47:16</th>\n",
       "      <td>51.0</td>\n",
       "      <td>318.0</td>\n",
       "      <td>NaN</td>\n",
       "      <td>2.0</td>\n",
       "      <td>NaN</td>\n",
       "      <td>0 days 00:00:02</td>\n",
       "      <td>2.0</td>\n",
       "    </tr>\n",
       "    <tr>\n",
       "      <th>2023-04-16 08:47:17</th>\n",
       "      <td>71.0</td>\n",
       "      <td>282.0</td>\n",
       "      <td>NaN</td>\n",
       "      <td>2.0</td>\n",
       "      <td>NaN</td>\n",
       "      <td>0 days 00:00:03</td>\n",
       "      <td>3.0</td>\n",
       "    </tr>\n",
       "    <tr>\n",
       "      <th>2023-04-16 08:47:18</th>\n",
       "      <td>74.0</td>\n",
       "      <td>441.0</td>\n",
       "      <td>NaN</td>\n",
       "      <td>2.0</td>\n",
       "      <td>NaN</td>\n",
       "      <td>0 days 00:00:04</td>\n",
       "      <td>4.0</td>\n",
       "    </tr>\n",
       "    <tr>\n",
       "      <th>...</th>\n",
       "      <td>...</td>\n",
       "      <td>...</td>\n",
       "      <td>...</td>\n",
       "      <td>...</td>\n",
       "      <td>...</td>\n",
       "      <td>...</td>\n",
       "      <td>...</td>\n",
       "    </tr>\n",
       "    <tr>\n",
       "      <th>2023-04-16 08:52:10</th>\n",
       "      <td>67.0</td>\n",
       "      <td>408.0</td>\n",
       "      <td>NaN</td>\n",
       "      <td>2.0</td>\n",
       "      <td>NaN</td>\n",
       "      <td>0 days 00:04:56</td>\n",
       "      <td>296.0</td>\n",
       "    </tr>\n",
       "    <tr>\n",
       "      <th>2023-04-16 08:52:11</th>\n",
       "      <td>40.0</td>\n",
       "      <td>190.0</td>\n",
       "      <td>NaN</td>\n",
       "      <td>2.0</td>\n",
       "      <td>NaN</td>\n",
       "      <td>0 days 00:04:57</td>\n",
       "      <td>297.0</td>\n",
       "    </tr>\n",
       "    <tr>\n",
       "      <th>2023-04-16 08:52:12</th>\n",
       "      <td>37.0</td>\n",
       "      <td>185.0</td>\n",
       "      <td>NaN</td>\n",
       "      <td>2.0</td>\n",
       "      <td>NaN</td>\n",
       "      <td>0 days 00:04:58</td>\n",
       "      <td>298.0</td>\n",
       "    </tr>\n",
       "    <tr>\n",
       "      <th>2023-04-16 08:52:13</th>\n",
       "      <td>55.0</td>\n",
       "      <td>304.0</td>\n",
       "      <td>NaN</td>\n",
       "      <td>2.0</td>\n",
       "      <td>10.0</td>\n",
       "      <td>0 days 00:04:59</td>\n",
       "      <td>299.0</td>\n",
       "    </tr>\n",
       "    <tr>\n",
       "      <th>2023-04-16 08:52:14</th>\n",
       "      <td>71.0</td>\n",
       "      <td>393.0</td>\n",
       "      <td>NaN</td>\n",
       "      <td>2.0</td>\n",
       "      <td>NaN</td>\n",
       "      <td>0 days 00:05:00</td>\n",
       "      <td>300.0</td>\n",
       "    </tr>\n",
       "  </tbody>\n",
       "</table>\n",
       "<p>301 rows × 7 columns</p>\n",
       "</div>"
      ],
      "text/plain": [
       "                     {type=\"CAL\"}  {type=\"LOC\"}  {type=\"MCP\"}  {type=\"RES\"}   \n",
       "2023-04-16 08:47:14         127.0         525.0           NaN           2.0  \\\n",
       "2023-04-16 08:47:15          62.0         342.0           NaN           2.0   \n",
       "2023-04-16 08:47:16          51.0         318.0           NaN           2.0   \n",
       "2023-04-16 08:47:17          71.0         282.0           NaN           2.0   \n",
       "2023-04-16 08:47:18          74.0         441.0           NaN           2.0   \n",
       "...                           ...           ...           ...           ...   \n",
       "2023-04-16 08:52:10          67.0         408.0           NaN           2.0   \n",
       "2023-04-16 08:52:11          40.0         190.0           NaN           2.0   \n",
       "2023-04-16 08:52:12          37.0         185.0           NaN           2.0   \n",
       "2023-04-16 08:52:13          55.0         304.0           NaN           2.0   \n",
       "2023-04-16 08:52:14          71.0         393.0           NaN           2.0   \n",
       "\n",
       "                     {type=\"TLB\"}           delta  seconds  \n",
       "2023-04-16 08:47:14          21.0 0 days 00:00:00      0.0  \n",
       "2023-04-16 08:47:15           NaN 0 days 00:00:01      1.0  \n",
       "2023-04-16 08:47:16           NaN 0 days 00:00:02      2.0  \n",
       "2023-04-16 08:47:17           NaN 0 days 00:00:03      3.0  \n",
       "2023-04-16 08:47:18           NaN 0 days 00:00:04      4.0  \n",
       "...                           ...             ...      ...  \n",
       "2023-04-16 08:52:10           NaN 0 days 00:04:56    296.0  \n",
       "2023-04-16 08:52:11           NaN 0 days 00:04:57    297.0  \n",
       "2023-04-16 08:52:12           NaN 0 days 00:04:58    298.0  \n",
       "2023-04-16 08:52:13          10.0 0 days 00:04:59    299.0  \n",
       "2023-04-16 08:52:14           NaN 0 days 00:05:00    300.0  \n",
       "\n",
       "[301 rows x 7 columns]"
      ]
     },
     "metadata": {},
     "output_type": "display_data"
    }
   ],
   "source": [
    "interrupts = prepare_dataframe(Q_INTERRUPTS, bm)\n",
    "describe_measurement_dataframe(interrupts)\n",
    "\n",
    "grouped_mean = interrupts.groupby(level=0).mean()\n",
    "grouped_mean.drop(['measurement'], inplace=True, axis=1)\n",
    "display(grouped_mean)\n",
    "# grouped_mean.plot.bar(ylabel='Interrupts')"
   ]
  },
  {
   "cell_type": "markdown",
   "id": "95be6712-5283-4af2-acb8-d0d35153dc16",
   "metadata": {},
   "source": [
    "# Software Experiment"
   ]
  },
  {
   "cell_type": "code",
   "execution_count": 58,
   "id": "01ad5722-2a08-4755-bec5-9d124f369522",
   "metadata": {
    "tags": []
   },
   "outputs": [],
   "source": [
    "# Those are the variants we have measured\n",
    "VARIANTS=[\"no-cache\", \"caffeine-cache\", \"redis-cache\", \"caffeine-redis-cache\"]"
   ]
  },
  {
   "cell_type": "code",
   "execution_count": 59,
   "id": "8176e0c7",
   "metadata": {
    "tags": []
   },
   "outputs": [
    {
     "data": {
      "text/markdown": [
       "# no-cache"
      ],
      "text/plain": [
       "<IPython.core.display.Markdown object>"
      ]
     },
     "metadata": {},
     "output_type": "display_data"
    },
    {
     "name": "stdout",
     "output_type": "stream",
     "text": [
      "[Measurement 1] Querying '{__name__=~\"epc1202PowerActive|epc1202Current|epc1202Voltage\"}' from 1682066029 to 1682066142 with step 1s ...\n",
      "[Measurement 2] Querying '{__name__=~\"epc1202PowerActive|epc1202Current|epc1202Voltage\"}' from 1682066892 to 1682067006 with step 1s ...\n",
      "[Measurement 1] Querying 'avg by (mode) (rate(node_cpu_seconds_total[10s]) * 100)' from 1682066029 to 1682066142 with step 1s ...\n",
      "[Measurement 2] Querying 'avg by (mode) (rate(node_cpu_seconds_total[10s]) * 100)' from 1682066892 to 1682067006 with step 1s ...\n",
      "[Measurement 1] Querying 'avg by (instance) (node_cpu_scaling_frequency_hertz)' from 1682066029 to 1682066142 with step 1s ...\n",
      "[Measurement 2] Querying 'avg by (instance) (node_cpu_scaling_frequency_hertz)' from 1682066892 to 1682067006 with step 1s ...\n",
      "[Measurement 1] Querying '\n",
      "      100 * (1 - ((avg_over_time(node_memory_MemFree_bytes[10s]) + avg_over_time(node_memory_Cached_bytes[10s]) + avg_over_time(node_memory_Buffers_bytes[10s])) / avg_over_time(node_memory_MemTotal_bytes[10s])))\n",
      "    ' from 1682066029 to 1682066142 with step 1s ...\n",
      "[Measurement 2] Querying '\n",
      "      100 * (1 - ((avg_over_time(node_memory_MemFree_bytes[10s]) + avg_over_time(node_memory_Cached_bytes[10s]) + avg_over_time(node_memory_Buffers_bytes[10s])) / avg_over_time(node_memory_MemTotal_bytes[10s])))\n",
      "    ' from 1682066892 to 1682067006 with step 1s ...\n"
     ]
    },
    {
     "data": {
      "image/png": "[encoded data removed]",
      "text/plain": [
       "<Figure size 1000x300 with 1 Axes>"
      ]
     },
     "metadata": {},
     "output_type": "display_data"
    },
    {
     "data": {
      "image/png": "[encoded data removed]",
      "text/plain": [
       "<Figure size 1000x300 with 1 Axes>"
      ]
     },
     "metadata": {},
     "output_type": "display_data"
    },
    {
     "data": {
      "image/png": "[encoded data removed]",
      "text/plain": [
       "<Figure size 1000x300 with 1 Axes>"
      ]
     },
     "metadata": {},
     "output_type": "display_data"
    },
    {
     "data": {
      "image/png": "[encoded data removed]",
      "text/plain": [
       "<Figure size 1000x300 with 1 Axes>"
      ]
     },
     "metadata": {},
     "output_type": "display_data"
    },
    {
     "data": {
      "image/png": "[encoded data removed]",
      "text/plain": [
       "<Figure size 500x500 with 1 Axes>"
      ]
     },
     "metadata": {},
     "output_type": "display_data"
    },
    {
     "data": {
      "text/markdown": [
       "# caffeine-cache"
      ],
      "text/plain": [
       "<IPython.core.display.Markdown object>"
      ]
     },
     "metadata": {},
     "output_type": "display_data"
    },
    {
     "name": "stdout",
     "output_type": "stream",
     "text": [
      "[Measurement 1] Querying '{__name__=~\"epc1202PowerActive|epc1202Current|epc1202Voltage\"}' from 1682066243 to 1682066355 with step 1s ...\n",
      "[Measurement 2] Querying '{__name__=~\"epc1202PowerActive|epc1202Current|epc1202Voltage\"}' from 1682067107 to 1682067220 with step 1s ...\n",
      "[Measurement 1] Querying 'avg by (mode) (rate(node_cpu_seconds_total[10s]) * 100)' from 1682066243 to 1682066355 with step 1s ...\n",
      "[Measurement 2] Querying 'avg by (mode) (rate(node_cpu_seconds_total[10s]) * 100)' from 1682067107 to 1682067220 with step 1s ...\n",
      "[Measurement 1] Querying 'avg by (instance) (node_cpu_scaling_frequency_hertz)' from 1682066243 to 1682066355 with step 1s ...\n",
      "[Measurement 2] Querying 'avg by (instance) (node_cpu_scaling_frequency_hertz)' from 1682067107 to 1682067220 with step 1s ...\n",
      "[Measurement 1] Querying '\n",
      "      100 * (1 - ((avg_over_time(node_memory_MemFree_bytes[10s]) + avg_over_time(node_memory_Cached_bytes[10s]) + avg_over_time(node_memory_Buffers_bytes[10s])) / avg_over_time(node_memory_MemTotal_bytes[10s])))\n",
      "    ' from 1682066243 to 1682066355 with step 1s ...\n",
      "[Measurement 2] Querying '\n",
      "      100 * (1 - ((avg_over_time(node_memory_MemFree_bytes[10s]) + avg_over_time(node_memory_Cached_bytes[10s]) + avg_over_time(node_memory_Buffers_bytes[10s])) / avg_over_time(node_memory_MemTotal_bytes[10s])))\n",
      "    ' from 1682067107 to 1682067220 with step 1s ...\n"
     ]
    },
    {
     "data": {
      "image/png": "[encoded data removed]",
      "text/plain": [
       "<Figure size 1000x300 with 1 Axes>"
      ]
     },
     "metadata": {},
     "output_type": "display_data"
    },
    {
     "data": {
      "image/png": "[encoded data removed]",
      "text/plain": [
       "<Figure size 1000x300 with 1 Axes>"
      ]
     },
     "metadata": {},
     "output_type": "display_data"
    },
    {
     "data": {
      "image/png": "[encoded data removed]",
      "text/plain": [
       "<Figure size 1000x300 with 1 Axes>"
      ]
     },
     "metadata": {},
     "output_type": "display_data"
    },
    {
     "data": {
      "image/png": "[encoded data removed]",
      "text/plain": [
       "<Figure size 1000x300 with 1 Axes>"
      ]
     },
     "metadata": {},
     "output_type": "display_data"
    },
    {
     "data": {
      "image/png": "[encoded data removed]",
      "text/plain": [
       "<Figure size 500x500 with 1 Axes>"
      ]
     },
     "metadata": {},
     "output_type": "display_data"
    },
    {
     "data": {
      "text/markdown": [
       "# redis-cache"
      ],
      "text/plain": [
       "<IPython.core.display.Markdown object>"
      ]
     },
     "metadata": {},
     "output_type": "display_data"
    },
    {
     "name": "stdout",
     "output_type": "stream",
     "text": [
      "[Measurement 1] Querying '{__name__=~\"epc1202PowerActive|epc1202Current|epc1202Voltage\"}' from 1682066456 to 1682066569 with step 1s ...\n",
      "[Measurement 2] Querying '{__name__=~\"epc1202PowerActive|epc1202Current|epc1202Voltage\"}' from 1682067321 to 1682067434 with step 1s ...\n",
      "[Measurement 1] Querying 'avg by (mode) (rate(node_cpu_seconds_total[10s]) * 100)' from 1682066456 to 1682066569 with step 1s ...\n",
      "[Measurement 2] Querying 'avg by (mode) (rate(node_cpu_seconds_total[10s]) * 100)' from 1682067321 to 1682067434 with step 1s ...\n",
      "[Measurement 1] Querying 'avg by (instance) (node_cpu_scaling_frequency_hertz)' from 1682066456 to 1682066569 with step 1s ...\n",
      "[Measurement 2] Querying 'avg by (instance) (node_cpu_scaling_frequency_hertz)' from 1682067321 to 1682067434 with step 1s ...\n",
      "[Measurement 1] Querying '\n",
      "      100 * (1 - ((avg_over_time(node_memory_MemFree_bytes[10s]) + avg_over_time(node_memory_Cached_bytes[10s]) + avg_over_time(node_memory_Buffers_bytes[10s])) / avg_over_time(node_memory_MemTotal_bytes[10s])))\n",
      "    ' from 1682066456 to 1682066569 with step 1s ...\n",
      "[Measurement 2] Querying '\n",
      "      100 * (1 - ((avg_over_time(node_memory_MemFree_bytes[10s]) + avg_over_time(node_memory_Cached_bytes[10s]) + avg_over_time(node_memory_Buffers_bytes[10s])) / avg_over_time(node_memory_MemTotal_bytes[10s])))\n",
      "    ' from 1682067321 to 1682067434 with step 1s ...\n"
     ]
    },
    {
     "data": {
      "image/png": "[encoded data removed]",
      "text/plain": [
       "<Figure size 1000x300 with 1 Axes>"
      ]
     },
     "metadata": {},
     "output_type": "display_data"
    },
    {
     "data": {
      "image/png": "[encoded data removed]",
      "text/plain": [
       "<Figure size 1000x300 with 1 Axes>"
      ]
     },
     "metadata": {},
     "output_type": "display_data"
    },
    {
     "data": {
      "image/png": "[encoded data removed]",
      "text/plain": [
       "<Figure size 1000x300 with 1 Axes>"
      ]
     },
     "metadata": {},
     "output_type": "display_data"
    },
    {
     "data": {
      "image/png": "[encoded data removed]",
      "text/plain": [
       "<Figure size 1000x300 with 1 Axes>"
      ]
     },
     "metadata": {},
     "output_type": "display_data"
    },
    {
     "data": {
      "image/png": "[encoded data removed]",
      "text/plain": [
       "<Figure size 500x500 with 1 Axes>"
      ]
     },
     "metadata": {},
     "output_type": "display_data"
    },
    {
     "data": {
      "text/markdown": [
       "# caffeine-redis-cache"
      ],
      "text/plain": [
       "<IPython.core.display.Markdown object>"
      ]
     },
     "metadata": {},
     "output_type": "display_data"
    },
    {
     "name": "stdout",
     "output_type": "stream",
     "text": [
      "[Measurement 1] Querying '{__name__=~\"epc1202PowerActive|epc1202Current|epc1202Voltage\"}' from 1682066672 to 1682066784 with step 1s ...\n",
      "[Measurement 2] Querying '{__name__=~\"epc1202PowerActive|epc1202Current|epc1202Voltage\"}' from 1682067536 to 1682067649 with step 1s ...\n",
      "[Measurement 1] Querying 'avg by (mode) (rate(node_cpu_seconds_total[10s]) * 100)' from 1682066672 to 1682066784 with step 1s ...\n",
      "[Measurement 2] Querying 'avg by (mode) (rate(node_cpu_seconds_total[10s]) * 100)' from 1682067536 to 1682067649 with step 1s ...\n",
      "[Measurement 1] Querying 'avg by (instance) (node_cpu_scaling_frequency_hertz)' from 1682066672 to 1682066784 with step 1s ...\n",
      "[Measurement 2] Querying 'avg by (instance) (node_cpu_scaling_frequency_hertz)' from 1682067536 to 1682067649 with step 1s ...\n",
      "[Measurement 1] Querying '\n",
      "      100 * (1 - ((avg_over_time(node_memory_MemFree_bytes[10s]) + avg_over_time(node_memory_Cached_bytes[10s]) + avg_over_time(node_memory_Buffers_bytes[10s])) / avg_over_time(node_memory_MemTotal_bytes[10s])))\n",
      "    ' from 1682066672 to 1682066784 with step 1s ...\n",
      "[Measurement 2] Querying '\n",
      "      100 * (1 - ((avg_over_time(node_memory_MemFree_bytes[10s]) + avg_over_time(node_memory_Cached_bytes[10s]) + avg_over_time(node_memory_Buffers_bytes[10s])) / avg_over_time(node_memory_MemTotal_bytes[10s])))\n",
      "    ' from 1682067536 to 1682067649 with step 1s ...\n"
     ]
    },
    {
     "data": {
      "image/png": "[encoded data removed]",
      "text/plain": [
       "<Figure size 1000x300 with 1 Axes>"
      ]
     },
     "metadata": {},
     "output_type": "display_data"
    },
    {
     "data": {
      "image/png": "[encoded data removed]",
      "text/plain": [
       "<Figure size 1000x300 with 1 Axes>"
      ]
     },
     "metadata": {},
     "output_type": "display_data"
    },
    {
     "data": {
      "image/png": "[encoded data removed]",
      "text/plain": [
       "<Figure size 1000x300 with 1 Axes>"
      ]
     },
     "metadata": {},
     "output_type": "display_data"
    },
    {
     "data": {
      "image/png": "[encoded data removed]",
      "text/plain": [
       "<Figure size 1000x300 with 1 Axes>"
      ]
     },
     "metadata": {},
     "output_type": "display_data"
    },
    {
     "data": {
      "image/png": "[encoded data removed]",
      "text/plain": [
       "<Figure size 500x500 with 1 Axes>"
      ]
     },
     "metadata": {},
     "output_type": "display_data"
    }
   ],
   "source": [
    "data_measurement = pd.read_csv(\"benchmark-log.csv\")\n",
    "\n",
    "for v in VARIANTS:\n",
    "    display(Markdown(\"# \" + v))\n",
    "    df = data_measurement.loc[data_measurement['Variant'] == v]\n",
    "    power_metrics = prepare_dataframe(Q_POWER, df)\n",
    "    power_metrics.columns = ['Current', 'Watts', 'Voltage', 'delta', 'seconds', 'measurement']\n",
    "    grouped_mean = power_metrics.groupby(by=['seconds']).mean()\n",
    "    grouped_mean.drop(['measurement', 'delta'], inplace=True, axis=1)\n",
    "    grouped_mean.plot(drawstyle='steps',y='Watts',figsize=(10,3),ylabel='W')\n",
    "\n",
    "    cpu_utilization = prepare_dataframe(Q_CPU_UTILIZATION, df)\n",
    "    grouped_mean = cpu_utilization.groupby(by=['seconds']).mean()\n",
    "    grouped_mean.drop(['measurement', 'delta'], inplace=True, axis=1)\n",
    "    grouped_mean.plot(y=['{mode=\"user\"}','{mode=\"system\"}'],drawstyle='steps',figsize=(10,3),ylabel='%')\n",
    "\n",
    "    cpu_frequency = prepare_dataframe(Q_CPU_FREQUENCY, df)\n",
    "    grouped_mean = cpu_frequency.groupby(by=['seconds']).mean()\n",
    "    grouped_mean.drop(['measurement', 'delta'], inplace=True, axis=1)\n",
    "    grouped_mean.plot(drawstyle='steps',figsize=(10,3),ylabel='Hz')\n",
    "\n",
    "    memory_usage = prepare_dataframe(Q_MEMORY_USAGE, df)\n",
    "    grouped_mean = memory_usage.groupby(by=['seconds']).mean()\n",
    "    grouped_mean.drop(['measurement', 'delta'], inplace=True, axis=1)\n",
    "    grouped_mean.plot(drawstyle='steps',figsize=(10,3),ylabel='%')\n",
    "\n",
    "    # interrupts = prepare_interrupts(df)\n",
    "    # grouped_mean = interrupts.groupby(level=0).mean()\n",
    "    # grouped_mean.drop(['measurement'], inplace=True, axis=1)\n",
    "    # display(grouped_mean)\n",
    "\n",
    "    # disk_io_rate = prepare_disk_io_rate(df)\n",
    "    # grouped_mean = disk_io_rate.groupby(by=['seconds']).mean()\n",
    "    # grouped_mean.drop(['measurement'], inplace=True, axis=1)\n",
    "    # grouped_mean.plot(drawstyle='steps',figsize=(10,3),ylabel='I/O seconds')\n",
    "\n",
    "    fg = sns.lmplot(\n",
    "        data=power_metrics.reset_index(), x=\"seconds\", y=\"Watts\", scatter=True\n",
    "    )\n",
    "    fg.set_xlabels(\"Time (s)\")\n",
    "    fg.set_ylabels(\"Watts (W)\")\n",
    "    plt.show(fg)    "
   ]
  }
 ],
 "metadata": {
  "kernelspec": {
   "display_name": "Python 3 (ipykernel)",
   "language": "python",
   "name": "python3"
  },
  "language_info": {
   "codemirror_mode": {
    "name": "ipython",
    "version": 3
   },
   "file_extension": ".py",
   "mimetype": "text/x-python",
   "name": "python",
   "nbconvert_exporter": "python",
   "pygments_lexer": "ipython3",
   "version": "3.10.10"
  }
 },
 "nbformat": 4,
 "nbformat_minor": 5
}
